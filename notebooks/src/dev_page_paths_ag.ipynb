{
 "cells": [
  {
   "cell_type": "code",
   "execution_count": 1,
   "metadata": {},
   "outputs": [
    {
     "data": {
      "application/json": {
       "Software versions": [
        {
         "module": "Python",
         "version": "3.6.8 64bit [GCC 4.2.1 Compatible Clang 4.0.1 (tags/RELEASE_401/final)]"
        },
        {
         "module": "IPython",
         "version": "6.4.0"
        },
        {
         "module": "OS",
         "version": "Darwin 16.7.0 x86_64 i386 64bit"
        },
        {
         "module": "pandas",
         "version": "0.23.4"
        },
        {
         "module": "numpy",
         "version": "1.14.2"
        }
       ]
      },
      "text/html": [
       "<table><tr><th>Software</th><th>Version</th></tr><tr><td>Python</td><td>3.6.8 64bit [GCC 4.2.1 Compatible Clang 4.0.1 (tags/RELEASE_401/final)]</td></tr><tr><td>IPython</td><td>6.4.0</td></tr><tr><td>OS</td><td>Darwin 16.7.0 x86_64 i386 64bit</td></tr><tr><td>pandas</td><td>0.23.4</td></tr><tr><td>numpy</td><td>1.14.2</td></tr><tr><td colspan='2'>Mon May 06 13:57:17 2019 PDT</td></tr></table>"
      ],
      "text/latex": [
       "\\begin{tabular}{|l|l|}\\hline\n",
       "{\\bf Software} & {\\bf Version} \\\\ \\hline\\hline\n",
       "Python & 3.6.8 64bit [GCC 4.2.1 Compatible Clang 4.0.1 (tags/RELEASE\\_401/final)] \\\\ \\hline\n",
       "IPython & 6.4.0 \\\\ \\hline\n",
       "OS & Darwin 16.7.0 x86\\_64 i386 64bit \\\\ \\hline\n",
       "pandas & 0.23.4 \\\\ \\hline\n",
       "numpy & 1.14.2 \\\\ \\hline\n",
       "\\hline \\multicolumn{2}{|l|}{Mon May 06 13:57:17 2019 PDT} \\\\ \\hline\n",
       "\\end{tabular}\n"
      ],
      "text/plain": [
       "Software versions\n",
       "Python 3.6.8 64bit [GCC 4.2.1 Compatible Clang 4.0.1 (tags/RELEASE_401/final)]\n",
       "IPython 6.4.0\n",
       "OS Darwin 16.7.0 x86_64 i386 64bit\n",
       "pandas 0.23.4\n",
       "numpy 1.14.2\n",
       "Mon May 06 13:57:17 2019 PDT"
      ]
     },
     "execution_count": 1,
     "metadata": {},
     "output_type": "execute_result"
    }
   ],
   "source": [
    "# %load jupyter_default.py\n",
    "import pandas as pd\n",
    "import numpy as np\n",
    "import os\n",
    "import re\n",
    "import datetime\n",
    "import time\n",
    "import glob\n",
    "import json\n",
    "from tqdm import tqdm_notebook\n",
    "from colorama import Fore, Style\n",
    "\n",
    "%matplotlib inline\n",
    "import matplotlib.pyplot as plt\n",
    "import matplotlib.colors\n",
    "import seaborn as sns\n",
    "from slugify import slugify\n",
    "\n",
    "%config InlineBackend.figure_format='retina'\n",
    "sns.set() # Revert to matplotlib defaults\n",
    "plt.rcParams['figure.figsize'] = (12, 8)\n",
    "plt.rcParams['axes.labelpad'] = 20\n",
    "plt.rcParams['legend.fancybox'] = True\n",
    "plt.style.use('ggplot')\n",
    "\n",
    "SMALL_SIZE, MEDIUM_SIZE, BIGGER_SIZE = 14, 16, 20\n",
    "plt.rc('font', size=SMALL_SIZE)\n",
    "plt.rc('axes', titlesize=SMALL_SIZE)\n",
    "plt.rc('axes', labelsize=MEDIUM_SIZE)\n",
    "plt.rc('xtick', labelsize=SMALL_SIZE)\n",
    "plt.rc('ytick', labelsize=SMALL_SIZE)\n",
    "plt.rc('legend', fontsize=MEDIUM_SIZE)\n",
    "plt.rc('axes', titlesize=BIGGER_SIZE)\n",
    "\n",
    "def savefig(name):\n",
    "    plt.savefig(f'../../figures/{name}.png', bbox_inches='tight', dpi=300)\n",
    "\n",
    "%reload_ext autoreload\n",
    "%autoreload 2\n",
    "    \n",
    "%reload_ext version_information\n",
    "%version_information pandas, numpy"
   ]
  },
  {
   "cell_type": "code",
   "execution_count": 2,
   "metadata": {},
   "outputs": [],
   "source": [
    "from google.cloud import bigquery"
   ]
  },
  {
   "cell_type": "code",
   "execution_count": 3,
   "metadata": {},
   "outputs": [
    {
     "data": {
      "text/plain": [
       "True"
      ]
     },
     "execution_count": 3,
     "metadata": {},
     "output_type": "execute_result"
    }
   ],
   "source": [
    "from dotenv import load_dotenv\n",
    "load_dotenv('../../.env')"
   ]
  },
  {
   "cell_type": "code",
   "execution_count": 4,
   "metadata": {},
   "outputs": [],
   "source": [
    "client = bigquery.Client()"
   ]
  },
  {
   "cell_type": "markdown",
   "metadata": {},
   "source": [
    "# Page Paths\n",
    "Alex's development notebook for page paths."
   ]
  },
  {
   "cell_type": "markdown",
   "metadata": {},
   "source": [
    "Look for some samples..."
   ]
  },
  {
   "cell_type": "markdown",
   "metadata": {},
   "source": [
    "## Read data"
   ]
  },
  {
   "cell_type": "markdown",
   "metadata": {
    "heading_collapsed": true
   },
   "source": [
    "### Read from bigquery (old code)"
   ]
  },
  {
   "cell_type": "code",
   "execution_count": 49,
   "metadata": {
    "hidden": true
   },
   "outputs": [
    {
     "data": {
      "application/vnd.jupyter.widget-view+json": {
       "model_id": "53c80987b5d641de9f4819b99aa3c08d",
       "version_major": 2,
       "version_minor": 0
      },
      "text/plain": [
       "HBox(children=(IntProgress(value=0, max=366), HTML(value='')))"
      ]
     },
     "metadata": {},
     "output_type": "display_data"
    },
    {
     "name": "stdout",
     "output_type": "stream",
     "text": [
      "\n",
      "CPU times: user 7.94 s, sys: 856 ms, total: 8.8 s\n",
      "Wall time: 11min 29s\n"
     ]
    }
   ],
   "source": [
    "%%time\n",
    "\"\"\"\n",
    "Using bigquery\n",
    "\"\"\"\n",
    "\n",
    "def pull_daily_data(verbose=False):\n",
    "    dataset = client.get_dataset('bigquery-public-data.google_analytics_sample')\n",
    "\n",
    "    data = []\n",
    "    for table in tqdm_notebook(list(client.list_tables(dataset))):\n",
    "        if verbose:\n",
    "            print('Querying {}'.format(table.table_id))\n",
    "        query_job = client.query('''\n",
    "            select\n",
    "              date,\n",
    "              sum(totals.visits),\n",
    "              sum(totals.pageviews),\n",
    "              sum(totals.transactions),\n",
    "              sum(totals.transactionRevenue)\n",
    "            from `bigquery-public-data.google_analytics_sample.{}`\n",
    "            group by date;\n",
    "        '''.format(table.table_id))\n",
    "        results = query_job.result().to_dataframe()\n",
    "        results.columns = ['date', 'visits', 'pageviews', 'transactions', 'transactionRevenue']\n",
    "        data.append(results)\n",
    "\n",
    "    df = pd.concat(data, ignore_index=True, sort=False)\n",
    "    return df\n",
    "\n",
    "bq_results = pull_daily_data()"
   ]
  },
  {
   "cell_type": "code",
   "execution_count": 53,
   "metadata": {
    "hidden": true
   },
   "outputs": [
    {
     "data": {
      "text/html": [
       "<div>\n",
       "<style scoped>\n",
       "    .dataframe tbody tr th:only-of-type {\n",
       "        vertical-align: middle;\n",
       "    }\n",
       "\n",
       "    .dataframe tbody tr th {\n",
       "        vertical-align: top;\n",
       "    }\n",
       "\n",
       "    .dataframe thead th {\n",
       "        text-align: right;\n",
       "    }\n",
       "</style>\n",
       "<table border=\"1\" class=\"dataframe\">\n",
       "  <thead>\n",
       "    <tr style=\"text-align: right;\">\n",
       "      <th></th>\n",
       "      <th>date</th>\n",
       "      <th>visits</th>\n",
       "      <th>pageviews</th>\n",
       "      <th>transactions</th>\n",
       "      <th>transactionRevenue</th>\n",
       "    </tr>\n",
       "  </thead>\n",
       "  <tbody>\n",
       "    <tr>\n",
       "      <th>0</th>\n",
       "      <td>20160801</td>\n",
       "      <td>1711</td>\n",
       "      <td>9843</td>\n",
       "      <td>34</td>\n",
       "      <td>6116060000</td>\n",
       "    </tr>\n",
       "    <tr>\n",
       "      <th>1</th>\n",
       "      <td>20160802</td>\n",
       "      <td>2140</td>\n",
       "      <td>11784</td>\n",
       "      <td>18</td>\n",
       "      <td>1361190000</td>\n",
       "    </tr>\n",
       "    <tr>\n",
       "      <th>2</th>\n",
       "      <td>20160803</td>\n",
       "      <td>2890</td>\n",
       "      <td>13724</td>\n",
       "      <td>None</td>\n",
       "      <td>None</td>\n",
       "    </tr>\n",
       "    <tr>\n",
       "      <th>3</th>\n",
       "      <td>20160804</td>\n",
       "      <td>3161</td>\n",
       "      <td>13326</td>\n",
       "      <td>17</td>\n",
       "      <td>1182890000</td>\n",
       "    </tr>\n",
       "    <tr>\n",
       "      <th>4</th>\n",
       "      <td>20160805</td>\n",
       "      <td>2702</td>\n",
       "      <td>13585</td>\n",
       "      <td>42</td>\n",
       "      <td>5594260000</td>\n",
       "    </tr>\n",
       "  </tbody>\n",
       "</table>\n",
       "</div>"
      ],
      "text/plain": [
       "       date  visits  pageviews transactions transactionRevenue\n",
       "0  20160801    1711       9843           34         6116060000\n",
       "1  20160802    2140      11784           18         1361190000\n",
       "2  20160803    2890      13724         None               None\n",
       "3  20160804    3161      13326           17         1182890000\n",
       "4  20160805    2702      13585           42         5594260000"
      ]
     },
     "execution_count": 53,
     "metadata": {},
     "output_type": "execute_result"
    }
   ],
   "source": [
    "bq_results.head()"
   ]
  },
  {
   "cell_type": "markdown",
   "metadata": {
    "heading_collapsed": true
   },
   "source": [
    "### Read `jsonl` from google drive (old code)"
   ]
  },
  {
   "cell_type": "code",
   "execution_count": 7,
   "metadata": {
    "hidden": true
   },
   "outputs": [
    {
     "data": {
      "application/vnd.jupyter.widget-view+json": {
       "model_id": "2caae61887fe408ba1cf38594f6755d4",
       "version_major": 2,
       "version_minor": 0
      },
      "text/plain": [
       "HBox(children=(IntProgress(value=0, max=366), HTML(value='')))"
      ]
     },
     "metadata": {},
     "output_type": "display_data"
    },
    {
     "name": "stdout",
     "output_type": "stream",
     "text": [
      "\n",
      "CPU times: user 7min 55s, sys: 1min 56s, total: 9min 52s\n",
      "Wall time: 23min 14s\n"
     ]
    }
   ],
   "source": [
    "%%time\n",
    "\"\"\"\n",
    "Using gdrive jsonl\n",
    "\"\"\"\n",
    "ERRORS = []\n",
    "\n",
    "def pull_daily_data(verbose=False, raise_errors=False):\n",
    "    dataset = sorted(glob.glob('/Volumes/GoogleDrive/My Drive/bigquery_ga_sample/*.jsonl'))\n",
    "\n",
    "    data = []\n",
    "    for table in tqdm_notebook(dataset):\n",
    "        if verbose:\n",
    "            print('Scanning {}'.format(table))\n",
    "        with open(table, 'r') as f:\n",
    "            table_data = []\n",
    "            for line in f:\n",
    "                d = json.loads(line)\n",
    "                date = d['date']\n",
    "                d = d['totals']\n",
    "                try:\n",
    "                    table_data.append([\n",
    "                        date,\n",
    "                        d['visits'],\n",
    "                        d['pageviews'],\n",
    "                        d['transactions'],\n",
    "                        d['transactionRevenue'],\n",
    "                    ])\n",
    "                except Exception as e:\n",
    "                    if verbose:\n",
    "                        print('Error raised when reading row:\\n{}'.format(e))\n",
    "                    ERRORS.append([table, e])\n",
    "                    if raise_errors:\n",
    "                        raise(e)\n",
    "\n",
    "            cols = ['date', 'visits', 'pageviews', 'transactions', 'transactionRevenue']\n",
    "            results = (\n",
    "                pd.DataFrame(table_data, columns=cols)\n",
    "                    .groupby('date')[['visits', 'pageviews', 'transactions', 'transactionRevenue']]\n",
    "                    .sum().reset_index()\n",
    "            )\n",
    "            data.append(results)\n",
    "\n",
    "    df = pd.concat(data, ignore_index=True, sort=False)\n",
    "    return df\n",
    "\n",
    "jsonl_gdrive_results = pull_daily_data()"
   ]
  },
  {
   "cell_type": "code",
   "execution_count": 8,
   "metadata": {
    "hidden": true
   },
   "outputs": [
    {
     "data": {
      "text/html": [
       "<div>\n",
       "<style scoped>\n",
       "    .dataframe tbody tr th:only-of-type {\n",
       "        vertical-align: middle;\n",
       "    }\n",
       "\n",
       "    .dataframe tbody tr th {\n",
       "        vertical-align: top;\n",
       "    }\n",
       "\n",
       "    .dataframe thead th {\n",
       "        text-align: right;\n",
       "    }\n",
       "</style>\n",
       "<table border=\"1\" class=\"dataframe\">\n",
       "  <thead>\n",
       "    <tr style=\"text-align: right;\">\n",
       "      <th></th>\n",
       "      <th>date</th>\n",
       "      <th>visits</th>\n",
       "      <th>pageviews</th>\n",
       "      <th>transactions</th>\n",
       "      <th>transactionRevenue</th>\n",
       "    </tr>\n",
       "  </thead>\n",
       "  <tbody>\n",
       "    <tr>\n",
       "      <th>0</th>\n",
       "      <td>20160801</td>\n",
       "      <td>1711</td>\n",
       "      <td>9843.0</td>\n",
       "      <td>34.0</td>\n",
       "      <td>6.116060e+09</td>\n",
       "    </tr>\n",
       "    <tr>\n",
       "      <th>1</th>\n",
       "      <td>20160802</td>\n",
       "      <td>2140</td>\n",
       "      <td>11784.0</td>\n",
       "      <td>18.0</td>\n",
       "      <td>1.361190e+09</td>\n",
       "    </tr>\n",
       "    <tr>\n",
       "      <th>2</th>\n",
       "      <td>20160803</td>\n",
       "      <td>2890</td>\n",
       "      <td>13724.0</td>\n",
       "      <td>NaN</td>\n",
       "      <td>NaN</td>\n",
       "    </tr>\n",
       "    <tr>\n",
       "      <th>3</th>\n",
       "      <td>20160804</td>\n",
       "      <td>3161</td>\n",
       "      <td>13326.0</td>\n",
       "      <td>17.0</td>\n",
       "      <td>1.182890e+09</td>\n",
       "    </tr>\n",
       "    <tr>\n",
       "      <th>4</th>\n",
       "      <td>20160805</td>\n",
       "      <td>2702</td>\n",
       "      <td>13585.0</td>\n",
       "      <td>42.0</td>\n",
       "      <td>5.594260e+09</td>\n",
       "    </tr>\n",
       "    <tr>\n",
       "      <th>5</th>\n",
       "      <td>20160806</td>\n",
       "      <td>1663</td>\n",
       "      <td>6926.0</td>\n",
       "      <td>10.0</td>\n",
       "      <td>1.891040e+09</td>\n",
       "    </tr>\n",
       "    <tr>\n",
       "      <th>6</th>\n",
       "      <td>20160807</td>\n",
       "      <td>1622</td>\n",
       "      <td>7239.0</td>\n",
       "      <td>16.0</td>\n",
       "      <td>2.410730e+09</td>\n",
       "    </tr>\n",
       "    <tr>\n",
       "      <th>7</th>\n",
       "      <td>20160808</td>\n",
       "      <td>2815</td>\n",
       "      <td>13179.0</td>\n",
       "      <td>36.0</td>\n",
       "      <td>5.273810e+09</td>\n",
       "    </tr>\n",
       "    <tr>\n",
       "      <th>8</th>\n",
       "      <td>20160809</td>\n",
       "      <td>2851</td>\n",
       "      <td>13411.0</td>\n",
       "      <td>44.0</td>\n",
       "      <td>5.596400e+09</td>\n",
       "    </tr>\n",
       "    <tr>\n",
       "      <th>9</th>\n",
       "      <td>20160810</td>\n",
       "      <td>2757</td>\n",
       "      <td>13003.0</td>\n",
       "      <td>46.0</td>\n",
       "      <td>4.284210e+09</td>\n",
       "    </tr>\n",
       "    <tr>\n",
       "      <th>10</th>\n",
       "      <td>20160811</td>\n",
       "      <td>2667</td>\n",
       "      <td>12860.0</td>\n",
       "      <td>51.0</td>\n",
       "      <td>7.427120e+09</td>\n",
       "    </tr>\n",
       "    <tr>\n",
       "      <th>11</th>\n",
       "      <td>20160812</td>\n",
       "      <td>2619</td>\n",
       "      <td>15583.0</td>\n",
       "      <td>73.0</td>\n",
       "      <td>8.091190e+09</td>\n",
       "    </tr>\n",
       "    <tr>\n",
       "      <th>12</th>\n",
       "      <td>20160813</td>\n",
       "      <td>1596</td>\n",
       "      <td>6387.0</td>\n",
       "      <td>15.0</td>\n",
       "      <td>2.198710e+09</td>\n",
       "    </tr>\n",
       "    <tr>\n",
       "      <th>13</th>\n",
       "      <td>20160814</td>\n",
       "      <td>1801</td>\n",
       "      <td>8074.0</td>\n",
       "      <td>28.0</td>\n",
       "      <td>3.360510e+09</td>\n",
       "    </tr>\n",
       "    <tr>\n",
       "      <th>14</th>\n",
       "      <td>20160815</td>\n",
       "      <td>3043</td>\n",
       "      <td>14754.0</td>\n",
       "      <td>68.0</td>\n",
       "      <td>6.220330e+09</td>\n",
       "    </tr>\n",
       "    <tr>\n",
       "      <th>15</th>\n",
       "      <td>20160816</td>\n",
       "      <td>2873</td>\n",
       "      <td>14311.0</td>\n",
       "      <td>63.0</td>\n",
       "      <td>5.822290e+09</td>\n",
       "    </tr>\n",
       "    <tr>\n",
       "      <th>16</th>\n",
       "      <td>20160817</td>\n",
       "      <td>2799</td>\n",
       "      <td>14028.0</td>\n",
       "      <td>49.0</td>\n",
       "      <td>7.124890e+09</td>\n",
       "    </tr>\n",
       "    <tr>\n",
       "      <th>17</th>\n",
       "      <td>20160818</td>\n",
       "      <td>2725</td>\n",
       "      <td>12710.0</td>\n",
       "      <td>48.0</td>\n",
       "      <td>6.130610e+09</td>\n",
       "    </tr>\n",
       "    <tr>\n",
       "      <th>18</th>\n",
       "      <td>20160819</td>\n",
       "      <td>2379</td>\n",
       "      <td>11557.0</td>\n",
       "      <td>57.0</td>\n",
       "      <td>3.467300e+09</td>\n",
       "    </tr>\n",
       "    <tr>\n",
       "      <th>19</th>\n",
       "      <td>20160820</td>\n",
       "      <td>1664</td>\n",
       "      <td>7776.0</td>\n",
       "      <td>22.0</td>\n",
       "      <td>3.243030e+09</td>\n",
       "    </tr>\n",
       "    <tr>\n",
       "      <th>20</th>\n",
       "      <td>20160821</td>\n",
       "      <td>1730</td>\n",
       "      <td>7610.0</td>\n",
       "      <td>26.0</td>\n",
       "      <td>2.365310e+09</td>\n",
       "    </tr>\n",
       "    <tr>\n",
       "      <th>21</th>\n",
       "      <td>20160822</td>\n",
       "      <td>2584</td>\n",
       "      <td>12934.0</td>\n",
       "      <td>65.0</td>\n",
       "      <td>1.079184e+10</td>\n",
       "    </tr>\n",
       "    <tr>\n",
       "      <th>22</th>\n",
       "      <td>20160823</td>\n",
       "      <td>2754</td>\n",
       "      <td>13005.0</td>\n",
       "      <td>63.0</td>\n",
       "      <td>9.625700e+09</td>\n",
       "    </tr>\n",
       "    <tr>\n",
       "      <th>23</th>\n",
       "      <td>20160824</td>\n",
       "      <td>2627</td>\n",
       "      <td>12850.0</td>\n",
       "      <td>56.0</td>\n",
       "      <td>5.632410e+09</td>\n",
       "    </tr>\n",
       "    <tr>\n",
       "      <th>24</th>\n",
       "      <td>20160825</td>\n",
       "      <td>2539</td>\n",
       "      <td>14374.0</td>\n",
       "      <td>78.0</td>\n",
       "      <td>1.718621e+10</td>\n",
       "    </tr>\n",
       "    <tr>\n",
       "      <th>25</th>\n",
       "      <td>20160826</td>\n",
       "      <td>2359</td>\n",
       "      <td>12163.0</td>\n",
       "      <td>58.0</td>\n",
       "      <td>4.918860e+09</td>\n",
       "    </tr>\n",
       "    <tr>\n",
       "      <th>26</th>\n",
       "      <td>20160827</td>\n",
       "      <td>1654</td>\n",
       "      <td>7924.0</td>\n",
       "      <td>18.0</td>\n",
       "      <td>9.150800e+08</td>\n",
       "    </tr>\n",
       "    <tr>\n",
       "      <th>27</th>\n",
       "      <td>20160828</td>\n",
       "      <td>1682</td>\n",
       "      <td>8593.0</td>\n",
       "      <td>24.0</td>\n",
       "      <td>3.094520e+09</td>\n",
       "    </tr>\n",
       "    <tr>\n",
       "      <th>28</th>\n",
       "      <td>20160829</td>\n",
       "      <td>2454</td>\n",
       "      <td>12270.0</td>\n",
       "      <td>43.0</td>\n",
       "      <td>6.593430e+09</td>\n",
       "    </tr>\n",
       "    <tr>\n",
       "      <th>29</th>\n",
       "      <td>20160830</td>\n",
       "      <td>2675</td>\n",
       "      <td>11794.0</td>\n",
       "      <td>36.0</td>\n",
       "      <td>2.883710e+09</td>\n",
       "    </tr>\n",
       "    <tr>\n",
       "      <th>...</th>\n",
       "      <td>...</td>\n",
       "      <td>...</td>\n",
       "      <td>...</td>\n",
       "      <td>...</td>\n",
       "      <td>...</td>\n",
       "    </tr>\n",
       "    <tr>\n",
       "      <th>336</th>\n",
       "      <td>20170703</td>\n",
       "      <td>2046</td>\n",
       "      <td>6492.0</td>\n",
       "      <td>15.0</td>\n",
       "      <td>1.225810e+09</td>\n",
       "    </tr>\n",
       "    <tr>\n",
       "      <th>337</th>\n",
       "      <td>20170704</td>\n",
       "      <td>1938</td>\n",
       "      <td>5740.0</td>\n",
       "      <td>7.0</td>\n",
       "      <td>3.799800e+08</td>\n",
       "    </tr>\n",
       "    <tr>\n",
       "      <th>338</th>\n",
       "      <td>20170705</td>\n",
       "      <td>2885</td>\n",
       "      <td>9927.0</td>\n",
       "      <td>42.0</td>\n",
       "      <td>8.029360e+09</td>\n",
       "    </tr>\n",
       "    <tr>\n",
       "      <th>339</th>\n",
       "      <td>20170706</td>\n",
       "      <td>2658</td>\n",
       "      <td>8924.0</td>\n",
       "      <td>31.0</td>\n",
       "      <td>3.883850e+09</td>\n",
       "    </tr>\n",
       "    <tr>\n",
       "      <th>340</th>\n",
       "      <td>20170707</td>\n",
       "      <td>2450</td>\n",
       "      <td>9266.0</td>\n",
       "      <td>40.0</td>\n",
       "      <td>4.339020e+09</td>\n",
       "    </tr>\n",
       "    <tr>\n",
       "      <th>341</th>\n",
       "      <td>20170708</td>\n",
       "      <td>1859</td>\n",
       "      <td>6087.0</td>\n",
       "      <td>14.0</td>\n",
       "      <td>4.549600e+08</td>\n",
       "    </tr>\n",
       "    <tr>\n",
       "      <th>342</th>\n",
       "      <td>20170709</td>\n",
       "      <td>1921</td>\n",
       "      <td>6523.0</td>\n",
       "      <td>19.0</td>\n",
       "      <td>7.511000e+08</td>\n",
       "    </tr>\n",
       "    <tr>\n",
       "      <th>343</th>\n",
       "      <td>20170710</td>\n",
       "      <td>2769</td>\n",
       "      <td>10183.0</td>\n",
       "      <td>47.0</td>\n",
       "      <td>4.718070e+09</td>\n",
       "    </tr>\n",
       "    <tr>\n",
       "      <th>344</th>\n",
       "      <td>20170711</td>\n",
       "      <td>2635</td>\n",
       "      <td>8978.0</td>\n",
       "      <td>42.0</td>\n",
       "      <td>5.369640e+09</td>\n",
       "    </tr>\n",
       "    <tr>\n",
       "      <th>345</th>\n",
       "      <td>20170712</td>\n",
       "      <td>2554</td>\n",
       "      <td>9778.0</td>\n",
       "      <td>49.0</td>\n",
       "      <td>3.149340e+09</td>\n",
       "    </tr>\n",
       "    <tr>\n",
       "      <th>346</th>\n",
       "      <td>20170713</td>\n",
       "      <td>2741</td>\n",
       "      <td>11060.0</td>\n",
       "      <td>65.0</td>\n",
       "      <td>6.098580e+09</td>\n",
       "    </tr>\n",
       "    <tr>\n",
       "      <th>347</th>\n",
       "      <td>20170714</td>\n",
       "      <td>2382</td>\n",
       "      <td>9506.0</td>\n",
       "      <td>47.0</td>\n",
       "      <td>4.228840e+09</td>\n",
       "    </tr>\n",
       "    <tr>\n",
       "      <th>348</th>\n",
       "      <td>20170715</td>\n",
       "      <td>1721</td>\n",
       "      <td>6251.0</td>\n",
       "      <td>16.0</td>\n",
       "      <td>7.407200e+08</td>\n",
       "    </tr>\n",
       "    <tr>\n",
       "      <th>349</th>\n",
       "      <td>20170716</td>\n",
       "      <td>1766</td>\n",
       "      <td>6610.0</td>\n",
       "      <td>28.0</td>\n",
       "      <td>1.748720e+09</td>\n",
       "    </tr>\n",
       "    <tr>\n",
       "      <th>350</th>\n",
       "      <td>20170717</td>\n",
       "      <td>2671</td>\n",
       "      <td>11183.0</td>\n",
       "      <td>53.0</td>\n",
       "      <td>4.616770e+09</td>\n",
       "    </tr>\n",
       "    <tr>\n",
       "      <th>351</th>\n",
       "      <td>20170718</td>\n",
       "      <td>2804</td>\n",
       "      <td>11386.0</td>\n",
       "      <td>51.0</td>\n",
       "      <td>1.700296e+10</td>\n",
       "    </tr>\n",
       "    <tr>\n",
       "      <th>352</th>\n",
       "      <td>20170719</td>\n",
       "      <td>2514</td>\n",
       "      <td>10573.0</td>\n",
       "      <td>57.0</td>\n",
       "      <td>6.038300e+09</td>\n",
       "    </tr>\n",
       "    <tr>\n",
       "      <th>353</th>\n",
       "      <td>20170720</td>\n",
       "      <td>2668</td>\n",
       "      <td>10120.0</td>\n",
       "      <td>41.0</td>\n",
       "      <td>4.688700e+09</td>\n",
       "    </tr>\n",
       "    <tr>\n",
       "      <th>354</th>\n",
       "      <td>20170721</td>\n",
       "      <td>2427</td>\n",
       "      <td>10410.0</td>\n",
       "      <td>42.0</td>\n",
       "      <td>3.603880e+09</td>\n",
       "    </tr>\n",
       "    <tr>\n",
       "      <th>355</th>\n",
       "      <td>20170722</td>\n",
       "      <td>1724</td>\n",
       "      <td>6484.0</td>\n",
       "      <td>18.0</td>\n",
       "      <td>2.395000e+09</td>\n",
       "    </tr>\n",
       "    <tr>\n",
       "      <th>356</th>\n",
       "      <td>20170723</td>\n",
       "      <td>1966</td>\n",
       "      <td>7039.0</td>\n",
       "      <td>16.0</td>\n",
       "      <td>2.246920e+09</td>\n",
       "    </tr>\n",
       "    <tr>\n",
       "      <th>357</th>\n",
       "      <td>20170724</td>\n",
       "      <td>2436</td>\n",
       "      <td>9707.0</td>\n",
       "      <td>40.0</td>\n",
       "      <td>4.415620e+09</td>\n",
       "    </tr>\n",
       "    <tr>\n",
       "      <th>358</th>\n",
       "      <td>20170725</td>\n",
       "      <td>2631</td>\n",
       "      <td>10728.0</td>\n",
       "      <td>38.0</td>\n",
       "      <td>5.240730e+09</td>\n",
       "    </tr>\n",
       "    <tr>\n",
       "      <th>359</th>\n",
       "      <td>20170726</td>\n",
       "      <td>2725</td>\n",
       "      <td>11200.0</td>\n",
       "      <td>42.0</td>\n",
       "      <td>4.640450e+09</td>\n",
       "    </tr>\n",
       "    <tr>\n",
       "      <th>360</th>\n",
       "      <td>20170727</td>\n",
       "      <td>2529</td>\n",
       "      <td>10175.0</td>\n",
       "      <td>52.0</td>\n",
       "      <td>4.348380e+09</td>\n",
       "    </tr>\n",
       "    <tr>\n",
       "      <th>361</th>\n",
       "      <td>20170728</td>\n",
       "      <td>2433</td>\n",
       "      <td>9359.0</td>\n",
       "      <td>46.0</td>\n",
       "      <td>4.709440e+09</td>\n",
       "    </tr>\n",
       "    <tr>\n",
       "      <th>362</th>\n",
       "      <td>20170729</td>\n",
       "      <td>1597</td>\n",
       "      <td>6293.0</td>\n",
       "      <td>19.0</td>\n",
       "      <td>1.045010e+09</td>\n",
       "    </tr>\n",
       "    <tr>\n",
       "      <th>363</th>\n",
       "      <td>20170730</td>\n",
       "      <td>1799</td>\n",
       "      <td>7258.0</td>\n",
       "      <td>22.0</td>\n",
       "      <td>2.254160e+09</td>\n",
       "    </tr>\n",
       "    <tr>\n",
       "      <th>364</th>\n",
       "      <td>20170731</td>\n",
       "      <td>2620</td>\n",
       "      <td>11115.0</td>\n",
       "      <td>62.0</td>\n",
       "      <td>1.141544e+10</td>\n",
       "    </tr>\n",
       "    <tr>\n",
       "      <th>365</th>\n",
       "      <td>20170801</td>\n",
       "      <td>2556</td>\n",
       "      <td>10939.0</td>\n",
       "      <td>45.0</td>\n",
       "      <td>8.304940e+09</td>\n",
       "    </tr>\n",
       "  </tbody>\n",
       "</table>\n",
       "<p>366 rows × 5 columns</p>\n",
       "</div>"
      ],
      "text/plain": [
       "         date  visits  pageviews  transactions  transactionRevenue\n",
       "0    20160801    1711     9843.0          34.0        6.116060e+09\n",
       "1    20160802    2140    11784.0          18.0        1.361190e+09\n",
       "2    20160803    2890    13724.0           NaN                 NaN\n",
       "3    20160804    3161    13326.0          17.0        1.182890e+09\n",
       "4    20160805    2702    13585.0          42.0        5.594260e+09\n",
       "5    20160806    1663     6926.0          10.0        1.891040e+09\n",
       "6    20160807    1622     7239.0          16.0        2.410730e+09\n",
       "7    20160808    2815    13179.0          36.0        5.273810e+09\n",
       "8    20160809    2851    13411.0          44.0        5.596400e+09\n",
       "9    20160810    2757    13003.0          46.0        4.284210e+09\n",
       "10   20160811    2667    12860.0          51.0        7.427120e+09\n",
       "11   20160812    2619    15583.0          73.0        8.091190e+09\n",
       "12   20160813    1596     6387.0          15.0        2.198710e+09\n",
       "13   20160814    1801     8074.0          28.0        3.360510e+09\n",
       "14   20160815    3043    14754.0          68.0        6.220330e+09\n",
       "15   20160816    2873    14311.0          63.0        5.822290e+09\n",
       "16   20160817    2799    14028.0          49.0        7.124890e+09\n",
       "17   20160818    2725    12710.0          48.0        6.130610e+09\n",
       "18   20160819    2379    11557.0          57.0        3.467300e+09\n",
       "19   20160820    1664     7776.0          22.0        3.243030e+09\n",
       "20   20160821    1730     7610.0          26.0        2.365310e+09\n",
       "21   20160822    2584    12934.0          65.0        1.079184e+10\n",
       "22   20160823    2754    13005.0          63.0        9.625700e+09\n",
       "23   20160824    2627    12850.0          56.0        5.632410e+09\n",
       "24   20160825    2539    14374.0          78.0        1.718621e+10\n",
       "25   20160826    2359    12163.0          58.0        4.918860e+09\n",
       "26   20160827    1654     7924.0          18.0        9.150800e+08\n",
       "27   20160828    1682     8593.0          24.0        3.094520e+09\n",
       "28   20160829    2454    12270.0          43.0        6.593430e+09\n",
       "29   20160830    2675    11794.0          36.0        2.883710e+09\n",
       "..        ...     ...        ...           ...                 ...\n",
       "336  20170703    2046     6492.0          15.0        1.225810e+09\n",
       "337  20170704    1938     5740.0           7.0        3.799800e+08\n",
       "338  20170705    2885     9927.0          42.0        8.029360e+09\n",
       "339  20170706    2658     8924.0          31.0        3.883850e+09\n",
       "340  20170707    2450     9266.0          40.0        4.339020e+09\n",
       "341  20170708    1859     6087.0          14.0        4.549600e+08\n",
       "342  20170709    1921     6523.0          19.0        7.511000e+08\n",
       "343  20170710    2769    10183.0          47.0        4.718070e+09\n",
       "344  20170711    2635     8978.0          42.0        5.369640e+09\n",
       "345  20170712    2554     9778.0          49.0        3.149340e+09\n",
       "346  20170713    2741    11060.0          65.0        6.098580e+09\n",
       "347  20170714    2382     9506.0          47.0        4.228840e+09\n",
       "348  20170715    1721     6251.0          16.0        7.407200e+08\n",
       "349  20170716    1766     6610.0          28.0        1.748720e+09\n",
       "350  20170717    2671    11183.0          53.0        4.616770e+09\n",
       "351  20170718    2804    11386.0          51.0        1.700296e+10\n",
       "352  20170719    2514    10573.0          57.0        6.038300e+09\n",
       "353  20170720    2668    10120.0          41.0        4.688700e+09\n",
       "354  20170721    2427    10410.0          42.0        3.603880e+09\n",
       "355  20170722    1724     6484.0          18.0        2.395000e+09\n",
       "356  20170723    1966     7039.0          16.0        2.246920e+09\n",
       "357  20170724    2436     9707.0          40.0        4.415620e+09\n",
       "358  20170725    2631    10728.0          38.0        5.240730e+09\n",
       "359  20170726    2725    11200.0          42.0        4.640450e+09\n",
       "360  20170727    2529    10175.0          52.0        4.348380e+09\n",
       "361  20170728    2433     9359.0          46.0        4.709440e+09\n",
       "362  20170729    1597     6293.0          19.0        1.045010e+09\n",
       "363  20170730    1799     7258.0          22.0        2.254160e+09\n",
       "364  20170731    2620    11115.0          62.0        1.141544e+10\n",
       "365  20170801    2556    10939.0          45.0        8.304940e+09\n",
       "\n",
       "[366 rows x 5 columns]"
      ]
     },
     "execution_count": 8,
     "metadata": {},
     "output_type": "execute_result"
    }
   ],
   "source": [
    "jsonl_gdrive_results"
   ]
  },
  {
   "cell_type": "markdown",
   "metadata": {},
   "source": [
    "### Read `jsonl` from local"
   ]
  },
  {
   "cell_type": "code",
   "execution_count": 10,
   "metadata": {},
   "outputs": [
    {
     "name": "stdout",
     "output_type": "stream",
     "text": [
      "CPU times: user 6 µs, sys: 0 ns, total: 6 µs\n",
      "Wall time: 10 µs\n"
     ]
    }
   ],
   "source": [
    "%%time\n",
    "\"\"\"\n",
    "Using local jsonl\n",
    "\"\"\"\n",
    "ERRORS = []\n",
    "\n",
    "def pull_daily_data(verbose=False, raise_errors=False):\n",
    "    dataset = sorted(glob.glob('../../data/raw/*.jsonl'))\n",
    "\n",
    "    data = []\n",
    "    i = 0\n",
    "    for table in tqdm_notebook(dataset):\n",
    "        if verbose:\n",
    "            print('Scanning {}'.format(table))\n",
    "        with open(table, 'r') as f:\n",
    "            table_data = []\n",
    "            visitor_id_dates = {}\n",
    "            for line in f:\n",
    "                i += 1\n",
    "                try:\n",
    "                    d = json.loads(line)\n",
    "                    d_visit = [\n",
    "                        i,\n",
    "                        d['date'],\n",
    "                        d['device']['isMobile'],\n",
    "                        d['totals']['transactions'],\n",
    "                        len(d['hits']),\n",
    "                    ]\n",
    "                    for h in d['hits']:\n",
    "                        table_data.append(d_visit + [\n",
    "                            h['hitNumber'],\n",
    "                            h['page']['pagePath'],\n",
    "                            h['page']['pageTitle'],\n",
    "                        ])\n",
    "\n",
    "                except Exception as e:\n",
    "                    if verbose:\n",
    "                        print('Error raised when reading row:\\n{}'.format(e))\n",
    "                    ERRORS.append([table, e])\n",
    "                    if raise_errors:\n",
    "                        raise(e)\n",
    "\n",
    "            cols = ['id', 'date', 'isMobile', 'transactions', 'numHits',\n",
    "                    'hitNumber', 'pagePath', 'pageTitle',]\n",
    "            results = pd.DataFrame(table_data, columns=cols)\n",
    "            data.append(results)\n",
    "\n",
    "    df = pd.concat(data, ignore_index=True, sort=False)\n",
    "    return df"
   ]
  },
  {
   "cell_type": "code",
   "execution_count": 11,
   "metadata": {},
   "outputs": [
    {
     "data": {
      "application/vnd.jupyter.widget-view+json": {
       "model_id": "9d874ef833e547498cfea2ad70dfa5a6",
       "version_major": 2,
       "version_minor": 0
      },
      "text/plain": [
       "HBox(children=(IntProgress(value=0, max=366), HTML(value='')))"
      ]
     },
     "metadata": {},
     "output_type": "display_data"
    },
    {
     "name": "stdout",
     "output_type": "stream",
     "text": [
      "Scanning ../../data/raw/ga_sessions_20160801.jsonl\n",
      "Scanning ../../data/raw/ga_sessions_20160802.jsonl\n",
      "Scanning ../../data/raw/ga_sessions_20160803.jsonl\n",
      "Scanning ../../data/raw/ga_sessions_20160804.jsonl\n",
      "\n"
     ]
    },
    {
     "ename": "KeyboardInterrupt",
     "evalue": "",
     "output_type": "error",
     "traceback": [
      "\u001b[0;31m---------------------------------------------------------------------------\u001b[0m",
      "\u001b[0;31mKeyboardInterrupt\u001b[0m                         Traceback (most recent call last)",
      "\u001b[0;32m<ipython-input-11-e2a6be8dc5bb>\u001b[0m in \u001b[0;36m<module>\u001b[0;34m()\u001b[0m\n\u001b[0;32m----> 1\u001b[0;31m \u001b[0mjsonl_results\u001b[0m \u001b[0;34m=\u001b[0m \u001b[0mpull_daily_data\u001b[0m\u001b[0;34m(\u001b[0m\u001b[0mraise_errors\u001b[0m\u001b[0;34m=\u001b[0m\u001b[0;32mTrue\u001b[0m\u001b[0;34m,\u001b[0m \u001b[0mverbose\u001b[0m\u001b[0;34m=\u001b[0m\u001b[0;32mTrue\u001b[0m\u001b[0;34m)\u001b[0m\u001b[0;34m\u001b[0m\u001b[0;34m\u001b[0m\u001b[0m\n\u001b[0m",
      "\u001b[0;32m<timed exec>\u001b[0m in \u001b[0;36mpull_daily_data\u001b[0;34m(verbose, raise_errors)\u001b[0m\n",
      "\u001b[0;32m/anaconda3/lib/python3.6/json/__init__.py\u001b[0m in \u001b[0;36mloads\u001b[0;34m(s, encoding, cls, object_hook, parse_float, parse_int, parse_constant, object_pairs_hook, **kw)\u001b[0m\n\u001b[1;32m    352\u001b[0m             \u001b[0mparse_int\u001b[0m \u001b[0;32mis\u001b[0m \u001b[0;32mNone\u001b[0m \u001b[0;32mand\u001b[0m \u001b[0mparse_float\u001b[0m \u001b[0;32mis\u001b[0m \u001b[0;32mNone\u001b[0m \u001b[0;32mand\u001b[0m\u001b[0;34m\u001b[0m\u001b[0;34m\u001b[0m\u001b[0m\n\u001b[1;32m    353\u001b[0m             parse_constant is None and object_pairs_hook is None and not kw):\n\u001b[0;32m--> 354\u001b[0;31m         \u001b[0;32mreturn\u001b[0m \u001b[0m_default_decoder\u001b[0m\u001b[0;34m.\u001b[0m\u001b[0mdecode\u001b[0m\u001b[0;34m(\u001b[0m\u001b[0ms\u001b[0m\u001b[0;34m)\u001b[0m\u001b[0;34m\u001b[0m\u001b[0;34m\u001b[0m\u001b[0m\n\u001b[0m\u001b[1;32m    355\u001b[0m     \u001b[0;32mif\u001b[0m \u001b[0mcls\u001b[0m \u001b[0;32mis\u001b[0m \u001b[0;32mNone\u001b[0m\u001b[0;34m:\u001b[0m\u001b[0;34m\u001b[0m\u001b[0;34m\u001b[0m\u001b[0m\n\u001b[1;32m    356\u001b[0m         \u001b[0mcls\u001b[0m \u001b[0;34m=\u001b[0m \u001b[0mJSONDecoder\u001b[0m\u001b[0;34m\u001b[0m\u001b[0;34m\u001b[0m\u001b[0m\n",
      "\u001b[0;32m/anaconda3/lib/python3.6/json/decoder.py\u001b[0m in \u001b[0;36mdecode\u001b[0;34m(self, s, _w)\u001b[0m\n\u001b[1;32m    337\u001b[0m \u001b[0;34m\u001b[0m\u001b[0m\n\u001b[1;32m    338\u001b[0m         \"\"\"\n\u001b[0;32m--> 339\u001b[0;31m         \u001b[0mobj\u001b[0m\u001b[0;34m,\u001b[0m \u001b[0mend\u001b[0m \u001b[0;34m=\u001b[0m \u001b[0mself\u001b[0m\u001b[0;34m.\u001b[0m\u001b[0mraw_decode\u001b[0m\u001b[0;34m(\u001b[0m\u001b[0ms\u001b[0m\u001b[0;34m,\u001b[0m \u001b[0midx\u001b[0m\u001b[0;34m=\u001b[0m\u001b[0m_w\u001b[0m\u001b[0;34m(\u001b[0m\u001b[0ms\u001b[0m\u001b[0;34m,\u001b[0m \u001b[0;36m0\u001b[0m\u001b[0;34m)\u001b[0m\u001b[0;34m.\u001b[0m\u001b[0mend\u001b[0m\u001b[0;34m(\u001b[0m\u001b[0;34m)\u001b[0m\u001b[0;34m)\u001b[0m\u001b[0;34m\u001b[0m\u001b[0;34m\u001b[0m\u001b[0m\n\u001b[0m\u001b[1;32m    340\u001b[0m         \u001b[0mend\u001b[0m \u001b[0;34m=\u001b[0m \u001b[0m_w\u001b[0m\u001b[0;34m(\u001b[0m\u001b[0ms\u001b[0m\u001b[0;34m,\u001b[0m \u001b[0mend\u001b[0m\u001b[0;34m)\u001b[0m\u001b[0;34m.\u001b[0m\u001b[0mend\u001b[0m\u001b[0;34m(\u001b[0m\u001b[0;34m)\u001b[0m\u001b[0;34m\u001b[0m\u001b[0;34m\u001b[0m\u001b[0m\n\u001b[1;32m    341\u001b[0m         \u001b[0;32mif\u001b[0m \u001b[0mend\u001b[0m \u001b[0;34m!=\u001b[0m \u001b[0mlen\u001b[0m\u001b[0;34m(\u001b[0m\u001b[0ms\u001b[0m\u001b[0;34m)\u001b[0m\u001b[0;34m:\u001b[0m\u001b[0;34m\u001b[0m\u001b[0;34m\u001b[0m\u001b[0m\n",
      "\u001b[0;32m/anaconda3/lib/python3.6/json/decoder.py\u001b[0m in \u001b[0;36mraw_decode\u001b[0;34m(self, s, idx)\u001b[0m\n\u001b[1;32m    353\u001b[0m         \"\"\"\n\u001b[1;32m    354\u001b[0m         \u001b[0;32mtry\u001b[0m\u001b[0;34m:\u001b[0m\u001b[0;34m\u001b[0m\u001b[0;34m\u001b[0m\u001b[0m\n\u001b[0;32m--> 355\u001b[0;31m             \u001b[0mobj\u001b[0m\u001b[0;34m,\u001b[0m \u001b[0mend\u001b[0m \u001b[0;34m=\u001b[0m \u001b[0mself\u001b[0m\u001b[0;34m.\u001b[0m\u001b[0mscan_once\u001b[0m\u001b[0;34m(\u001b[0m\u001b[0ms\u001b[0m\u001b[0;34m,\u001b[0m \u001b[0midx\u001b[0m\u001b[0;34m)\u001b[0m\u001b[0;34m\u001b[0m\u001b[0;34m\u001b[0m\u001b[0m\n\u001b[0m\u001b[1;32m    356\u001b[0m         \u001b[0;32mexcept\u001b[0m \u001b[0mStopIteration\u001b[0m \u001b[0;32mas\u001b[0m \u001b[0merr\u001b[0m\u001b[0;34m:\u001b[0m\u001b[0;34m\u001b[0m\u001b[0;34m\u001b[0m\u001b[0m\n\u001b[1;32m    357\u001b[0m             \u001b[0;32mraise\u001b[0m \u001b[0mJSONDecodeError\u001b[0m\u001b[0;34m(\u001b[0m\u001b[0;34m\"Expecting value\"\u001b[0m\u001b[0;34m,\u001b[0m \u001b[0ms\u001b[0m\u001b[0;34m,\u001b[0m \u001b[0merr\u001b[0m\u001b[0;34m.\u001b[0m\u001b[0mvalue\u001b[0m\u001b[0;34m)\u001b[0m \u001b[0;32mfrom\u001b[0m \u001b[0;32mNone\u001b[0m\u001b[0;34m\u001b[0m\u001b[0;34m\u001b[0m\u001b[0m\n",
      "\u001b[0;31mKeyboardInterrupt\u001b[0m: "
     ]
    }
   ],
   "source": [
    "jsonl_results = pull_daily_data(raise_errors=True, verbose=True)"
   ]
  },
  {
   "cell_type": "code",
   "execution_count": 12,
   "metadata": {},
   "outputs": [
    {
     "data": {
      "application/vnd.jupyter.widget-view+json": {
       "model_id": "e77665fc11ed46018b81e958c5ff7808",
       "version_major": 2,
       "version_minor": 0
      },
      "text/plain": [
       "HBox(children=(IntProgress(value=0, max=366), HTML(value='')))"
      ]
     },
     "metadata": {},
     "output_type": "display_data"
    },
    {
     "name": "stdout",
     "output_type": "stream",
     "text": [
      "\n"
     ]
    }
   ],
   "source": [
    "jsonl_results = pull_daily_data()"
   ]
  },
  {
   "cell_type": "code",
   "execution_count": 18,
   "metadata": {},
   "outputs": [],
   "source": [
    "df = jsonl_results.copy()\n",
    "df.date = pd.to_datetime(df.date)\n",
    "df.to_csv('../../data/interim/page_paths_raw.csv', index=False)"
   ]
  },
  {
   "cell_type": "code",
   "execution_count": 19,
   "metadata": {},
   "outputs": [
    {
     "name": "stdout",
     "output_type": "stream",
     "text": [
      "Loading ../../data/interim/page_paths_raw.csv\n",
      "Loading from file\n"
     ]
    }
   ],
   "source": [
    "def load_file(f_path):\n",
    "    if not os.path.exists(f_path):\n",
    "        print('No data found. Run data load script above.')\n",
    "        return\n",
    "    print('Loading {}'.format(f_path))\n",
    "    df = pd.read_csv(f_path)\n",
    "    df.date = pd.to_datetime(df.date)\n",
    "    return df\n",
    "\n",
    "# Looking forward to walrus operator for stuff like this...\n",
    "tmp = load_file('../../data/interim/page_paths_raw.csv')\n",
    "if tmp is not None:\n",
    "    print('Loading from file')\n",
    "    df = tmp.copy()\n",
    "    del tmp"
   ]
  },
  {
   "cell_type": "code",
   "execution_count": 20,
   "metadata": {},
   "outputs": [
    {
     "data": {
      "text/html": [
       "<div>\n",
       "<style scoped>\n",
       "    .dataframe tbody tr th:only-of-type {\n",
       "        vertical-align: middle;\n",
       "    }\n",
       "\n",
       "    .dataframe tbody tr th {\n",
       "        vertical-align: top;\n",
       "    }\n",
       "\n",
       "    .dataframe thead th {\n",
       "        text-align: right;\n",
       "    }\n",
       "</style>\n",
       "<table border=\"1\" class=\"dataframe\">\n",
       "  <thead>\n",
       "    <tr style=\"text-align: right;\">\n",
       "      <th></th>\n",
       "      <th>id</th>\n",
       "      <th>date</th>\n",
       "      <th>isMobile</th>\n",
       "      <th>transactions</th>\n",
       "      <th>numHits</th>\n",
       "      <th>hitNumber</th>\n",
       "      <th>pagePath</th>\n",
       "      <th>pageTitle</th>\n",
       "    </tr>\n",
       "  </thead>\n",
       "  <tbody>\n",
       "    <tr>\n",
       "      <th>0</th>\n",
       "      <td>1</td>\n",
       "      <td>2016-08-01</td>\n",
       "      <td>False</td>\n",
       "      <td>NaN</td>\n",
       "      <td>3</td>\n",
       "      <td>1</td>\n",
       "      <td>/home</td>\n",
       "      <td>Home</td>\n",
       "    </tr>\n",
       "    <tr>\n",
       "      <th>1</th>\n",
       "      <td>1</td>\n",
       "      <td>2016-08-01</td>\n",
       "      <td>False</td>\n",
       "      <td>NaN</td>\n",
       "      <td>3</td>\n",
       "      <td>2</td>\n",
       "      <td>/google+redesign/gift+cards</td>\n",
       "      <td>Gift Cards</td>\n",
       "    </tr>\n",
       "    <tr>\n",
       "      <th>2</th>\n",
       "      <td>1</td>\n",
       "      <td>2016-08-01</td>\n",
       "      <td>False</td>\n",
       "      <td>NaN</td>\n",
       "      <td>3</td>\n",
       "      <td>3</td>\n",
       "      <td>/signin.html</td>\n",
       "      <td>The Google Merchandise Store - Log In</td>\n",
       "    </tr>\n",
       "    <tr>\n",
       "      <th>3</th>\n",
       "      <td>2</td>\n",
       "      <td>2016-08-01</td>\n",
       "      <td>False</td>\n",
       "      <td>NaN</td>\n",
       "      <td>3</td>\n",
       "      <td>1</td>\n",
       "      <td>/home</td>\n",
       "      <td>Home</td>\n",
       "    </tr>\n",
       "    <tr>\n",
       "      <th>4</th>\n",
       "      <td>2</td>\n",
       "      <td>2016-08-01</td>\n",
       "      <td>False</td>\n",
       "      <td>NaN</td>\n",
       "      <td>3</td>\n",
       "      <td>2</td>\n",
       "      <td>/google+redesign/apparel/men++s/men++s+t+shirts</td>\n",
       "      <td>Men's-T-Shirts</td>\n",
       "    </tr>\n",
       "  </tbody>\n",
       "</table>\n",
       "</div>"
      ],
      "text/plain": [
       "   id       date  isMobile  transactions  numHits  hitNumber  \\\n",
       "0   1 2016-08-01     False           NaN        3          1   \n",
       "1   1 2016-08-01     False           NaN        3          2   \n",
       "2   1 2016-08-01     False           NaN        3          3   \n",
       "3   2 2016-08-01     False           NaN        3          1   \n",
       "4   2 2016-08-01     False           NaN        3          2   \n",
       "\n",
       "                                          pagePath  \\\n",
       "0                                            /home   \n",
       "1                      /google+redesign/gift+cards   \n",
       "2                                     /signin.html   \n",
       "3                                            /home   \n",
       "4  /google+redesign/apparel/men++s/men++s+t+shirts   \n",
       "\n",
       "                               pageTitle  \n",
       "0                                   Home  \n",
       "1                             Gift Cards  \n",
       "2  The Google Merchandise Store - Log In  \n",
       "3                                   Home  \n",
       "4                         Men's-T-Shirts  "
      ]
     },
     "execution_count": 20,
     "metadata": {},
     "output_type": "execute_result"
    }
   ],
   "source": [
    "df.head()"
   ]
  },
  {
   "cell_type": "code",
   "execution_count": 16,
   "metadata": {},
   "outputs": [],
   "source": [
    "# df['week'] = df.date.apply(lambda x: x.strftime('%W'))\n",
    "# df['year'] = df.date.apply(lambda x: x.strftime('%Y'))\n",
    "# df['week_start'] = df[['week', 'year']].apply(\n",
    "#     lambda x: datetime.datetime.strptime('{}-{}-1'.format(x.year, x.week), '%Y-%W-%w'),\n",
    "#     axis=1\n",
    "# )"
   ]
  },
  {
   "cell_type": "code",
   "execution_count": 17,
   "metadata": {},
   "outputs": [
    {
     "data": {
      "text/plain": [
       "id                       int64\n",
       "date            datetime64[ns]\n",
       "isMobile                  bool\n",
       "transactions           float64\n",
       "numHits                  int64\n",
       "hitNumber                int64\n",
       "pagePath                object\n",
       "pageTitle               object\n",
       "dtype: object"
      ]
     },
     "execution_count": 17,
     "metadata": {},
     "output_type": "execute_result"
    }
   ],
   "source": [
    "df.dtypes"
   ]
  },
  {
   "cell_type": "markdown",
   "metadata": {},
   "source": [
    "## Exploring the dataset"
   ]
  },
  {
   "cell_type": "code",
   "execution_count": 23,
   "metadata": {},
   "outputs": [
    {
     "data": {
      "text/plain": [
       "0"
      ]
     },
     "execution_count": 23,
     "metadata": {},
     "output_type": "execute_result"
    }
   ],
   "source": [
    "df.date.isnull().sum()"
   ]
  },
  {
   "cell_type": "code",
   "execution_count": 25,
   "metadata": {},
   "outputs": [
    {
     "data": {
      "text/plain": [
       "<matplotlib.axes._subplots.AxesSubplot at 0x1a19235fd0>"
      ]
     },
     "execution_count": 25,
     "metadata": {},
     "output_type": "execute_result"
    },
    {
     "data": {
      "image/png": "[encoded data removed]",
      "text/plain": [
       "<Figure size 432x288 with 1 Axes>"
      ]
     },
     "metadata": {
      "image/png": {
       "height": 272,
       "width": 400
      }
     },
     "output_type": "display_data"
    }
   ],
   "source": [
    "df.date.value_counts().sort_index().plot()"
   ]
  },
  {
   "cell_type": "code",
   "execution_count": 28,
   "metadata": {},
   "outputs": [
    {
     "data": {
      "text/plain": [
       "False    3171247\n",
       "True      982428\n",
       "Name: isMobile, dtype: int64"
      ]
     },
     "execution_count": 28,
     "metadata": {},
     "output_type": "execute_result"
    }
   ],
   "source": [
    "df.isMobile.value_counts()"
   ]
  },
  {
   "cell_type": "markdown",
   "metadata": {},
   "source": [
    "Number of unique sessions"
   ]
  },
  {
   "cell_type": "code",
   "execution_count": 30,
   "metadata": {},
   "outputs": [
    {
     "data": {
      "text/plain": [
       "903653"
      ]
     },
     "execution_count": 30,
     "metadata": {},
     "output_type": "execute_result"
    }
   ],
   "source": [
    "len(df['id'].unique())"
   ]
  },
  {
   "cell_type": "markdown",
   "metadata": {},
   "source": [
    "Top landing pages:"
   ]
  },
  {
   "cell_type": "code",
   "execution_count": 31,
   "metadata": {},
   "outputs": [
    {
     "data": {
      "text/plain": [
       "/home                                               612640\n",
       "/google+redesign/shop+by+brand/youtube               81688\n",
       "/google+redesign/apparel/men++s/men++s+t+shirts      20796\n",
       "/signin.html                                         16296\n",
       "/google+redesign/apparel/mens/mens+t+shirts          12738\n",
       "/basket.html                                          9580\n",
       "/google+redesign/drinkware                            8909\n",
       "/google+redesign/bags                                 8666\n",
       "/google+redesign/apparel/men++s/men++s+outerwear      6398\n",
       "/google+redesign/apparel                              6363\n",
       "Name: pagePath, dtype: int64"
      ]
     },
     "execution_count": 31,
     "metadata": {},
     "output_type": "execute_result"
    }
   ],
   "source": [
    "df[df.hitNumber == 1].pagePath.value_counts(ascending=False)[:10]"
   ]
  },
  {
   "cell_type": "markdown",
   "metadata": {},
   "source": [
    "Top exit pages:"
   ]
  },
  {
   "cell_type": "code",
   "execution_count": 32,
   "metadata": {},
   "outputs": [
    {
     "data": {
      "text/plain": [
       "/home                                              420660\n",
       "/google+redesign/shop+by+brand/youtube              69857\n",
       "/signin.html                                        25441\n",
       "/basket.html                                        23063\n",
       "/asearch.html                                       20221\n",
       "/google+redesign/apparel/men++s/men++s+t+shirts     18422\n",
       "/store.html                                         12334\n",
       "/google+redesign/electronics                        12251\n",
       "/google+redesign/apparel/mens/mens+t+shirts         12219\n",
       "/google+redesign/shop+by+brand/google               11403\n",
       "Name: pagePath, dtype: int64"
      ]
     },
     "execution_count": 32,
     "metadata": {},
     "output_type": "execute_result"
    }
   ],
   "source": [
    "df[df.hitNumber == df.numHits].pagePath.value_counts(ascending=False)[:10]"
   ]
  },
  {
   "cell_type": "markdown",
   "metadata": {},
   "source": [
    "## Pattern mining\n",
    "\n",
    "Finding sequantial patterns (of pages).\n",
    "\n",
    "Below we use the [`prefix span`](https://github.com/chuanconggao/PrefixSpan-py) python library.\n",
    "\n",
    "e.g.\n",
    "```python\n",
    "\n",
    "from prefixspan import PrefixSpan\n",
    "\n",
    "db = [\n",
    "    [0, 1, 2, 3, 4],\n",
    "    [1, 1, 1, 3, 4],\n",
    "    [2, 1, 2, 2, 0],\n",
    "    [1, 1, 1, 2, 2],\n",
    "]\n",
    "\n",
    "ps = PrefixSpan(db)\n",
    "\n",
    "print(ps.frequent(2))\n",
    "# [(2, [0]),\n",
    "#  (4, [1]),\n",
    "#  (3, [1, 2]),\n",
    "#  (2, [1, 2, 2]),\n",
    "#  (2, [1, 3]),\n",
    "#  (2, [1, 3, 4]),\n",
    "#  (2, [1, 4]),\n",
    "#  (2, [1, 1]),\n",
    "#  (2, [1, 1, 1]),\n",
    "#  (3, [2]),\n",
    "#  (2, [2, 2]),\n",
    "#  (2, [3]),\n",
    "#  (2, [3, 4]),\n",
    "#  (2, [4])]\n",
    "\n",
    "```"
   ]
  },
  {
   "cell_type": "code",
   "execution_count": 33,
   "metadata": {},
   "outputs": [],
   "source": [
    "from prefixspan import PrefixSpan"
   ]
  },
  {
   "cell_type": "code",
   "execution_count": 35,
   "metadata": {},
   "outputs": [],
   "source": [
    "from sklearn.preprocessing import LabelEncoder"
   ]
  },
  {
   "cell_type": "code",
   "execution_count": 38,
   "metadata": {},
   "outputs": [],
   "source": [
    "LabelEncoder?"
   ]
  },
  {
   "cell_type": "code",
   "execution_count": 39,
   "metadata": {},
   "outputs": [],
   "source": [
    "page_le = LabelEncoder()\n",
    "df['page_label'] = page_le.fit_transform(df.pagePath.values)"
   ]
  },
  {
   "cell_type": "code",
   "execution_count": 45,
   "metadata": {},
   "outputs": [
    {
     "data": {
      "text/html": [
       "<div>\n",
       "<style scoped>\n",
       "    .dataframe tbody tr th:only-of-type {\n",
       "        vertical-align: middle;\n",
       "    }\n",
       "\n",
       "    .dataframe tbody tr th {\n",
       "        vertical-align: top;\n",
       "    }\n",
       "\n",
       "    .dataframe thead th {\n",
       "        text-align: right;\n",
       "    }\n",
       "</style>\n",
       "<table border=\"1\" class=\"dataframe\">\n",
       "  <thead>\n",
       "    <tr style=\"text-align: right;\">\n",
       "      <th></th>\n",
       "      <th>id</th>\n",
       "      <th>date</th>\n",
       "      <th>isMobile</th>\n",
       "      <th>transactions</th>\n",
       "      <th>numHits</th>\n",
       "      <th>hitNumber</th>\n",
       "      <th>pagePath</th>\n",
       "      <th>pageTitle</th>\n",
       "      <th>page_label</th>\n",
       "    </tr>\n",
       "  </thead>\n",
       "  <tbody>\n",
       "    <tr>\n",
       "      <th>0</th>\n",
       "      <td>1</td>\n",
       "      <td>2016-08-01</td>\n",
       "      <td>False</td>\n",
       "      <td>NaN</td>\n",
       "      <td>3</td>\n",
       "      <td>1</td>\n",
       "      <td>/home</td>\n",
       "      <td>Home</td>\n",
       "      <td>2360</td>\n",
       "    </tr>\n",
       "    <tr>\n",
       "      <th>1</th>\n",
       "      <td>1</td>\n",
       "      <td>2016-08-01</td>\n",
       "      <td>False</td>\n",
       "      <td>NaN</td>\n",
       "      <td>3</td>\n",
       "      <td>2</td>\n",
       "      <td>/google+redesign/gift+cards</td>\n",
       "      <td>Gift Cards</td>\n",
       "      <td>1909</td>\n",
       "    </tr>\n",
       "    <tr>\n",
       "      <th>2</th>\n",
       "      <td>1</td>\n",
       "      <td>2016-08-01</td>\n",
       "      <td>False</td>\n",
       "      <td>NaN</td>\n",
       "      <td>3</td>\n",
       "      <td>3</td>\n",
       "      <td>/signin.html</td>\n",
       "      <td>The Google Merchandise Store - Log In</td>\n",
       "      <td>2423</td>\n",
       "    </tr>\n",
       "    <tr>\n",
       "      <th>3</th>\n",
       "      <td>2</td>\n",
       "      <td>2016-08-01</td>\n",
       "      <td>False</td>\n",
       "      <td>NaN</td>\n",
       "      <td>3</td>\n",
       "      <td>1</td>\n",
       "      <td>/home</td>\n",
       "      <td>Home</td>\n",
       "      <td>2360</td>\n",
       "    </tr>\n",
       "    <tr>\n",
       "      <th>4</th>\n",
       "      <td>2</td>\n",
       "      <td>2016-08-01</td>\n",
       "      <td>False</td>\n",
       "      <td>NaN</td>\n",
       "      <td>3</td>\n",
       "      <td>2</td>\n",
       "      <td>/google+redesign/apparel/men++s/men++s+t+shirts</td>\n",
       "      <td>Men's-T-Shirts</td>\n",
       "      <td>503</td>\n",
       "    </tr>\n",
       "  </tbody>\n",
       "</table>\n",
       "</div>"
      ],
      "text/plain": [
       "   id       date  isMobile  transactions  numHits  hitNumber  \\\n",
       "0   1 2016-08-01     False           NaN        3          1   \n",
       "1   1 2016-08-01     False           NaN        3          2   \n",
       "2   1 2016-08-01     False           NaN        3          3   \n",
       "3   2 2016-08-01     False           NaN        3          1   \n",
       "4   2 2016-08-01     False           NaN        3          2   \n",
       "\n",
       "                                          pagePath  \\\n",
       "0                                            /home   \n",
       "1                      /google+redesign/gift+cards   \n",
       "2                                     /signin.html   \n",
       "3                                            /home   \n",
       "4  /google+redesign/apparel/men++s/men++s+t+shirts   \n",
       "\n",
       "                               pageTitle  page_label  \n",
       "0                                   Home        2360  \n",
       "1                             Gift Cards        1909  \n",
       "2  The Google Merchandise Store - Log In        2423  \n",
       "3                                   Home        2360  \n",
       "4                         Men's-T-Shirts         503  "
      ]
     },
     "execution_count": 45,
     "metadata": {},
     "output_type": "execute_result"
    }
   ],
   "source": [
    "df.head()"
   ]
  },
  {
   "cell_type": "code",
   "execution_count": 59,
   "metadata": {},
   "outputs": [
    {
     "data": {
      "application/vnd.jupyter.widget-view+json": {
       "model_id": "140d9630e3fb4a5d88d41722a2483228",
       "version_major": 2,
       "version_minor": 0
      },
      "text/plain": [
       "HBox(children=(IntProgress(value=0, max=4153675), HTML(value='')))"
      ]
     },
     "metadata": {},
     "output_type": "display_data"
    },
    {
     "name": "stdout",
     "output_type": "stream",
     "text": [
      "\n"
     ]
    }
   ],
   "source": [
    "def make_page_sequences(df) -> list:\n",
    "    data, d = [], []\n",
    "    prev_id = df.iloc[0]['id']\n",
    "    for _, row in tqdm_notebook(df.iterrows(), total=len(df)):\n",
    "        if prev_id != row['id']:\n",
    "            data.append(d)\n",
    "            d = []\n",
    "        d.append(row['page_label'])\n",
    "        prev_id = row['id']\n",
    "\n",
    "    if d:\n",
    "        data.append(d)\n",
    "\n",
    "    return data\n",
    "\n",
    "page_sequences = make_page_sequences(df)"
   ]
  },
  {
   "cell_type": "code",
   "execution_count": 60,
   "metadata": {},
   "outputs": [
    {
     "name": "stdout",
     "output_type": "stream",
     "text": [
      "Solving for top sequences\n",
      "Returning PrefixSpan object\n"
     ]
    }
   ],
   "source": [
    "prefix_spans = PrefixSpan(page_sequences)"
   ]
  },
  {
   "cell_type": "code",
   "execution_count": 63,
   "metadata": {},
   "outputs": [
    {
     "data": {
      "text/plain": [
       "[(651025, [2360]),\n",
       " (224776, [2360, 2360]),\n",
       " (114101, [2317]),\n",
       " (72449, [2360, 2360, 2360]),\n",
       " (72103, [2423]),\n",
       " (71290, [3]),\n",
       " (55044, [2556]),\n",
       " (51415, [503]),\n",
       " (45148, [1683]),\n",
       " (42351, [2360, 3])]"
      ]
     },
     "execution_count": 63,
     "metadata": {},
     "output_type": "execute_result"
    }
   ],
   "source": [
    "prefix_spans.topk(10)"
   ]
  },
  {
   "cell_type": "code",
   "execution_count": 68,
   "metadata": {},
   "outputs": [
    {
     "data": {
      "text/plain": [
       "[[651025, ['/home']],\n",
       " [224776, ['/home', '/home']],\n",
       " [114101, ['/google+redesign/shop+by+brand/youtube']],\n",
       " [72449, ['/home', '/home', '/home']],\n",
       " [72103, ['/signin.html']],\n",
       " [71290, ['/basket.html']],\n",
       " [55044, ['/store.html']],\n",
       " [51415, ['/google+redesign/apparel/men++s/men++s+t+shirts']],\n",
       " [45148, ['/google+redesign/electronics']],\n",
       " [42351, ['/home', '/basket.html']]]"
      ]
     },
     "execution_count": 68,
     "metadata": {},
     "output_type": "execute_result"
    }
   ],
   "source": [
    "def get_topk_sequences(page_sequences, k):\n",
    "    prefix_spans = PrefixSpan(page_sequences)\n",
    "    top_k = prefix_spans.topk(k)\n",
    "    out = []\n",
    "    for count, page_labels in top_k:\n",
    "        out.append([count, [page_le.inverse_transform(x) for x in page_labels]])\n",
    "\n",
    "    return out\n",
    "\n",
    "get_topk_sequences(page_sequences, 10)"
   ]
  },
  {
   "cell_type": "markdown",
   "metadata": {},
   "source": [
    "Let's drop all the rows where consecutive hits are from the same page"
   ]
  },
  {
   "cell_type": "code",
   "execution_count": 76,
   "metadata": {},
   "outputs": [
    {
     "data": {
      "application/vnd.jupyter.widget-view+json": {
       "model_id": "30d38ec2f7bd4afabad1ac8825df582c",
       "version_major": 2,
       "version_minor": 0
      },
      "text/plain": [
       "HBox(children=(IntProgress(value=0, max=4153675), HTML(value='')))"
      ]
     },
     "metadata": {},
     "output_type": "display_data"
    },
    {
     "name": "stdout",
     "output_type": "stream",
     "text": [
      "\n"
     ]
    }
   ],
   "source": [
    "def make_page_sequences(df) -> list:\n",
    "    data, d = [], []\n",
    "    prev_id = df.iloc[0]['id']\n",
    "    prev_page = None\n",
    "    for _, row in tqdm_notebook(df.iterrows(), total=len(df)):\n",
    "        if prev_id != row['id']:\n",
    "            if len(d) > 1:\n",
    "                data.append(d)\n",
    "            d = []\n",
    "            prev_page = None\n",
    "        \n",
    "        if (prev_page is None) or (row['page_label'] != prev_page):\n",
    "            d.append(row['page_label'])\n",
    "\n",
    "        prev_id = row['id']\n",
    "        prev_page = row['page_label']\n",
    "        \n",
    "    if d:\n",
    "        data.append(d)\n",
    "\n",
    "    return data\n",
    "\n",
    "page_sequences = make_page_sequences(df)"
   ]
  },
  {
   "cell_type": "code",
   "execution_count": 79,
   "metadata": {},
   "outputs": [],
   "source": [
    "for i, d in enumerate(page_sequences):\n",
    "    prev = -1\n",
    "    for d_ in d:\n",
    "        if d_ == prev:\n",
    "            print(i)\n",
    "        prev = d_"
   ]
  },
  {
   "cell_type": "code",
   "execution_count": 77,
   "metadata": {},
   "outputs": [
    {
     "data": {
      "text/plain": [
       "[[2360, 1909, 2423],\n",
       " [2360, 503, 2025],\n",
       " [2360, 236, 2360],\n",
       " [2360, 236, 2360],\n",
       " [2360, 1394],\n",
       " [2360, 2317, 2360],\n",
       " [2360, 1613, 1683, 503],\n",
       " [2360, 2025, 1683, 2317],\n",
       " [2360, 1613, 2433, 1909, 2428],\n",
       " [2360, 1683, 1391, 1551]]"
      ]
     },
     "execution_count": 77,
     "metadata": {},
     "output_type": "execute_result"
    }
   ],
   "source": [
    "page_sequences[:10]"
   ]
  },
  {
   "cell_type": "code",
   "execution_count": 78,
   "metadata": {},
   "outputs": [
    {
     "data": {
      "text/plain": [
       "[[66741, ['/home', '/home']],\n",
       " [42351, ['/home', '/basket.html']],\n",
       " [41275, ['/home', '/signin.html']]]"
      ]
     },
     "execution_count": 78,
     "metadata": {},
     "output_type": "execute_result"
    }
   ],
   "source": [
    "def get_topk_sequences(page_sequences, k, ignore_singles=True):\n",
    "    prefix_spans = PrefixSpan(page_sequences)\n",
    "    top_k = prefix_spans.topk(k)\n",
    "    out = []\n",
    "    for count, page_labels in top_k:\n",
    "        if ignore_singles and (len(page_labels) == 1):\n",
    "            continue\n",
    "        out.append([count, [page_le.inverse_transform(x) for x in page_labels]])\n",
    "        \n",
    "    return out\n",
    "\n",
    "get_topk_sequences(page_sequences, 10)"
   ]
  },
  {
   "cell_type": "markdown",
   "metadata": {},
   "source": [
    "Ah.. the issue here is that is that pages can be skipped. For example \"home\" -> \"pdp\" -> \"home\" can result in the extraction of the first pattern above :("
   ]
  },
  {
   "cell_type": "code",
   "execution_count": null,
   "metadata": {},
   "outputs": [],
   "source": []
  },
  {
   "cell_type": "code",
   "execution_count": null,
   "metadata": {},
   "outputs": [],
   "source": []
  },
  {
   "cell_type": "markdown",
   "metadata": {},
   "source": [
    "### TODO\n",
    "\n",
    "- Add DATA_PATH global variable to Gdrive. Move `interim` files\n",
    "\n",
    "\n",
    "- Predict purchase intent with decision tree. Look at top features. Feature engineering ideas:\n",
    "    - Split out into converting and non-converting segments\n",
    "    - Split out into mobile vs desktop\n",
    "\n",
    "\n",
    "- See how page sequence trends change over time\n",
    "- Given a specific page, what's the most common next page(s)?"
   ]
  },
  {
   "cell_type": "code",
   "execution_count": null,
   "metadata": {},
   "outputs": [],
   "source": []
  },
  {
   "cell_type": "code",
   "execution_count": null,
   "metadata": {},
   "outputs": [],
   "source": []
  },
  {
   "cell_type": "code",
   "execution_count": null,
   "metadata": {},
   "outputs": [],
   "source": []
  },
  {
   "cell_type": "code",
   "execution_count": null,
   "metadata": {},
   "outputs": [],
   "source": []
  },
  {
   "cell_type": "code",
   "execution_count": 69,
   "metadata": {},
   "outputs": [
    {
     "data": {
      "text/html": [
       "<style>div.text_cell_render{font-size:130%;padding-top:50px;padding-bottom:50px}</style>"
      ],
      "text/plain": [
       "<IPython.core.display.HTML object>"
      ]
     },
     "execution_count": 69,
     "metadata": {},
     "output_type": "execute_result"
    }
   ],
   "source": [
    "from IPython.display import HTML\n",
    "HTML('<style>div.text_cell_render{font-size:130%;padding-top:50px;padding-bottom:50px}</style>')"
   ]
  },
  {
   "cell_type": "code",
   "execution_count": null,
   "metadata": {},
   "outputs": [],
   "source": []
  }
 ],
 "metadata": {
  "hide_input": false,
  "kernelspec": {
   "display_name": "Python [default]",
   "language": "python",
   "name": "python3"
  },
  "language_info": {
   "codemirror_mode": {
    "name": "ipython",
    "version": 3
   },
   "file_extension": ".py",
   "mimetype": "text/x-python",
   "name": "python",
   "nbconvert_exporter": "python",
   "pygments_lexer": "ipython3",
   "version": "3.6.8"
  },
  "toc": {
   "base_numbering": 1,
   "nav_menu": {},
   "number_sections": true,
   "sideBar": true,
   "skip_h1_title": false,
   "title_cell": "Table of Contents",
   "title_sidebar": "Contents",
   "toc_cell": false,
   "toc_position": {},
   "toc_section_display": true,
   "toc_window_display": false
  },
  "varInspector": {
   "cols": {
    "lenName": 16,
    "lenType": 16,
    "lenVar": 40
   },
   "kernels_config": {
    "python": {
     "delete_cmd_postfix": "",
     "delete_cmd_prefix": "del ",
     "library": "var_list.py",
     "varRefreshCmd": "print(var_dic_list())"
    },
    "r": {
     "delete_cmd_postfix": ") ",
     "delete_cmd_prefix": "rm(",
     "library": "var_list.r",
     "varRefreshCmd": "cat(var_dic_list()) "
    }
   },
   "types_to_exclude": [
    "module",
    "function",
    "builtin_function_or_method",
    "instance",
    "_Feature"
   ],
   "window_display": false
  }
 },
 "nbformat": 4,
 "nbformat_minor": 2
}
