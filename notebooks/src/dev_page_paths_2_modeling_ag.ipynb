{
 "cells": [
  {
   "cell_type": "code",
   "execution_count": 1,
   "metadata": {},
   "outputs": [
    {
     "data": {
      "application/json": {
       "Software versions": [
        {
         "module": "Python",
         "version": "3.6.8 64bit [GCC 4.2.1 Compatible Clang 4.0.1 (tags/RELEASE_401/final)]"
        },
        {
         "module": "IPython",
         "version": "6.4.0"
        },
        {
         "module": "OS",
         "version": "Darwin 16.7.0 x86_64 i386 64bit"
        },
        {
         "module": "pandas",
         "version": "0.23.4"
        },
        {
         "module": "numpy",
         "version": "1.14.2"
        }
       ]
      },
      "text/html": [
       "<table><tr><th>Software</th><th>Version</th></tr><tr><td>Python</td><td>3.6.8 64bit [GCC 4.2.1 Compatible Clang 4.0.1 (tags/RELEASE_401/final)]</td></tr><tr><td>IPython</td><td>6.4.0</td></tr><tr><td>OS</td><td>Darwin 16.7.0 x86_64 i386 64bit</td></tr><tr><td>pandas</td><td>0.23.4</td></tr><tr><td>numpy</td><td>1.14.2</td></tr><tr><td colspan='2'>Thu May 09 12:03:23 2019 PDT</td></tr></table>"
      ],
      "text/latex": [
       "\\begin{tabular}{|l|l|}\\hline\n",
       "{\\bf Software} & {\\bf Version} \\\\ \\hline\\hline\n",
       "Python & 3.6.8 64bit [GCC 4.2.1 Compatible Clang 4.0.1 (tags/RELEASE\\_401/final)] \\\\ \\hline\n",
       "IPython & 6.4.0 \\\\ \\hline\n",
       "OS & Darwin 16.7.0 x86\\_64 i386 64bit \\\\ \\hline\n",
       "pandas & 0.23.4 \\\\ \\hline\n",
       "numpy & 1.14.2 \\\\ \\hline\n",
       "\\hline \\multicolumn{2}{|l|}{Thu May 09 12:03:23 2019 PDT} \\\\ \\hline\n",
       "\\end{tabular}\n"
      ],
      "text/plain": [
       "Software versions\n",
       "Python 3.6.8 64bit [GCC 4.2.1 Compatible Clang 4.0.1 (tags/RELEASE_401/final)]\n",
       "IPython 6.4.0\n",
       "OS Darwin 16.7.0 x86_64 i386 64bit\n",
       "pandas 0.23.4\n",
       "numpy 1.14.2\n",
       "Thu May 09 12:03:23 2019 PDT"
      ]
     },
     "execution_count": 1,
     "metadata": {},
     "output_type": "execute_result"
    }
   ],
   "source": [
    "# %load jupyter_default.py\n",
    "import pandas as pd\n",
    "import numpy as np\n",
    "import os\n",
    "import re\n",
    "import datetime\n",
    "import time\n",
    "import glob\n",
    "import json\n",
    "from tqdm import tqdm_notebook, tqdm\n",
    "from colorama import Fore, Style\n",
    "\n",
    "%matplotlib inline\n",
    "import matplotlib.pyplot as plt\n",
    "import matplotlib.colors\n",
    "import seaborn as sns\n",
    "from slugify import slugify\n",
    "\n",
    "%config InlineBackend.figure_format='retina'\n",
    "sns.set() # Revert to matplotlib defaults\n",
    "plt.rcParams['figure.figsize'] = (12, 8)\n",
    "plt.rcParams['axes.labelpad'] = 20\n",
    "plt.rcParams['legend.fancybox'] = True\n",
    "plt.style.use('ggplot')\n",
    "\n",
    "SMALL_SIZE, MEDIUM_SIZE, BIGGER_SIZE = 14, 16, 20\n",
    "plt.rc('font', size=SMALL_SIZE)\n",
    "plt.rc('axes', titlesize=SMALL_SIZE)\n",
    "plt.rc('axes', labelsize=MEDIUM_SIZE)\n",
    "plt.rc('xtick', labelsize=SMALL_SIZE)\n",
    "plt.rc('ytick', labelsize=SMALL_SIZE)\n",
    "plt.rc('legend', fontsize=MEDIUM_SIZE)\n",
    "plt.rc('axes', titlesize=BIGGER_SIZE)\n",
    "\n",
    "def savefig(name):\n",
    "    plt.savefig(f'../../figures/{name}.png', bbox_inches='tight', dpi=300)\n",
    "\n",
    "%reload_ext autoreload\n",
    "%autoreload 2\n",
    "    \n",
    "%reload_ext version_information\n",
    "%version_information pandas, numpy"
   ]
  },
  {
   "cell_type": "code",
   "execution_count": 2,
   "metadata": {},
   "outputs": [],
   "source": [
    "from google.cloud import bigquery"
   ]
  },
  {
   "cell_type": "code",
   "execution_count": 3,
   "metadata": {},
   "outputs": [
    {
     "data": {
      "text/plain": [
       "True"
      ]
     },
     "execution_count": 3,
     "metadata": {},
     "output_type": "execute_result"
    }
   ],
   "source": [
    "from dotenv import load_dotenv\n",
    "load_dotenv('../../.env')"
   ]
  },
  {
   "cell_type": "code",
   "execution_count": 4,
   "metadata": {},
   "outputs": [],
   "source": [
    "client = bigquery.Client()"
   ]
  },
  {
   "cell_type": "markdown",
   "metadata": {},
   "source": [
    "# Page Paths\n",
    "Alex's development notebook for page paths."
   ]
  },
  {
   "cell_type": "markdown",
   "metadata": {},
   "source": [
    "## Read data"
   ]
  },
  {
   "cell_type": "markdown",
   "metadata": {},
   "source": [
    "### Read precomputed local file"
   ]
  },
  {
   "cell_type": "code",
   "execution_count": 5,
   "metadata": {},
   "outputs": [
    {
     "name": "stdout",
     "output_type": "stream",
     "text": [
      "Loading ../../data/interim/page_paths_raw.csv\n"
     ]
    }
   ],
   "source": [
    "def load_file(f_path):\n",
    "    if not os.path.exists(f_path):\n",
    "        print('No data found. Run data load script above.')\n",
    "        return\n",
    "    print('Loading {}'.format(f_path))\n",
    "    df = pd.read_csv(f_path)\n",
    "    df.date = pd.to_datetime(df.date)\n",
    "    return df\n",
    "\n",
    "df_long = load_file('../../data/interim/page_paths_raw.csv')"
   ]
  },
  {
   "cell_type": "code",
   "execution_count": 6,
   "metadata": {},
   "outputs": [
    {
     "data": {
      "text/html": [
       "<div>\n",
       "<style scoped>\n",
       "    .dataframe tbody tr th:only-of-type {\n",
       "        vertical-align: middle;\n",
       "    }\n",
       "\n",
       "    .dataframe tbody tr th {\n",
       "        vertical-align: top;\n",
       "    }\n",
       "\n",
       "    .dataframe thead th {\n",
       "        text-align: right;\n",
       "    }\n",
       "</style>\n",
       "<table border=\"1\" class=\"dataframe\">\n",
       "  <thead>\n",
       "    <tr style=\"text-align: right;\">\n",
       "      <th></th>\n",
       "      <th>id</th>\n",
       "      <th>date</th>\n",
       "      <th>isMobile</th>\n",
       "      <th>transactions</th>\n",
       "      <th>numHits</th>\n",
       "      <th>hitNumber</th>\n",
       "      <th>pagePath</th>\n",
       "      <th>pageTitle</th>\n",
       "    </tr>\n",
       "  </thead>\n",
       "  <tbody>\n",
       "    <tr>\n",
       "      <th>0</th>\n",
       "      <td>1</td>\n",
       "      <td>2016-08-01</td>\n",
       "      <td>False</td>\n",
       "      <td>NaN</td>\n",
       "      <td>3</td>\n",
       "      <td>1</td>\n",
       "      <td>/home</td>\n",
       "      <td>Home</td>\n",
       "    </tr>\n",
       "    <tr>\n",
       "      <th>1</th>\n",
       "      <td>1</td>\n",
       "      <td>2016-08-01</td>\n",
       "      <td>False</td>\n",
       "      <td>NaN</td>\n",
       "      <td>3</td>\n",
       "      <td>2</td>\n",
       "      <td>/google+redesign/gift+cards</td>\n",
       "      <td>Gift Cards</td>\n",
       "    </tr>\n",
       "    <tr>\n",
       "      <th>2</th>\n",
       "      <td>1</td>\n",
       "      <td>2016-08-01</td>\n",
       "      <td>False</td>\n",
       "      <td>NaN</td>\n",
       "      <td>3</td>\n",
       "      <td>3</td>\n",
       "      <td>/signin.html</td>\n",
       "      <td>The Google Merchandise Store - Log In</td>\n",
       "    </tr>\n",
       "    <tr>\n",
       "      <th>3</th>\n",
       "      <td>2</td>\n",
       "      <td>2016-08-01</td>\n",
       "      <td>False</td>\n",
       "      <td>NaN</td>\n",
       "      <td>3</td>\n",
       "      <td>1</td>\n",
       "      <td>/home</td>\n",
       "      <td>Home</td>\n",
       "    </tr>\n",
       "    <tr>\n",
       "      <th>4</th>\n",
       "      <td>2</td>\n",
       "      <td>2016-08-01</td>\n",
       "      <td>False</td>\n",
       "      <td>NaN</td>\n",
       "      <td>3</td>\n",
       "      <td>2</td>\n",
       "      <td>/google+redesign/apparel/men++s/men++s+t+shirts</td>\n",
       "      <td>Men's-T-Shirts</td>\n",
       "    </tr>\n",
       "  </tbody>\n",
       "</table>\n",
       "</div>"
      ],
      "text/plain": [
       "   id       date  isMobile  transactions  numHits  hitNumber  \\\n",
       "0   1 2016-08-01     False           NaN        3          1   \n",
       "1   1 2016-08-01     False           NaN        3          2   \n",
       "2   1 2016-08-01     False           NaN        3          3   \n",
       "3   2 2016-08-01     False           NaN        3          1   \n",
       "4   2 2016-08-01     False           NaN        3          2   \n",
       "\n",
       "                                          pagePath  \\\n",
       "0                                            /home   \n",
       "1                      /google+redesign/gift+cards   \n",
       "2                                     /signin.html   \n",
       "3                                            /home   \n",
       "4  /google+redesign/apparel/men++s/men++s+t+shirts   \n",
       "\n",
       "                               pageTitle  \n",
       "0                                   Home  \n",
       "1                             Gift Cards  \n",
       "2  The Google Merchandise Store - Log In  \n",
       "3                                   Home  \n",
       "4                         Men's-T-Shirts  "
      ]
     },
     "execution_count": 6,
     "metadata": {},
     "output_type": "execute_result"
    }
   ],
   "source": [
    "df_long.head()"
   ]
  },
  {
   "cell_type": "code",
   "execution_count": 7,
   "metadata": {},
   "outputs": [],
   "source": [
    "# df['week'] = df.date.apply(lambda x: x.strftime('%W'))\n",
    "# df['year'] = df.date.apply(lambda x: x.strftime('%Y'))\n",
    "# df['week_start'] = df[['week', 'year']].apply(\n",
    "#     lambda x: datetime.datetime.strptime('{}-{}-1'.format(x.year, x.week), '%Y-%W-%w'),\n",
    "#     axis=1\n",
    "# )"
   ]
  },
  {
   "cell_type": "code",
   "execution_count": 8,
   "metadata": {},
   "outputs": [
    {
     "data": {
      "text/plain": [
       "id                       int64\n",
       "date            datetime64[ns]\n",
       "isMobile                  bool\n",
       "transactions           float64\n",
       "numHits                  int64\n",
       "hitNumber                int64\n",
       "pagePath                object\n",
       "pageTitle               object\n",
       "dtype: object"
      ]
     },
     "execution_count": 8,
     "metadata": {},
     "output_type": "execute_result"
    }
   ],
   "source": [
    "df_long.dtypes"
   ]
  },
  {
   "cell_type": "code",
   "execution_count": null,
   "metadata": {},
   "outputs": [],
   "source": []
  },
  {
   "cell_type": "markdown",
   "metadata": {},
   "source": [
    "### Build session aggregate dataframe"
   ]
  },
  {
   "cell_type": "code",
   "execution_count": 9,
   "metadata": {},
   "outputs": [
    {
     "data": {
      "application/vnd.jupyter.widget-view+json": {
       "model_id": "91b1096df9cd42c7a448eff49650c41c",
       "version_major": 2,
       "version_minor": 0
      },
      "text/plain": [
       "HBox(children=(IntProgress(value=0, max=903653), HTML(value='')))"
      ]
     },
     "metadata": {},
     "output_type": "display_data"
    },
    {
     "name": "stdout",
     "output_type": "stream",
     "text": [
      "\n"
     ]
    }
   ],
   "source": [
    "CELL_TRIGGER = True\n",
    "\n",
    "def make_session_agg_df(df) -> pd.DataFrame:\n",
    "    df_ = df.copy()\n",
    "    df_.transactions = df_.transactions.fillna(0)\n",
    "\n",
    "    data = []\n",
    "    cols = ['id', 'date', 'is_mobile', 'transactions', 'num_hits',\n",
    "            'page_paths', 'page_titles']\n",
    "\n",
    "    for id_ in tqdm_notebook(df_['id'].drop_duplicates().tolist()):\n",
    "        m = df_['id'] == id_\n",
    "        s = df_[m]\n",
    "        data.append([\n",
    "            id_,\n",
    "            s.date.iloc[0],\n",
    "            s.isMobile.iloc[0],\n",
    "            s.transactions.sum(),\n",
    "            s.numHits.iloc[0],\n",
    "            s.pagePath.tolist(),\n",
    "            s.pageTitle.tolist(),\n",
    "        ])\n",
    "\n",
    "    return pd.DataFrame(data, columns=cols)\n",
    "\n",
    "if CELL_TRIGGER:\n",
    "    df_sess = make_session_agg_df(df_long)\n",
    "    df_sess.to_csv('../../data/interim/page_paths_sess_agg_raw.csv', index=False)\n",
    "    df_sess.to_pickle('../../data/interim/page_paths_sess_agg_raw.pkl')"
   ]
  },
  {
   "cell_type": "code",
   "execution_count": 10,
   "metadata": {},
   "outputs": [
    {
     "data": {
      "text/html": [
       "<div>\n",
       "<style scoped>\n",
       "    .dataframe tbody tr th:only-of-type {\n",
       "        vertical-align: middle;\n",
       "    }\n",
       "\n",
       "    .dataframe tbody tr th {\n",
       "        vertical-align: top;\n",
       "    }\n",
       "\n",
       "    .dataframe thead th {\n",
       "        text-align: right;\n",
       "    }\n",
       "</style>\n",
       "<table border=\"1\" class=\"dataframe\">\n",
       "  <thead>\n",
       "    <tr style=\"text-align: right;\">\n",
       "      <th></th>\n",
       "      <th>id</th>\n",
       "      <th>date</th>\n",
       "      <th>is_mobile</th>\n",
       "      <th>transactions</th>\n",
       "      <th>num_hits</th>\n",
       "      <th>page_paths</th>\n",
       "      <th>page_titles</th>\n",
       "    </tr>\n",
       "  </thead>\n",
       "  <tbody>\n",
       "    <tr>\n",
       "      <th>0</th>\n",
       "      <td>1</td>\n",
       "      <td>2016-08-01</td>\n",
       "      <td>False</td>\n",
       "      <td>0.0</td>\n",
       "      <td>3</td>\n",
       "      <td>[/home, /google+redesign/gift+cards, /signin.h...</td>\n",
       "      <td>[Home, Gift Cards, The Google Merchandise Stor...</td>\n",
       "    </tr>\n",
       "    <tr>\n",
       "      <th>1</th>\n",
       "      <td>2</td>\n",
       "      <td>2016-08-01</td>\n",
       "      <td>False</td>\n",
       "      <td>0.0</td>\n",
       "      <td>3</td>\n",
       "      <td>[/home, /google+redesign/apparel/men++s/men++s...</td>\n",
       "      <td>[Home, Men's-T-Shirts, Office]</td>\n",
       "    </tr>\n",
       "    <tr>\n",
       "      <th>2</th>\n",
       "      <td>3</td>\n",
       "      <td>2016-08-01</td>\n",
       "      <td>False</td>\n",
       "      <td>0.0</td>\n",
       "      <td>4</td>\n",
       "      <td>[/home, /home, /google+redesign/apparel, /home]</td>\n",
       "      <td>[Home, Home, Apparel, Home]</td>\n",
       "    </tr>\n",
       "    <tr>\n",
       "      <th>3</th>\n",
       "      <td>4</td>\n",
       "      <td>2016-08-01</td>\n",
       "      <td>False</td>\n",
       "      <td>0.0</td>\n",
       "      <td>4</td>\n",
       "      <td>[/home, /google+redesign/apparel, /home, /home]</td>\n",
       "      <td>[Home, Apparel, Home, Home]</td>\n",
       "    </tr>\n",
       "    <tr>\n",
       "      <th>4</th>\n",
       "      <td>5</td>\n",
       "      <td>2016-08-01</td>\n",
       "      <td>False</td>\n",
       "      <td>0.0</td>\n",
       "      <td>4</td>\n",
       "      <td>[/home, /home, /google+redesign/bags/backpacks...</td>\n",
       "      <td>[Home, Home, Backpacks, Backpacks]</td>\n",
       "    </tr>\n",
       "  </tbody>\n",
       "</table>\n",
       "</div>"
      ],
      "text/plain": [
       "   id       date  is_mobile  transactions  num_hits  \\\n",
       "0   1 2016-08-01      False           0.0         3   \n",
       "1   2 2016-08-01      False           0.0         3   \n",
       "2   3 2016-08-01      False           0.0         4   \n",
       "3   4 2016-08-01      False           0.0         4   \n",
       "4   5 2016-08-01      False           0.0         4   \n",
       "\n",
       "                                          page_paths  \\\n",
       "0  [/home, /google+redesign/gift+cards, /signin.h...   \n",
       "1  [/home, /google+redesign/apparel/men++s/men++s...   \n",
       "2    [/home, /home, /google+redesign/apparel, /home]   \n",
       "3    [/home, /google+redesign/apparel, /home, /home]   \n",
       "4  [/home, /home, /google+redesign/bags/backpacks...   \n",
       "\n",
       "                                         page_titles  \n",
       "0  [Home, Gift Cards, The Google Merchandise Stor...  \n",
       "1                     [Home, Men's-T-Shirts, Office]  \n",
       "2                        [Home, Home, Apparel, Home]  \n",
       "3                        [Home, Apparel, Home, Home]  \n",
       "4                 [Home, Home, Backpacks, Backpacks]  "
      ]
     },
     "execution_count": 10,
     "metadata": {},
     "output_type": "execute_result"
    }
   ],
   "source": [
    "df_sess.head()"
   ]
  },
  {
   "cell_type": "code",
   "execution_count": 11,
   "metadata": {},
   "outputs": [
    {
     "data": {
      "text/html": [
       "<div>\n",
       "<style scoped>\n",
       "    .dataframe tbody tr th:only-of-type {\n",
       "        vertical-align: middle;\n",
       "    }\n",
       "\n",
       "    .dataframe tbody tr th {\n",
       "        vertical-align: top;\n",
       "    }\n",
       "\n",
       "    .dataframe thead th {\n",
       "        text-align: right;\n",
       "    }\n",
       "</style>\n",
       "<table border=\"1\" class=\"dataframe\">\n",
       "  <thead>\n",
       "    <tr style=\"text-align: right;\">\n",
       "      <th></th>\n",
       "      <th>id</th>\n",
       "      <th>date</th>\n",
       "      <th>is_mobile</th>\n",
       "      <th>transactions</th>\n",
       "      <th>num_hits</th>\n",
       "      <th>page_paths</th>\n",
       "      <th>page_titles</th>\n",
       "    </tr>\n",
       "  </thead>\n",
       "  <tbody>\n",
       "    <tr>\n",
       "      <th>903648</th>\n",
       "      <td>903649</td>\n",
       "      <td>2017-08-01</td>\n",
       "      <td>True</td>\n",
       "      <td>0.0</td>\n",
       "      <td>11</td>\n",
       "      <td>[/google+redesign/shop+by+brand/youtube, /goog...</td>\n",
       "      <td>[YouTube | Shop by Brand | Google Merchandise ...</td>\n",
       "    </tr>\n",
       "    <tr>\n",
       "      <th>903649</th>\n",
       "      <td>903650</td>\n",
       "      <td>2017-08-01</td>\n",
       "      <td>False</td>\n",
       "      <td>0.0</td>\n",
       "      <td>12</td>\n",
       "      <td>[/google+redesign/apparel/men+s+t+shirts/googl...</td>\n",
       "      <td>[Google Toddler Short Sleeve Tee Red, Google T...</td>\n",
       "    </tr>\n",
       "    <tr>\n",
       "      <th>903650</th>\n",
       "      <td>903651</td>\n",
       "      <td>2017-08-01</td>\n",
       "      <td>False</td>\n",
       "      <td>0.0</td>\n",
       "      <td>14</td>\n",
       "      <td>[/google+redesign/apparel/womens+performance+w...</td>\n",
       "      <td>[Women's Performance Wear | Apparel | Google M...</td>\n",
       "    </tr>\n",
       "    <tr>\n",
       "      <th>903651</th>\n",
       "      <td>903652</td>\n",
       "      <td>2017-08-01</td>\n",
       "      <td>False</td>\n",
       "      <td>0.0</td>\n",
       "      <td>14</td>\n",
       "      <td>[/google+redesign/shop+by+brand/youtube, /goog...</td>\n",
       "      <td>[YouTube | Shop by Brand | Google Merchandise ...</td>\n",
       "    </tr>\n",
       "    <tr>\n",
       "      <th>903652</th>\n",
       "      <td>903653</td>\n",
       "      <td>2017-08-01</td>\n",
       "      <td>True</td>\n",
       "      <td>0.0</td>\n",
       "      <td>18</td>\n",
       "      <td>[/google+redesign/shop+by+brand/youtube, /stor...</td>\n",
       "      <td>[YouTube | Shop by Brand | Google Merchandise ...</td>\n",
       "    </tr>\n",
       "  </tbody>\n",
       "</table>\n",
       "</div>"
      ],
      "text/plain": [
       "            id       date  is_mobile  transactions  num_hits  \\\n",
       "903648  903649 2017-08-01       True           0.0        11   \n",
       "903649  903650 2017-08-01      False           0.0        12   \n",
       "903650  903651 2017-08-01      False           0.0        14   \n",
       "903651  903652 2017-08-01      False           0.0        14   \n",
       "903652  903653 2017-08-01       True           0.0        18   \n",
       "\n",
       "                                               page_paths  \\\n",
       "903648  [/google+redesign/shop+by+brand/youtube, /goog...   \n",
       "903649  [/google+redesign/apparel/men+s+t+shirts/googl...   \n",
       "903650  [/google+redesign/apparel/womens+performance+w...   \n",
       "903651  [/google+redesign/shop+by+brand/youtube, /goog...   \n",
       "903652  [/google+redesign/shop+by+brand/youtube, /stor...   \n",
       "\n",
       "                                              page_titles  \n",
       "903648  [YouTube | Shop by Brand | Google Merchandise ...  \n",
       "903649  [Google Toddler Short Sleeve Tee Red, Google T...  \n",
       "903650  [Women's Performance Wear | Apparel | Google M...  \n",
       "903651  [YouTube | Shop by Brand | Google Merchandise ...  \n",
       "903652  [YouTube | Shop by Brand | Google Merchandise ...  "
      ]
     },
     "execution_count": 11,
     "metadata": {},
     "output_type": "execute_result"
    }
   ],
   "source": [
    "df_sess.tail()"
   ]
  },
  {
   "cell_type": "code",
   "execution_count": 12,
   "metadata": {},
   "outputs": [
    {
     "data": {
      "text/plain": [
       "id                       int64\n",
       "date            datetime64[ns]\n",
       "is_mobile                 bool\n",
       "transactions           float64\n",
       "num_hits                 int64\n",
       "page_paths              object\n",
       "page_titles             object\n",
       "dtype: object"
      ]
     },
     "execution_count": 12,
     "metadata": {},
     "output_type": "execute_result"
    }
   ],
   "source": [
    "df_sess.dtypes"
   ]
  },
  {
   "cell_type": "markdown",
   "metadata": {},
   "source": [
    "### Load session aggregate dataframe"
   ]
  },
  {
   "cell_type": "code",
   "execution_count": 13,
   "metadata": {},
   "outputs": [
    {
     "name": "stdout",
     "output_type": "stream",
     "text": [
      "Loading ../../data/interim/page_paths_sess_agg_raw.pkl\n"
     ]
    }
   ],
   "source": [
    "CELL_TRIGGER = True\n",
    "\n",
    "def load_file(f_path, load_pkl):\n",
    "    if not os.path.exists(f_path):\n",
    "        print('No data found. Run data load script above.')\n",
    "        return\n",
    "    print('Loading {}'.format(f_path))\n",
    "    if load_pkl:\n",
    "        df = pd.read_pickle(f_path)\n",
    "    else:\n",
    "        df = pd.read_csv(f_path)\n",
    "        df.date = pd.to_datetime(df.date)\n",
    "    return df\n",
    "\n",
    "if CELL_TRIGGER:\n",
    "    df_sess = load_file('../../data/interim/page_paths_sess_agg_raw.pkl', load_pkl=True)"
   ]
  },
  {
   "cell_type": "code",
   "execution_count": 14,
   "metadata": {},
   "outputs": [
    {
     "data": {
      "text/html": [
       "<div>\n",
       "<style scoped>\n",
       "    .dataframe tbody tr th:only-of-type {\n",
       "        vertical-align: middle;\n",
       "    }\n",
       "\n",
       "    .dataframe tbody tr th {\n",
       "        vertical-align: top;\n",
       "    }\n",
       "\n",
       "    .dataframe thead th {\n",
       "        text-align: right;\n",
       "    }\n",
       "</style>\n",
       "<table border=\"1\" class=\"dataframe\">\n",
       "  <thead>\n",
       "    <tr style=\"text-align: right;\">\n",
       "      <th></th>\n",
       "      <th>id</th>\n",
       "      <th>date</th>\n",
       "      <th>is_mobile</th>\n",
       "      <th>transactions</th>\n",
       "      <th>num_hits</th>\n",
       "      <th>page_paths</th>\n",
       "      <th>page_titles</th>\n",
       "    </tr>\n",
       "  </thead>\n",
       "  <tbody>\n",
       "    <tr>\n",
       "      <th>0</th>\n",
       "      <td>1</td>\n",
       "      <td>2016-08-01</td>\n",
       "      <td>False</td>\n",
       "      <td>0.0</td>\n",
       "      <td>3</td>\n",
       "      <td>[/home, /google+redesign/gift+cards, /signin.h...</td>\n",
       "      <td>[Home, Gift Cards, The Google Merchandise Stor...</td>\n",
       "    </tr>\n",
       "    <tr>\n",
       "      <th>1</th>\n",
       "      <td>2</td>\n",
       "      <td>2016-08-01</td>\n",
       "      <td>False</td>\n",
       "      <td>0.0</td>\n",
       "      <td>3</td>\n",
       "      <td>[/home, /google+redesign/apparel/men++s/men++s...</td>\n",
       "      <td>[Home, Men's-T-Shirts, Office]</td>\n",
       "    </tr>\n",
       "    <tr>\n",
       "      <th>2</th>\n",
       "      <td>3</td>\n",
       "      <td>2016-08-01</td>\n",
       "      <td>False</td>\n",
       "      <td>0.0</td>\n",
       "      <td>4</td>\n",
       "      <td>[/home, /home, /google+redesign/apparel, /home]</td>\n",
       "      <td>[Home, Home, Apparel, Home]</td>\n",
       "    </tr>\n",
       "    <tr>\n",
       "      <th>3</th>\n",
       "      <td>4</td>\n",
       "      <td>2016-08-01</td>\n",
       "      <td>False</td>\n",
       "      <td>0.0</td>\n",
       "      <td>4</td>\n",
       "      <td>[/home, /google+redesign/apparel, /home, /home]</td>\n",
       "      <td>[Home, Apparel, Home, Home]</td>\n",
       "    </tr>\n",
       "    <tr>\n",
       "      <th>4</th>\n",
       "      <td>5</td>\n",
       "      <td>2016-08-01</td>\n",
       "      <td>False</td>\n",
       "      <td>0.0</td>\n",
       "      <td>4</td>\n",
       "      <td>[/home, /home, /google+redesign/bags/backpacks...</td>\n",
       "      <td>[Home, Home, Backpacks, Backpacks]</td>\n",
       "    </tr>\n",
       "  </tbody>\n",
       "</table>\n",
       "</div>"
      ],
      "text/plain": [
       "   id       date  is_mobile  transactions  num_hits  \\\n",
       "0   1 2016-08-01      False           0.0         3   \n",
       "1   2 2016-08-01      False           0.0         3   \n",
       "2   3 2016-08-01      False           0.0         4   \n",
       "3   4 2016-08-01      False           0.0         4   \n",
       "4   5 2016-08-01      False           0.0         4   \n",
       "\n",
       "                                          page_paths  \\\n",
       "0  [/home, /google+redesign/gift+cards, /signin.h...   \n",
       "1  [/home, /google+redesign/apparel/men++s/men++s...   \n",
       "2    [/home, /home, /google+redesign/apparel, /home]   \n",
       "3    [/home, /google+redesign/apparel, /home, /home]   \n",
       "4  [/home, /home, /google+redesign/bags/backpacks...   \n",
       "\n",
       "                                         page_titles  \n",
       "0  [Home, Gift Cards, The Google Merchandise Stor...  \n",
       "1                     [Home, Men's-T-Shirts, Office]  \n",
       "2                        [Home, Home, Apparel, Home]  \n",
       "3                        [Home, Apparel, Home, Home]  \n",
       "4                 [Home, Home, Backpacks, Backpacks]  "
      ]
     },
     "execution_count": 14,
     "metadata": {},
     "output_type": "execute_result"
    }
   ],
   "source": [
    "df_sess.head()"
   ]
  },
  {
   "cell_type": "code",
   "execution_count": 15,
   "metadata": {},
   "outputs": [
    {
     "data": {
      "text/html": [
       "<div>\n",
       "<style scoped>\n",
       "    .dataframe tbody tr th:only-of-type {\n",
       "        vertical-align: middle;\n",
       "    }\n",
       "\n",
       "    .dataframe tbody tr th {\n",
       "        vertical-align: top;\n",
       "    }\n",
       "\n",
       "    .dataframe thead th {\n",
       "        text-align: right;\n",
       "    }\n",
       "</style>\n",
       "<table border=\"1\" class=\"dataframe\">\n",
       "  <thead>\n",
       "    <tr style=\"text-align: right;\">\n",
       "      <th></th>\n",
       "      <th>id</th>\n",
       "      <th>date</th>\n",
       "      <th>is_mobile</th>\n",
       "      <th>transactions</th>\n",
       "      <th>num_hits</th>\n",
       "      <th>page_paths</th>\n",
       "      <th>page_titles</th>\n",
       "    </tr>\n",
       "  </thead>\n",
       "  <tbody>\n",
       "    <tr>\n",
       "      <th>903648</th>\n",
       "      <td>903649</td>\n",
       "      <td>2017-08-01</td>\n",
       "      <td>True</td>\n",
       "      <td>0.0</td>\n",
       "      <td>11</td>\n",
       "      <td>[/google+redesign/shop+by+brand/youtube, /goog...</td>\n",
       "      <td>[YouTube | Shop by Brand | Google Merchandise ...</td>\n",
       "    </tr>\n",
       "    <tr>\n",
       "      <th>903649</th>\n",
       "      <td>903650</td>\n",
       "      <td>2017-08-01</td>\n",
       "      <td>False</td>\n",
       "      <td>0.0</td>\n",
       "      <td>12</td>\n",
       "      <td>[/google+redesign/apparel/men+s+t+shirts/googl...</td>\n",
       "      <td>[Google Toddler Short Sleeve Tee Red, Google T...</td>\n",
       "    </tr>\n",
       "    <tr>\n",
       "      <th>903650</th>\n",
       "      <td>903651</td>\n",
       "      <td>2017-08-01</td>\n",
       "      <td>False</td>\n",
       "      <td>0.0</td>\n",
       "      <td>14</td>\n",
       "      <td>[/google+redesign/apparel/womens+performance+w...</td>\n",
       "      <td>[Women's Performance Wear | Apparel | Google M...</td>\n",
       "    </tr>\n",
       "    <tr>\n",
       "      <th>903651</th>\n",
       "      <td>903652</td>\n",
       "      <td>2017-08-01</td>\n",
       "      <td>False</td>\n",
       "      <td>0.0</td>\n",
       "      <td>14</td>\n",
       "      <td>[/google+redesign/shop+by+brand/youtube, /goog...</td>\n",
       "      <td>[YouTube | Shop by Brand | Google Merchandise ...</td>\n",
       "    </tr>\n",
       "    <tr>\n",
       "      <th>903652</th>\n",
       "      <td>903653</td>\n",
       "      <td>2017-08-01</td>\n",
       "      <td>True</td>\n",
       "      <td>0.0</td>\n",
       "      <td>18</td>\n",
       "      <td>[/google+redesign/shop+by+brand/youtube, /stor...</td>\n",
       "      <td>[YouTube | Shop by Brand | Google Merchandise ...</td>\n",
       "    </tr>\n",
       "  </tbody>\n",
       "</table>\n",
       "</div>"
      ],
      "text/plain": [
       "            id       date  is_mobile  transactions  num_hits  \\\n",
       "903648  903649 2017-08-01       True           0.0        11   \n",
       "903649  903650 2017-08-01      False           0.0        12   \n",
       "903650  903651 2017-08-01      False           0.0        14   \n",
       "903651  903652 2017-08-01      False           0.0        14   \n",
       "903652  903653 2017-08-01       True           0.0        18   \n",
       "\n",
       "                                               page_paths  \\\n",
       "903648  [/google+redesign/shop+by+brand/youtube, /goog...   \n",
       "903649  [/google+redesign/apparel/men+s+t+shirts/googl...   \n",
       "903650  [/google+redesign/apparel/womens+performance+w...   \n",
       "903651  [/google+redesign/shop+by+brand/youtube, /goog...   \n",
       "903652  [/google+redesign/shop+by+brand/youtube, /stor...   \n",
       "\n",
       "                                              page_titles  \n",
       "903648  [YouTube | Shop by Brand | Google Merchandise ...  \n",
       "903649  [Google Toddler Short Sleeve Tee Red, Google T...  \n",
       "903650  [Women's Performance Wear | Apparel | Google M...  \n",
       "903651  [YouTube | Shop by Brand | Google Merchandise ...  \n",
       "903652  [YouTube | Shop by Brand | Google Merchandise ...  "
      ]
     },
     "execution_count": 15,
     "metadata": {},
     "output_type": "execute_result"
    }
   ],
   "source": [
    "df_sess.tail()"
   ]
  },
  {
   "cell_type": "code",
   "execution_count": 16,
   "metadata": {},
   "outputs": [
    {
     "data": {
      "text/plain": [
       "id                       int64\n",
       "date            datetime64[ns]\n",
       "is_mobile                 bool\n",
       "transactions           float64\n",
       "num_hits                 int64\n",
       "page_paths              object\n",
       "page_titles             object\n",
       "dtype: object"
      ]
     },
     "execution_count": 16,
     "metadata": {},
     "output_type": "execute_result"
    }
   ],
   "source": [
    "df_sess.dtypes"
   ]
  },
  {
   "cell_type": "markdown",
   "metadata": {},
   "source": [
    "Fixing bug where page title is NaN for the homepage...\n",
    "\n",
    "e.g."
   ]
  },
  {
   "cell_type": "code",
   "execution_count": 33,
   "metadata": {},
   "outputs": [
    {
     "data": {
      "text/plain": [
       "id                            35916\n",
       "date            2016-08-15 00:00:00\n",
       "is_mobile                     False\n",
       "transactions                      0\n",
       "num_hits                          2\n",
       "page_paths           [/home, /home]\n",
       "page_titles              [nan, nan]\n",
       "Name: 35915, dtype: object"
      ]
     },
     "execution_count": 33,
     "metadata": {},
     "output_type": "execute_result"
    }
   ],
   "source": [
    "df_sess.iloc[35915]"
   ]
  },
  {
   "cell_type": "markdown",
   "metadata": {},
   "source": [
    "**NOTE: making a huge assumption here (that ever NaN is a homepage - might not be the case). Be more carful if running this in production.**"
   ]
  },
  {
   "cell_type": "code",
   "execution_count": 39,
   "metadata": {},
   "outputs": [],
   "source": [
    "df_sess['page_titles'] = df_sess['page_titles'].apply(lambda seq: ['Home' if str(x) == 'nan' else x for x in seq])"
   ]
  },
  {
   "cell_type": "code",
   "execution_count": null,
   "metadata": {},
   "outputs": [],
   "source": []
  },
  {
   "cell_type": "markdown",
   "metadata": {},
   "source": [
    "## Data mining"
   ]
  },
  {
   "cell_type": "code",
   "execution_count": 17,
   "metadata": {},
   "outputs": [],
   "source": [
    "from prefixspan import PrefixSpan\n",
    "from sklearn.preprocessing import LabelEncoder"
   ]
  },
  {
   "cell_type": "markdown",
   "metadata": {},
   "source": [
    "Setting up sequential pattern mining"
   ]
  },
  {
   "cell_type": "code",
   "execution_count": 154,
   "metadata": {},
   "outputs": [],
   "source": [
    "import hashlib\n",
    "hash_sha224 = lambda x: hashlib.sha224(x.encode('utf-8')).hexdigest()\n",
    "\n",
    "def custom_filter(patt, matches=None):\n",
    "    \"\"\"\n",
    "    Filter top sequence results, removing matches that\n",
    "        - Have length 1\n",
    "        - Have duplicate elements\n",
    "        \n",
    "    patt : list\n",
    "        Sequential pattern e.g. [1, 2]\n",
    "        \n",
    "    matches : list\n",
    "        Index and position of matches (not used).\n",
    "        e.g. [(0, 1), (1, 0), (2, 1), (3, 0)]\n",
    "    \"\"\"\n",
    "    patt_len = len(patt)\n",
    "    if patt_len <= 1:\n",
    "        return False\n",
    "    elif len(set(patt)) != patt_len:\n",
    "        return False\n",
    "    return True\n",
    "\n",
    "\n",
    "def callback(patt, matches, top_k, patt_indices, label_encoder):\n",
    "    \"\"\"\n",
    "    Save index results using this callback\n",
    "    \n",
    "    patt, matches : lists\n",
    "        Passed by PrefixSpan.topk\n",
    "        \n",
    "    top_k : list\n",
    "        Store counts and page_labels\n",
    "        \n",
    "    patt_indices : dict\n",
    "        Store training data indices for feature label keys\n",
    "\n",
    "    \"\"\"\n",
    "    pattern = label_encoder.inverse_transform(patt)\n",
    "    patt_id = hash_sha224('_'.join(pattern))\n",
    "    patt_indices[patt_id] = [m[0] for m in matches]\n",
    "    top_k.append([len(matches), pattern])\n",
    "\n",
    "\n",
    "def get_topk_sequences(sequences, label_encoder, k, custom_filter, callback):\n",
    "    labeled_sequences = [label_encoder.transform(seq) for seq in sequences]\n",
    "    prefix_spans = PrefixSpan(labeled_sequences)\n",
    "    patt_indices = {}\n",
    "    top_k = []\n",
    "    prefix_spans.topk(k, callback=lambda patt, matches: callback(patt, matches, top_k, patt_indices, label_encoder))\n",
    "    \n",
    "    out = []\n",
    "    for count, page_labels in top_k:\n",
    "        if custom_filter(page_labels):\n",
    "            out.append([count, page_labels])\n",
    "\n",
    "    return out, patt_indices"
   ]
  },
  {
   "cell_type": "markdown",
   "metadata": {},
   "source": [
    "Setting up label encoders"
   ]
  },
  {
   "cell_type": "code",
   "execution_count": 20,
   "metadata": {},
   "outputs": [
    {
     "data": {
      "text/plain": [
       "LabelEncoder()"
      ]
     },
     "execution_count": 20,
     "metadata": {},
     "output_type": "execute_result"
    }
   ],
   "source": [
    "page_paths = list(df_long.pagePath.unique())\n",
    "page_path_le = LabelEncoder()\n",
    "page_path_le.fit(page_paths)\n",
    "\n",
    "page_titles = list(df_long.pageTitle.unique())\n",
    "page_title_le = LabelEncoder()\n",
    "page_title_le.fit(page_titles)"
   ]
  },
  {
   "cell_type": "markdown",
   "metadata": {},
   "source": [
    "Let's focus on page titles for now. Can loop back and look at page path later"
   ]
  },
  {
   "cell_type": "code",
   "execution_count": 42,
   "metadata": {},
   "outputs": [],
   "source": [
    "# for i, seq in enumerate(sequences):\n",
    "#     try:\n",
    "#         page_title_le.transform(seq)\n",
    "#     except Exception as e:\n",
    "#         print(e)\n",
    "#         print(i)\n",
    "#         print(seq)"
   ]
  },
  {
   "cell_type": "code",
   "execution_count": 155,
   "metadata": {},
   "outputs": [],
   "source": [
    "import warnings\n",
    "warnings.filterwarnings('ignore', category=DeprecationWarning)"
   ]
  },
  {
   "cell_type": "code",
   "execution_count": 156,
   "metadata": {},
   "outputs": [],
   "source": [
    "sequences = df_sess.page_titles.tolist()\n",
    "\n",
    "topk_raw, topk_patt_indices_raw = get_topk_sequences(\n",
    "    sequences,\n",
    "    label_encoder=page_title_le,\n",
    "    k=1000,\n",
    "    custom_filter=custom_filter,\n",
    "    callback=callback,\n",
    ")"
   ]
  },
  {
   "cell_type": "code",
   "execution_count": 157,
   "metadata": {},
   "outputs": [
    {
     "data": {
      "text/plain": [
       "[[112529, array(['Google Online Store', 'Home'], dtype='<U576')],\n",
       " [49191, array(['Home', 'Shopping Cart'], dtype='<U576')],\n",
       " [43229,\n",
       "  array(['Home', 'The Google Merchandise Store - Log In'], dtype='<U576')],\n",
       " [29552, array(['Home', \"Men's T-Shirts | Apparel | Google Merchandise Store\"],\n",
       "        dtype='<U576')],\n",
       " [29058, array(['Home', 'Store search results'], dtype='<U576')],\n",
       " [28653, array(['Home', 'YouTube | Shop by Brand | Google Merchandise Store'],\n",
       "        dtype='<U576')],\n",
       " [28580, array(['Shopping Cart', 'The Google Merchandise Store - Log In'],\n",
       "        dtype='<U576')],\n",
       " [26441,\n",
       "  array(['The Google Merchandise Store - Log In', 'Home'], dtype='<U576')],\n",
       " [26022, array(['Shopping Cart', 'Home'], dtype='<U576')],\n",
       " [23450, array(['The Google Merchandise Store - Log In', 'Shopping Cart'],\n",
       "        dtype='<U576')],\n",
       " [22024, array(['Home', 'Google | Shop by Brand | Google Merchandise Store'],\n",
       "        dtype='<U576')],\n",
       " [21795, array(['Shopping Cart', 'Checkout Your Information'], dtype='<U576')],\n",
       " [20674, array(['Home', 'Backpacks | Bags | Google Merchandise Store'],\n",
       "        dtype='<U576')],\n",
       " [20509,\n",
       "  array(['Home', 'Electronics | Google Merchandise Store'], dtype='<U576')],\n",
       " [20208,\n",
       "  array(['Home', \"Men's Outerwear | Apparel | Google Merchandise Store\"],\n",
       "        dtype='<U576')],\n",
       " [19737, array(['Home', 'Apparel | Google Merchandise Store'], dtype='<U576')],\n",
       " [19490, array(['Home', 'Checkout Your Information'], dtype='<U576')],\n",
       " [19467, array(['Home', 'Shopping Cart', 'Checkout Your Information'],\n",
       "        dtype='<U576')],\n",
       " [19351, array(['YouTube | Shop by Brand | Google Merchandise Store', 'Home'],\n",
       "        dtype='<U576')],\n",
       " [18369,\n",
       "  array(['Home', 'Shopping Cart', 'The Google Merchandise Store - Log In'],\n",
       "        dtype='<U576')],\n",
       " [18146, array(['Home', 'Fun | Accessories | Google Merchandise Store'],\n",
       "        dtype='<U576')],\n",
       " [17659, array(['Shopping Cart', 'Payment Method'], dtype='<U576')],\n",
       " [17595, array(['The Google Merchandise Store - Log In',\n",
       "         'Checkout Your Information'], dtype='<U576')],\n",
       " [16165,\n",
       "  array(['Checkout Your Information', 'Payment Method'], dtype='<U576')],\n",
       " [16136,\n",
       "  array(['Shopping Cart', 'Checkout Your Information', 'Payment Method'],\n",
       "        dtype='<U576')],\n",
       " [16061, array(['Home', 'Office | Google Merchandise Store'], dtype='<U576')],\n",
       " [15693, array(['Home', 'Bags | Google Merchandise Store'], dtype='<U576')],\n",
       " [15423, array(['Home', 'Payment Method'], dtype='<U576')],\n",
       " [15418,\n",
       "  array(['Home', 'Accessories | Google Merchandise Store'], dtype='<U576')],\n",
       " [15394, array(['Home', 'Shopping Cart', 'Payment Method'], dtype='<U576')],\n",
       " [15372, array(['Shopping Cart', 'The Google Merchandise Store - Log In',\n",
       "         'Checkout Your Information'], dtype='<U576')],\n",
       " [15301, array(['The Google Merchandise Store - Log In', 'Shopping Cart',\n",
       "         'Checkout Your Information'], dtype='<U576')],\n",
       " [15296,\n",
       "  array(['The Google Merchandise Store - Log In', 'Home', 'Shopping Cart'],\n",
       "        dtype='<U576')],\n",
       " [14959,\n",
       "  array(['Home', 'Drinkware | Google Merchandise Store'], dtype='<U576')],\n",
       " [14797,\n",
       "  array(['Home', 'The Google Merchandise Store - Log In', 'Shopping Cart'],\n",
       "        dtype='<U576')],\n",
       " [14732, array(['Home', 'Mugs & Cups | Drinkware | Google Merchandise Store'],\n",
       "        dtype='<U576')],\n",
       " [14473, array(['Home', 'Google Online Store'], dtype='<U576')],\n",
       " [14316, array(['The Google Merchandise Store - Log In',\n",
       "         'The Google Merchandise Store - My Account'], dtype='<U576')],\n",
       " [14246, array(['Home', 'Checkout Your Information', 'Payment Method'],\n",
       "        dtype='<U576')],\n",
       " [14230, array(['Home', 'Shopping Cart', 'Checkout Your Information',\n",
       "         'Payment Method'], dtype='<U576')],\n",
       " [14159,\n",
       "  array(['Shopping Cart', 'The Google Merchandise Store - Log In', 'Home'],\n",
       "        dtype='<U576')],\n",
       " [13979, array(['The Google Merchandise Store - Log In', 'Payment Method'],\n",
       "        dtype='<U576')],\n",
       " [13837, array(['Home', 'Audio | Electronics | Google Merchandise Store'],\n",
       "        dtype='<U576')],\n",
       " [13522,\n",
       "  array(['Home', \"Men's Apparel | Google Merchandise Store\"], dtype='<U576')],\n",
       " [13077, array([\"Men's T-Shirts | Apparel | Google Merchandise Store\", 'Home'],\n",
       "        dtype='<U576')],\n",
       " [12856, array(['Home', 'Office'], dtype='<U576')],\n",
       " [12676, array(['Home', 'Electronics'], dtype='<U576')],\n",
       " [12522, array(['Home',\n",
       "         'Water Bottles & Tumblers | Drinkware | Google Merchandise Store'],\n",
       "        dtype='<U576')],\n",
       " [12520,\n",
       "  array(['Google Online Store', 'The Google Merchandise Store - Log In'],\n",
       "        dtype='<U576')],\n",
       " [12451, array(['The Google Merchandise Store - Log In',\n",
       "         'Checkout Your Information', 'Payment Method'], dtype='<U576')]]"
      ]
     },
     "execution_count": 157,
     "metadata": {},
     "output_type": "execute_result"
    }
   ],
   "source": [
    "topk_raw[:50]"
   ]
  },
  {
   "cell_type": "code",
   "execution_count": null,
   "metadata": {},
   "outputs": [],
   "source": [
    "print('Indeces for top patterns:')\n",
    "\n",
    "patt_eg = topk_raw[0][1]\n",
    "patt_id = hash_sha224('_'.join(patt_eg))\n",
    "print(patt_eg)\n",
    "print(topk_patt_indices_raw[patt_id])\n",
    "print()\n",
    "\n",
    "patt_eg = topk_raw[1][1]\n",
    "patt_id = hash_sha224('_'.join(patt_eg))\n",
    "print(patt_eg)\n",
    "print(len(topk_patt_indices_raw[patt_id]))"
   ]
  },
  {
   "cell_type": "markdown",
   "metadata": {},
   "source": [
    "Dump calculation to file"
   ]
  },
  {
   "cell_type": "code",
   "execution_count": 159,
   "metadata": {},
   "outputs": [],
   "source": [
    "CELL_TRIGGER = True\n",
    "\n",
    "if CELL_TRIGGER:\n",
    "    \n",
    "    # Save the topk paths\n",
    "    with open('../../data/interim/path_paths_topk_1000_titles.jsonl', 'w') as f:\n",
    "        for line in topk_raw:\n",
    "            f.write('{}\\n'.format(\n",
    "                json.dumps({'count': line[0], 'pattern': list(line[1])})\n",
    "            ))\n",
    "            \n",
    "    # Load the index lookup dict\n",
    "    with open('../../data/interim/page_paths_topk_1000_titles_patt_indices.json', 'w') as f:\n",
    "        f.write(json.dumps(topk_patt_indices_raw))"
   ]
  },
  {
   "cell_type": "code",
   "execution_count": null,
   "metadata": {},
   "outputs": [],
   "source": []
  },
  {
   "cell_type": "code",
   "execution_count": null,
   "metadata": {},
   "outputs": [],
   "source": []
  },
  {
   "cell_type": "markdown",
   "metadata": {},
   "source": [
    "Add as wide-form (one hot encoded) features to `df_sess`"
   ]
  },
  {
   "cell_type": "markdown",
   "metadata": {},
   "source": [
    "### Modling converting / non-converting sessions with page path features"
   ]
  },
  {
   "cell_type": "markdown",
   "metadata": {},
   "source": [
    "#### Read in topk page paths"
   ]
  },
  {
   "cell_type": "code",
   "execution_count": 160,
   "metadata": {},
   "outputs": [],
   "source": [
    "CELL_TRIGGER = True\n",
    "\n",
    "if CELL_TRIGGER:\n",
    "    \n",
    "    # Load the topk paths\n",
    "    topk = []\n",
    "    with open('../../data/interim/path_paths_topk_1000_titles.jsonl', 'r') as f:\n",
    "        topk = [json.loads(line) for line in f.read().splitlines() if line.strip()]\n",
    "        \n",
    "    # Load the index lookup dict\n",
    "    with open('../../data/interim/page_paths_topk_1000_titles_patt_indices.json', 'r') as f:\n",
    "        topk_patt_indices = json.loads(f.read())\n",
    "    "
   ]
  },
  {
   "cell_type": "code",
   "execution_count": 161,
   "metadata": {},
   "outputs": [
    {
     "name": "stdout",
     "output_type": "stream",
     "text": [
      "{\n",
      "    \"2e47266bf9b3637ee9d21682a81bd4ad6667d25d1e0946564654bc9b\": [\n",
      "        0,\n",
      "        1,\n",
      "        2,\n",
      "        3,\n",
      "        4,\n",
      "        5,\n",
      "        6,\n",
      "        7,\n",
      "        8,\n",
      "        9,\n",
      "        10,\n",
      "        11,\n",
      "        12,\n",
      "        13,\n",
      "        14,\n",
      "        15,\n",
      "        16,\n",
      "        17,\n",
      "        18,\n",
      "        19,\n",
      "        20,\n",
      "        21,\n",
      "        22,\n",
      "        23,\n",
      "        24,\n",
      "        27,\n",
      "        29,\n",
      "        31,\n",
      "        32,\n",
      "        49,\n",
      "        50,\n",
      "        54,\n",
      "        55,\n",
      "        56,\n",
      "        58,\n",
      "        60,\n",
      "        62\n"
     ]
    }
   ],
   "source": [
    "print(json.dumps(topk_patt_indices, indent=4)[:500])"
   ]
  },
  {
   "cell_type": "code",
   "execution_count": 162,
   "metadata": {},
   "outputs": [],
   "source": [
    "import hashlib\n",
    "hash_sha224 = lambda x: hashlib.sha224(x.encode('utf-8')).hexdigest()"
   ]
  },
  {
   "cell_type": "code",
   "execution_count": 163,
   "metadata": {},
   "outputs": [
    {
     "data": {
      "text/html": [
       "<div>\n",
       "<style scoped>\n",
       "    .dataframe tbody tr th:only-of-type {\n",
       "        vertical-align: middle;\n",
       "    }\n",
       "\n",
       "    .dataframe tbody tr th {\n",
       "        vertical-align: top;\n",
       "    }\n",
       "\n",
       "    .dataframe thead th {\n",
       "        text-align: right;\n",
       "    }\n",
       "</style>\n",
       "<table border=\"1\" class=\"dataframe\">\n",
       "  <thead>\n",
       "    <tr style=\"text-align: right;\">\n",
       "      <th></th>\n",
       "      <th>count</th>\n",
       "      <th>pattern</th>\n",
       "      <th>pattern_str</th>\n",
       "      <th>pattern_hash</th>\n",
       "    </tr>\n",
       "  </thead>\n",
       "  <tbody>\n",
       "    <tr>\n",
       "      <th>0</th>\n",
       "      <td>112529</td>\n",
       "      <td>[Google Online Store, Home]</td>\n",
       "      <td>['Google Online Store', 'Home']</td>\n",
       "      <td>8f4f0025fb85213867ead12d84ea2e5055c357f971f9c8...</td>\n",
       "    </tr>\n",
       "    <tr>\n",
       "      <th>1</th>\n",
       "      <td>49191</td>\n",
       "      <td>[Home, Shopping Cart]</td>\n",
       "      <td>['Home', 'Shopping Cart']</td>\n",
       "      <td>60a83762c35819646db68cf17badede7a3aad8ef7aee74...</td>\n",
       "    </tr>\n",
       "    <tr>\n",
       "      <th>2</th>\n",
       "      <td>43229</td>\n",
       "      <td>[Home, The Google Merchandise Store - Log In]</td>\n",
       "      <td>['Home', 'The Google Merchandise Store - Log In']</td>\n",
       "      <td>8da84501af62cb70f8ec1ef98f6f97fd350ed51b8d5465...</td>\n",
       "    </tr>\n",
       "    <tr>\n",
       "      <th>3</th>\n",
       "      <td>29552</td>\n",
       "      <td>[Home, Men's T-Shirts | Apparel | Google Merch...</td>\n",
       "      <td>['Home', \"Men's T-Shirts | Apparel | Google Me...</td>\n",
       "      <td>2000276390f3a9f47fab5d4125e23af8fde0ff61ec08de...</td>\n",
       "    </tr>\n",
       "    <tr>\n",
       "      <th>4</th>\n",
       "      <td>29058</td>\n",
       "      <td>[Home, Store search results]</td>\n",
       "      <td>['Home', 'Store search results']</td>\n",
       "      <td>7a23cd532f76e62ea1680c6ce9d39a66ddae1135c4ed41...</td>\n",
       "    </tr>\n",
       "  </tbody>\n",
       "</table>\n",
       "</div>"
      ],
      "text/plain": [
       "    count                                            pattern  \\\n",
       "0  112529                        [Google Online Store, Home]   \n",
       "1   49191                              [Home, Shopping Cart]   \n",
       "2   43229      [Home, The Google Merchandise Store - Log In]   \n",
       "3   29552  [Home, Men's T-Shirts | Apparel | Google Merch...   \n",
       "4   29058                       [Home, Store search results]   \n",
       "\n",
       "                                         pattern_str  \\\n",
       "0                    ['Google Online Store', 'Home']   \n",
       "1                          ['Home', 'Shopping Cart']   \n",
       "2  ['Home', 'The Google Merchandise Store - Log In']   \n",
       "3  ['Home', \"Men's T-Shirts | Apparel | Google Me...   \n",
       "4                   ['Home', 'Store search results']   \n",
       "\n",
       "                                        pattern_hash  \n",
       "0  8f4f0025fb85213867ead12d84ea2e5055c357f971f9c8...  \n",
       "1  60a83762c35819646db68cf17badede7a3aad8ef7aee74...  \n",
       "2  8da84501af62cb70f8ec1ef98f6f97fd350ed51b8d5465...  \n",
       "3  2000276390f3a9f47fab5d4125e23af8fde0ff61ec08de...  \n",
       "4  7a23cd532f76e62ea1680c6ce9d39a66ddae1135c4ed41...  "
      ]
     },
     "execution_count": 163,
     "metadata": {},
     "output_type": "execute_result"
    }
   ],
   "source": [
    "df_topk = pd.DataFrame(topk)\n",
    "df_topk['pattern_str'] = df_topk.pattern.astype(str)\n",
    "df_topk['pattern_hash'] = df_topk.pattern.apply(lambda x: hash_sha224('_'.join(x)))\n",
    "df_topk.head()"
   ]
  },
  {
   "cell_type": "markdown",
   "metadata": {},
   "source": [
    "Add pattern ID to map indices"
   ]
  },
  {
   "cell_type": "code",
   "execution_count": null,
   "metadata": {},
   "outputs": [],
   "source": []
  },
  {
   "cell_type": "code",
   "execution_count": 164,
   "metadata": {},
   "outputs": [],
   "source": [
    "top_k_pattern_hashes = df_topk[['pattern_hash', 'pattern_str']].values.tolist()"
   ]
  },
  {
   "cell_type": "code",
   "execution_count": 165,
   "metadata": {},
   "outputs": [
    {
     "data": {
      "text/plain": [
       "[['8f4f0025fb85213867ead12d84ea2e5055c357f971f9c8e7f1adb756',\n",
       "  \"['Google Online Store', 'Home']\"],\n",
       " ['60a83762c35819646db68cf17badede7a3aad8ef7aee74e92601e59f',\n",
       "  \"['Home', 'Shopping Cart']\"],\n",
       " ['8da84501af62cb70f8ec1ef98f6f97fd350ed51b8d546561081af9fa',\n",
       "  \"['Home', 'The Google Merchandise Store - Log In']\"],\n",
       " ['2000276390f3a9f47fab5d4125e23af8fde0ff61ec08dee32329174e',\n",
       "  '[\\'Home\\', \"Men\\'s T-Shirts | Apparel | Google Merchandise Store\"]'],\n",
       " ['7a23cd532f76e62ea1680c6ce9d39a66ddae1135c4ed410f00d33370',\n",
       "  \"['Home', 'Store search results']\"]]"
      ]
     },
     "execution_count": 165,
     "metadata": {},
     "output_type": "execute_result"
    }
   ],
   "source": [
    "top_k_pattern_hashes[:5]"
   ]
  },
  {
   "cell_type": "code",
   "execution_count": 166,
   "metadata": {},
   "outputs": [],
   "source": [
    "# dict(\n",
    "#     list(topk_counts.items())[:10]\n",
    "# )"
   ]
  },
  {
   "cell_type": "markdown",
   "metadata": {},
   "source": [
    "Label training data"
   ]
  },
  {
   "cell_type": "code",
   "execution_count": 167,
   "metadata": {},
   "outputs": [],
   "source": [
    "df_training = pd.read_pickle('../../data/interim/page_paths_sess_agg_raw.pkl')"
   ]
  },
  {
   "cell_type": "code",
   "execution_count": 168,
   "metadata": {},
   "outputs": [
    {
     "data": {
      "text/html": [
       "<div>\n",
       "<style scoped>\n",
       "    .dataframe tbody tr th:only-of-type {\n",
       "        vertical-align: middle;\n",
       "    }\n",
       "\n",
       "    .dataframe tbody tr th {\n",
       "        vertical-align: top;\n",
       "    }\n",
       "\n",
       "    .dataframe thead th {\n",
       "        text-align: right;\n",
       "    }\n",
       "</style>\n",
       "<table border=\"1\" class=\"dataframe\">\n",
       "  <thead>\n",
       "    <tr style=\"text-align: right;\">\n",
       "      <th></th>\n",
       "      <th>id</th>\n",
       "      <th>date</th>\n",
       "      <th>is_mobile</th>\n",
       "      <th>transactions</th>\n",
       "      <th>num_hits</th>\n",
       "      <th>page_paths</th>\n",
       "      <th>page_titles</th>\n",
       "    </tr>\n",
       "  </thead>\n",
       "  <tbody>\n",
       "    <tr>\n",
       "      <th>0</th>\n",
       "      <td>1</td>\n",
       "      <td>2016-08-01</td>\n",
       "      <td>False</td>\n",
       "      <td>0.0</td>\n",
       "      <td>3</td>\n",
       "      <td>[/home, /google+redesign/gift+cards, /signin.h...</td>\n",
       "      <td>[Home, Gift Cards, The Google Merchandise Stor...</td>\n",
       "    </tr>\n",
       "    <tr>\n",
       "      <th>1</th>\n",
       "      <td>2</td>\n",
       "      <td>2016-08-01</td>\n",
       "      <td>False</td>\n",
       "      <td>0.0</td>\n",
       "      <td>3</td>\n",
       "      <td>[/home, /google+redesign/apparel/men++s/men++s...</td>\n",
       "      <td>[Home, Men's-T-Shirts, Office]</td>\n",
       "    </tr>\n",
       "    <tr>\n",
       "      <th>2</th>\n",
       "      <td>3</td>\n",
       "      <td>2016-08-01</td>\n",
       "      <td>False</td>\n",
       "      <td>0.0</td>\n",
       "      <td>4</td>\n",
       "      <td>[/home, /home, /google+redesign/apparel, /home]</td>\n",
       "      <td>[Home, Home, Apparel, Home]</td>\n",
       "    </tr>\n",
       "    <tr>\n",
       "      <th>3</th>\n",
       "      <td>4</td>\n",
       "      <td>2016-08-01</td>\n",
       "      <td>False</td>\n",
       "      <td>0.0</td>\n",
       "      <td>4</td>\n",
       "      <td>[/home, /google+redesign/apparel, /home, /home]</td>\n",
       "      <td>[Home, Apparel, Home, Home]</td>\n",
       "    </tr>\n",
       "    <tr>\n",
       "      <th>4</th>\n",
       "      <td>5</td>\n",
       "      <td>2016-08-01</td>\n",
       "      <td>False</td>\n",
       "      <td>0.0</td>\n",
       "      <td>4</td>\n",
       "      <td>[/home, /home, /google+redesign/bags/backpacks...</td>\n",
       "      <td>[Home, Home, Backpacks, Backpacks]</td>\n",
       "    </tr>\n",
       "  </tbody>\n",
       "</table>\n",
       "</div>"
      ],
      "text/plain": [
       "   id       date  is_mobile  transactions  num_hits  \\\n",
       "0   1 2016-08-01      False           0.0         3   \n",
       "1   2 2016-08-01      False           0.0         3   \n",
       "2   3 2016-08-01      False           0.0         4   \n",
       "3   4 2016-08-01      False           0.0         4   \n",
       "4   5 2016-08-01      False           0.0         4   \n",
       "\n",
       "                                          page_paths  \\\n",
       "0  [/home, /google+redesign/gift+cards, /signin.h...   \n",
       "1  [/home, /google+redesign/apparel/men++s/men++s...   \n",
       "2    [/home, /home, /google+redesign/apparel, /home]   \n",
       "3    [/home, /google+redesign/apparel, /home, /home]   \n",
       "4  [/home, /home, /google+redesign/bags/backpacks...   \n",
       "\n",
       "                                         page_titles  \n",
       "0  [Home, Gift Cards, The Google Merchandise Stor...  \n",
       "1                     [Home, Men's-T-Shirts, Office]  \n",
       "2                        [Home, Home, Apparel, Home]  \n",
       "3                        [Home, Apparel, Home, Home]  \n",
       "4                 [Home, Home, Backpacks, Backpacks]  "
      ]
     },
     "execution_count": 168,
     "metadata": {},
     "output_type": "execute_result"
    }
   ],
   "source": [
    "df_training.head()"
   ]
  },
  {
   "cell_type": "markdown",
   "metadata": {},
   "source": [
    "Fill NaN page_paths with `Home`."
   ]
  },
  {
   "cell_type": "markdown",
   "metadata": {},
   "source": [
    "**NOTE: making a huge assumption here (that ever NaN is a homepage - might not be the case). Be more carful if running this in production.**"
   ]
  },
  {
   "cell_type": "code",
   "execution_count": 169,
   "metadata": {},
   "outputs": [],
   "source": [
    "df_training['page_titles_nan_fill'] = df_training['page_titles'].apply(\n",
    "    lambda seq: ['Home' if str(x) == 'nan' else x for x in seq]\n",
    ")"
   ]
  },
  {
   "cell_type": "code",
   "execution_count": 170,
   "metadata": {},
   "outputs": [],
   "source": [
    "import hashlib\n",
    "hash_sha224 = lambda x: hashlib.sha224(x.encode('utf-8')).hexdigest()\n",
    "df_training['page_titles_hash'] = df_training..apply(\n",
    "    lambda x: hash_sha224('_'.join(x))\n",
    ")"
   ]
  },
  {
   "cell_type": "code",
   "execution_count": 171,
   "metadata": {},
   "outputs": [
    {
     "data": {
      "text/html": [
       "<div>\n",
       "<style scoped>\n",
       "    .dataframe tbody tr th:only-of-type {\n",
       "        vertical-align: middle;\n",
       "    }\n",
       "\n",
       "    .dataframe tbody tr th {\n",
       "        vertical-align: top;\n",
       "    }\n",
       "\n",
       "    .dataframe thead th {\n",
       "        text-align: right;\n",
       "    }\n",
       "</style>\n",
       "<table border=\"1\" class=\"dataframe\">\n",
       "  <thead>\n",
       "    <tr style=\"text-align: right;\">\n",
       "      <th></th>\n",
       "      <th>id</th>\n",
       "      <th>date</th>\n",
       "      <th>is_mobile</th>\n",
       "      <th>transactions</th>\n",
       "      <th>num_hits</th>\n",
       "      <th>page_paths</th>\n",
       "      <th>page_titles</th>\n",
       "      <th>page_titles_nan_fill</th>\n",
       "      <th>page_titles_hash</th>\n",
       "    </tr>\n",
       "  </thead>\n",
       "  <tbody>\n",
       "    <tr>\n",
       "      <th>0</th>\n",
       "      <td>1</td>\n",
       "      <td>2016-08-01</td>\n",
       "      <td>False</td>\n",
       "      <td>0.0</td>\n",
       "      <td>3</td>\n",
       "      <td>[/home, /google+redesign/gift+cards, /signin.h...</td>\n",
       "      <td>[Home, Gift Cards, The Google Merchandise Stor...</td>\n",
       "      <td>[Home, Gift Cards, The Google Merchandise Stor...</td>\n",
       "      <td>40160474b06fb6909366690db164e2751b6f65943fcfc9...</td>\n",
       "    </tr>\n",
       "    <tr>\n",
       "      <th>1</th>\n",
       "      <td>2</td>\n",
       "      <td>2016-08-01</td>\n",
       "      <td>False</td>\n",
       "      <td>0.0</td>\n",
       "      <td>3</td>\n",
       "      <td>[/home, /google+redesign/apparel/men++s/men++s...</td>\n",
       "      <td>[Home, Men's-T-Shirts, Office]</td>\n",
       "      <td>[Home, Men's-T-Shirts, Office]</td>\n",
       "      <td>5db266535704f167e4a677923f2ef51100f8a56c0fe7f9...</td>\n",
       "    </tr>\n",
       "    <tr>\n",
       "      <th>2</th>\n",
       "      <td>3</td>\n",
       "      <td>2016-08-01</td>\n",
       "      <td>False</td>\n",
       "      <td>0.0</td>\n",
       "      <td>4</td>\n",
       "      <td>[/home, /home, /google+redesign/apparel, /home]</td>\n",
       "      <td>[Home, Home, Apparel, Home]</td>\n",
       "      <td>[Home, Home, Apparel, Home]</td>\n",
       "      <td>ce310276e47ba6ced0de0ce3f3f1e67d40c3f516b749c5...</td>\n",
       "    </tr>\n",
       "    <tr>\n",
       "      <th>3</th>\n",
       "      <td>4</td>\n",
       "      <td>2016-08-01</td>\n",
       "      <td>False</td>\n",
       "      <td>0.0</td>\n",
       "      <td>4</td>\n",
       "      <td>[/home, /google+redesign/apparel, /home, /home]</td>\n",
       "      <td>[Home, Apparel, Home, Home]</td>\n",
       "      <td>[Home, Apparel, Home, Home]</td>\n",
       "      <td>0bca32c099c6a3963a4546ea7e881798054a49bc2497b4...</td>\n",
       "    </tr>\n",
       "    <tr>\n",
       "      <th>4</th>\n",
       "      <td>5</td>\n",
       "      <td>2016-08-01</td>\n",
       "      <td>False</td>\n",
       "      <td>0.0</td>\n",
       "      <td>4</td>\n",
       "      <td>[/home, /home, /google+redesign/bags/backpacks...</td>\n",
       "      <td>[Home, Home, Backpacks, Backpacks]</td>\n",
       "      <td>[Home, Home, Backpacks, Backpacks]</td>\n",
       "      <td>d6cf743432ca9ec6e16dff949205bea3437a1d6a2fe4b9...</td>\n",
       "    </tr>\n",
       "  </tbody>\n",
       "</table>\n",
       "</div>"
      ],
      "text/plain": [
       "   id       date  is_mobile  transactions  num_hits  \\\n",
       "0   1 2016-08-01      False           0.0         3   \n",
       "1   2 2016-08-01      False           0.0         3   \n",
       "2   3 2016-08-01      False           0.0         4   \n",
       "3   4 2016-08-01      False           0.0         4   \n",
       "4   5 2016-08-01      False           0.0         4   \n",
       "\n",
       "                                          page_paths  \\\n",
       "0  [/home, /google+redesign/gift+cards, /signin.h...   \n",
       "1  [/home, /google+redesign/apparel/men++s/men++s...   \n",
       "2    [/home, /home, /google+redesign/apparel, /home]   \n",
       "3    [/home, /google+redesign/apparel, /home, /home]   \n",
       "4  [/home, /home, /google+redesign/bags/backpacks...   \n",
       "\n",
       "                                         page_titles  \\\n",
       "0  [Home, Gift Cards, The Google Merchandise Stor...   \n",
       "1                     [Home, Men's-T-Shirts, Office]   \n",
       "2                        [Home, Home, Apparel, Home]   \n",
       "3                        [Home, Apparel, Home, Home]   \n",
       "4                 [Home, Home, Backpacks, Backpacks]   \n",
       "\n",
       "                                page_titles_nan_fill  \\\n",
       "0  [Home, Gift Cards, The Google Merchandise Stor...   \n",
       "1                     [Home, Men's-T-Shirts, Office]   \n",
       "2                        [Home, Home, Apparel, Home]   \n",
       "3                        [Home, Apparel, Home, Home]   \n",
       "4                 [Home, Home, Backpacks, Backpacks]   \n",
       "\n",
       "                                    page_titles_hash  \n",
       "0  40160474b06fb6909366690db164e2751b6f65943fcfc9...  \n",
       "1  5db266535704f167e4a677923f2ef51100f8a56c0fe7f9...  \n",
       "2  ce310276e47ba6ced0de0ce3f3f1e67d40c3f516b749c5...  \n",
       "3  0bca32c099c6a3963a4546ea7e881798054a49bc2497b4...  \n",
       "4  d6cf743432ca9ec6e16dff949205bea3437a1d6a2fe4b9...  "
      ]
     },
     "execution_count": 171,
     "metadata": {},
     "output_type": "execute_result"
    }
   ],
   "source": [
    "df_training.head()"
   ]
  },
  {
   "cell_type": "markdown",
   "metadata": {},
   "source": [
    "Attach features"
   ]
  },
  {
   "cell_type": "code",
   "execution_count": 175,
   "metadata": {},
   "outputs": [],
   "source": [
    "for seq_hash, seq_name in top_k_pattern_hashes:\n",
    "    del df_training[seq_name]"
   ]
  },
  {
   "cell_type": "code",
   "execution_count": 176,
   "metadata": {},
   "outputs": [],
   "source": [
    "for seq_hash, seq_name in top_k_pattern_hashes:\n",
    "    df_training[seq_hash] = 0\n",
    "    m = df_training.index.isin(topk_patt_indices.get(seq_hash, []))\n",
    "    if m.sum() == 0:\n",
    "        print('WARNING: no matches in training data for {}'.format(seq_name))\n",
    "    df_training.loc[m, seq_hash] = 1"
   ]
  },
  {
   "cell_type": "code",
   "execution_count": 178,
   "metadata": {},
   "outputs": [],
   "source": [
    "# Dump results (after long computation)\n",
    "df_training.to_csv('../../data/interim/page_paths_k_1000_titles_training_data.csv', index=False)\n",
    "df_training.to_pickle('../../data/interim/page_paths_k_1000_titles_training_data.pkl')"
   ]
  },
  {
   "cell_type": "code",
   "execution_count": 179,
   "metadata": {},
   "outputs": [
    {
     "data": {
      "text/html": [
       "<div>\n",
       "<style scoped>\n",
       "    .dataframe tbody tr th:only-of-type {\n",
       "        vertical-align: middle;\n",
       "    }\n",
       "\n",
       "    .dataframe tbody tr th {\n",
       "        vertical-align: top;\n",
       "    }\n",
       "\n",
       "    .dataframe thead th {\n",
       "        text-align: right;\n",
       "    }\n",
       "</style>\n",
       "<table border=\"1\" class=\"dataframe\">\n",
       "  <thead>\n",
       "    <tr style=\"text-align: right;\">\n",
       "      <th></th>\n",
       "      <th>id</th>\n",
       "      <th>date</th>\n",
       "      <th>is_mobile</th>\n",
       "      <th>transactions</th>\n",
       "      <th>num_hits</th>\n",
       "      <th>page_paths</th>\n",
       "      <th>page_titles</th>\n",
       "      <th>page_titles_nan_fill</th>\n",
       "      <th>page_titles_hash</th>\n",
       "      <th>8f4f0025fb85213867ead12d84ea2e5055c357f971f9c8e7f1adb756</th>\n",
       "      <th>...</th>\n",
       "      <th>5002d08d178d4bafd0a76eae01e2cf35680dfef666f3647040f7bd41</th>\n",
       "      <th>ede7daaa6e0383b96c3beb451146ada320b401968e3e3eca06a65aad</th>\n",
       "      <th>d35a77b88f394037d30c14f262c4fe720fa445c5d12eb449e00e9f59</th>\n",
       "      <th>379b9dae4488d6313b80f63dd4fdd3665d70839fd28f840b8ca62bd5</th>\n",
       "      <th>06f4fb3becae81d82eaa02bad15e9ea0914fbee01a6a840b125bc907</th>\n",
       "      <th>933171b072eee4f650c9f8589eb62ec26d86115965d84339526c6d00</th>\n",
       "      <th>67fa0960e8deb85cb7f8239ed220c3be116208e503eb3a7273153a8b</th>\n",
       "      <th>69a4ebf3b44d617b08b5c70eb588c86d94bb7cfbcd75e0fe19b0e57a</th>\n",
       "      <th>1601dc8123a7faec3533faaa7b312f3241fc55302c19a9b7ea33dd04</th>\n",
       "      <th>1ccb7fc71e2d1adf49c80960f9c9f512dc52b917e9d388e31305eade</th>\n",
       "    </tr>\n",
       "  </thead>\n",
       "  <tbody>\n",
       "    <tr>\n",
       "      <th>0</th>\n",
       "      <td>1</td>\n",
       "      <td>2016-08-01</td>\n",
       "      <td>False</td>\n",
       "      <td>0.0</td>\n",
       "      <td>3</td>\n",
       "      <td>[/home, /google+redesign/gift+cards, /signin.h...</td>\n",
       "      <td>[Home, Gift Cards, The Google Merchandise Stor...</td>\n",
       "      <td>[Home, Gift Cards, The Google Merchandise Stor...</td>\n",
       "      <td>40160474b06fb6909366690db164e2751b6f65943fcfc9...</td>\n",
       "      <td>0</td>\n",
       "      <td>...</td>\n",
       "      <td>0</td>\n",
       "      <td>0</td>\n",
       "      <td>0</td>\n",
       "      <td>0</td>\n",
       "      <td>0</td>\n",
       "      <td>0</td>\n",
       "      <td>0</td>\n",
       "      <td>0</td>\n",
       "      <td>0</td>\n",
       "      <td>0</td>\n",
       "    </tr>\n",
       "    <tr>\n",
       "      <th>1</th>\n",
       "      <td>2</td>\n",
       "      <td>2016-08-01</td>\n",
       "      <td>False</td>\n",
       "      <td>0.0</td>\n",
       "      <td>3</td>\n",
       "      <td>[/home, /google+redesign/apparel/men++s/men++s...</td>\n",
       "      <td>[Home, Men's-T-Shirts, Office]</td>\n",
       "      <td>[Home, Men's-T-Shirts, Office]</td>\n",
       "      <td>5db266535704f167e4a677923f2ef51100f8a56c0fe7f9...</td>\n",
       "      <td>0</td>\n",
       "      <td>...</td>\n",
       "      <td>0</td>\n",
       "      <td>0</td>\n",
       "      <td>0</td>\n",
       "      <td>0</td>\n",
       "      <td>0</td>\n",
       "      <td>0</td>\n",
       "      <td>0</td>\n",
       "      <td>0</td>\n",
       "      <td>0</td>\n",
       "      <td>0</td>\n",
       "    </tr>\n",
       "    <tr>\n",
       "      <th>2</th>\n",
       "      <td>3</td>\n",
       "      <td>2016-08-01</td>\n",
       "      <td>False</td>\n",
       "      <td>0.0</td>\n",
       "      <td>4</td>\n",
       "      <td>[/home, /home, /google+redesign/apparel, /home]</td>\n",
       "      <td>[Home, Home, Apparel, Home]</td>\n",
       "      <td>[Home, Home, Apparel, Home]</td>\n",
       "      <td>ce310276e47ba6ced0de0ce3f3f1e67d40c3f516b749c5...</td>\n",
       "      <td>0</td>\n",
       "      <td>...</td>\n",
       "      <td>0</td>\n",
       "      <td>0</td>\n",
       "      <td>0</td>\n",
       "      <td>0</td>\n",
       "      <td>0</td>\n",
       "      <td>0</td>\n",
       "      <td>0</td>\n",
       "      <td>0</td>\n",
       "      <td>0</td>\n",
       "      <td>0</td>\n",
       "    </tr>\n",
       "    <tr>\n",
       "      <th>3</th>\n",
       "      <td>4</td>\n",
       "      <td>2016-08-01</td>\n",
       "      <td>False</td>\n",
       "      <td>0.0</td>\n",
       "      <td>4</td>\n",
       "      <td>[/home, /google+redesign/apparel, /home, /home]</td>\n",
       "      <td>[Home, Apparel, Home, Home]</td>\n",
       "      <td>[Home, Apparel, Home, Home]</td>\n",
       "      <td>0bca32c099c6a3963a4546ea7e881798054a49bc2497b4...</td>\n",
       "      <td>0</td>\n",
       "      <td>...</td>\n",
       "      <td>0</td>\n",
       "      <td>0</td>\n",
       "      <td>0</td>\n",
       "      <td>0</td>\n",
       "      <td>0</td>\n",
       "      <td>0</td>\n",
       "      <td>0</td>\n",
       "      <td>0</td>\n",
       "      <td>0</td>\n",
       "      <td>0</td>\n",
       "    </tr>\n",
       "    <tr>\n",
       "      <th>4</th>\n",
       "      <td>5</td>\n",
       "      <td>2016-08-01</td>\n",
       "      <td>False</td>\n",
       "      <td>0.0</td>\n",
       "      <td>4</td>\n",
       "      <td>[/home, /home, /google+redesign/bags/backpacks...</td>\n",
       "      <td>[Home, Home, Backpacks, Backpacks]</td>\n",
       "      <td>[Home, Home, Backpacks, Backpacks]</td>\n",
       "      <td>d6cf743432ca9ec6e16dff949205bea3437a1d6a2fe4b9...</td>\n",
       "      <td>0</td>\n",
       "      <td>...</td>\n",
       "      <td>0</td>\n",
       "      <td>0</td>\n",
       "      <td>0</td>\n",
       "      <td>0</td>\n",
       "      <td>0</td>\n",
       "      <td>0</td>\n",
       "      <td>0</td>\n",
       "      <td>0</td>\n",
       "      <td>0</td>\n",
       "      <td>0</td>\n",
       "    </tr>\n",
       "  </tbody>\n",
       "</table>\n",
       "<p>5 rows × 293 columns</p>\n",
       "</div>"
      ],
      "text/plain": [
       "   id       date  is_mobile  transactions  num_hits  \\\n",
       "0   1 2016-08-01      False           0.0         3   \n",
       "1   2 2016-08-01      False           0.0         3   \n",
       "2   3 2016-08-01      False           0.0         4   \n",
       "3   4 2016-08-01      False           0.0         4   \n",
       "4   5 2016-08-01      False           0.0         4   \n",
       "\n",
       "                                          page_paths  \\\n",
       "0  [/home, /google+redesign/gift+cards, /signin.h...   \n",
       "1  [/home, /google+redesign/apparel/men++s/men++s...   \n",
       "2    [/home, /home, /google+redesign/apparel, /home]   \n",
       "3    [/home, /google+redesign/apparel, /home, /home]   \n",
       "4  [/home, /home, /google+redesign/bags/backpacks...   \n",
       "\n",
       "                                         page_titles  \\\n",
       "0  [Home, Gift Cards, The Google Merchandise Stor...   \n",
       "1                     [Home, Men's-T-Shirts, Office]   \n",
       "2                        [Home, Home, Apparel, Home]   \n",
       "3                        [Home, Apparel, Home, Home]   \n",
       "4                 [Home, Home, Backpacks, Backpacks]   \n",
       "\n",
       "                                page_titles_nan_fill  \\\n",
       "0  [Home, Gift Cards, The Google Merchandise Stor...   \n",
       "1                     [Home, Men's-T-Shirts, Office]   \n",
       "2                        [Home, Home, Apparel, Home]   \n",
       "3                        [Home, Apparel, Home, Home]   \n",
       "4                 [Home, Home, Backpacks, Backpacks]   \n",
       "\n",
       "                                    page_titles_hash  \\\n",
       "0  40160474b06fb6909366690db164e2751b6f65943fcfc9...   \n",
       "1  5db266535704f167e4a677923f2ef51100f8a56c0fe7f9...   \n",
       "2  ce310276e47ba6ced0de0ce3f3f1e67d40c3f516b749c5...   \n",
       "3  0bca32c099c6a3963a4546ea7e881798054a49bc2497b4...   \n",
       "4  d6cf743432ca9ec6e16dff949205bea3437a1d6a2fe4b9...   \n",
       "\n",
       "   8f4f0025fb85213867ead12d84ea2e5055c357f971f9c8e7f1adb756  \\\n",
       "0                                                  0          \n",
       "1                                                  0          \n",
       "2                                                  0          \n",
       "3                                                  0          \n",
       "4                                                  0          \n",
       "\n",
       "                             ...                             \\\n",
       "0                            ...                              \n",
       "1                            ...                              \n",
       "2                            ...                              \n",
       "3                            ...                              \n",
       "4                            ...                              \n",
       "\n",
       "   5002d08d178d4bafd0a76eae01e2cf35680dfef666f3647040f7bd41  \\\n",
       "0                                                  0          \n",
       "1                                                  0          \n",
       "2                                                  0          \n",
       "3                                                  0          \n",
       "4                                                  0          \n",
       "\n",
       "   ede7daaa6e0383b96c3beb451146ada320b401968e3e3eca06a65aad  \\\n",
       "0                                                  0          \n",
       "1                                                  0          \n",
       "2                                                  0          \n",
       "3                                                  0          \n",
       "4                                                  0          \n",
       "\n",
       "   d35a77b88f394037d30c14f262c4fe720fa445c5d12eb449e00e9f59  \\\n",
       "0                                                  0          \n",
       "1                                                  0          \n",
       "2                                                  0          \n",
       "3                                                  0          \n",
       "4                                                  0          \n",
       "\n",
       "   379b9dae4488d6313b80f63dd4fdd3665d70839fd28f840b8ca62bd5  \\\n",
       "0                                                  0          \n",
       "1                                                  0          \n",
       "2                                                  0          \n",
       "3                                                  0          \n",
       "4                                                  0          \n",
       "\n",
       "   06f4fb3becae81d82eaa02bad15e9ea0914fbee01a6a840b125bc907  \\\n",
       "0                                                  0          \n",
       "1                                                  0          \n",
       "2                                                  0          \n",
       "3                                                  0          \n",
       "4                                                  0          \n",
       "\n",
       "   933171b072eee4f650c9f8589eb62ec26d86115965d84339526c6d00  \\\n",
       "0                                                  0          \n",
       "1                                                  0          \n",
       "2                                                  0          \n",
       "3                                                  0          \n",
       "4                                                  0          \n",
       "\n",
       "   67fa0960e8deb85cb7f8239ed220c3be116208e503eb3a7273153a8b  \\\n",
       "0                                                  0          \n",
       "1                                                  0          \n",
       "2                                                  0          \n",
       "3                                                  0          \n",
       "4                                                  0          \n",
       "\n",
       "   69a4ebf3b44d617b08b5c70eb588c86d94bb7cfbcd75e0fe19b0e57a  \\\n",
       "0                                                  0          \n",
       "1                                                  0          \n",
       "2                                                  0          \n",
       "3                                                  0          \n",
       "4                                                  0          \n",
       "\n",
       "   1601dc8123a7faec3533faaa7b312f3241fc55302c19a9b7ea33dd04  \\\n",
       "0                                                  0          \n",
       "1                                                  0          \n",
       "2                                                  0          \n",
       "3                                                  0          \n",
       "4                                                  0          \n",
       "\n",
       "   1ccb7fc71e2d1adf49c80960f9c9f512dc52b917e9d388e31305eade  \n",
       "0                                                  0         \n",
       "1                                                  0         \n",
       "2                                                  0         \n",
       "3                                                  0         \n",
       "4                                                  0         \n",
       "\n",
       "[5 rows x 293 columns]"
      ]
     },
     "execution_count": 179,
     "metadata": {},
     "output_type": "execute_result"
    }
   ],
   "source": [
    "df_training.head()"
   ]
  },
  {
   "cell_type": "markdown",
   "metadata": {},
   "source": [
    "Adding labels for converting / non-converting"
   ]
  },
  {
   "cell_type": "code",
   "execution_count": 182,
   "metadata": {},
   "outputs": [
    {
     "data": {
      "text/plain": [
       "0"
      ]
     },
     "execution_count": 182,
     "metadata": {},
     "output_type": "execute_result"
    }
   ],
   "source": [
    "df_training['converting_session'] = (df_training.transactions > 0).astype(int)\n",
    "df_training['converting_session'].isnull().sum()"
   ]
  },
  {
   "cell_type": "code",
   "execution_count": 183,
   "metadata": {},
   "outputs": [
    {
     "data": {
      "text/plain": [
       "0    892101\n",
       "1     11552\n",
       "Name: converting_session, dtype: int64"
      ]
     },
     "execution_count": 183,
     "metadata": {},
     "output_type": "execute_result"
    }
   ],
   "source": [
    "df_training['converting_session'].value_counts()"
   ]
  },
  {
   "cell_type": "code",
   "execution_count": 199,
   "metadata": {},
   "outputs": [
    {
     "data": {
      "text/plain": [
       "Index(['ede7daaa6e0383b96c3beb451146ada320b401968e3e3eca06a65aad',\n",
       "       'd35a77b88f394037d30c14f262c4fe720fa445c5d12eb449e00e9f59',\n",
       "       '379b9dae4488d6313b80f63dd4fdd3665d70839fd28f840b8ca62bd5',\n",
       "       '06f4fb3becae81d82eaa02bad15e9ea0914fbee01a6a840b125bc907',\n",
       "       '933171b072eee4f650c9f8589eb62ec26d86115965d84339526c6d00',\n",
       "       '67fa0960e8deb85cb7f8239ed220c3be116208e503eb3a7273153a8b',\n",
       "       '69a4ebf3b44d617b08b5c70eb588c86d94bb7cfbcd75e0fe19b0e57a',\n",
       "       '1601dc8123a7faec3533faaa7b312f3241fc55302c19a9b7ea33dd04',\n",
       "       '1ccb7fc71e2d1adf49c80960f9c9f512dc52b917e9d388e31305eade',\n",
       "       'converting_session'],\n",
       "      dtype='object')"
      ]
     },
     "execution_count": 199,
     "metadata": {},
     "output_type": "execute_result"
    }
   ],
   "source": [
    "df_training.columns[-10:]"
   ]
  },
  {
   "cell_type": "code",
   "execution_count": 202,
   "metadata": {},
   "outputs": [
    {
     "name": "stdout",
     "output_type": "stream",
     "text": [
      "10 non-feature colums (converting_session, id, date...)\n",
      "284 feature columns (8f4f0025fb85213867ead12d84ea2e5055c357f971f9c8e7f1adb756, 60a83762c35819646db68cf17badede7a3aad8ef7aee74e92601e59f, 8da84501af62cb70f8ec1ef98f6f97fd350ed51b8d546561081af9fa...)\n",
      "target=converting_session\n"
     ]
    }
   ],
   "source": [
    "non_features = ['converting_session', 'id', 'date', 'is_mobile', 'transactions',\n",
    "                'num_hits', 'page_paths', 'page_titles', 'page_titles_nan_fill', \n",
    "                'page_titles_hash']\n",
    "target = 'converting_session'\n",
    "features = [col for col in df_training.columns if col not in non_features]\n",
    "\n",
    "print('{} non-feature colums ({}...)\\n{} feature columns ({}...)\\ntarget={}'.format(\n",
    "    len(non_features), ', '.join(non_features[:3]),\n",
    "    len(features), ', '.join(features[:3]),\n",
    "    target\n",
    "))"
   ]
  },
  {
   "cell_type": "markdown",
   "metadata": {},
   "source": [
    "Modeling with a decision tree"
   ]
  },
  {
   "cell_type": "code",
   "execution_count": 188,
   "metadata": {},
   "outputs": [],
   "source": [
    "from sklearn.ensemble import RandomForestClassifier\n",
    "from sklearn.model_selection import validation_curve"
   ]
  },
  {
   "cell_type": "markdown",
   "metadata": {},
   "source": [
    "Use a scoring function that's sensitive to false negatives (e.g. F1 score)"
   ]
  },
  {
   "cell_type": "code",
   "execution_count": 206,
   "metadata": {},
   "outputs": [],
   "source": [
    "validation_curve?"
   ]
  },
  {
   "cell_type": "code",
   "execution_count": 207,
   "metadata": {},
   "outputs": [],
   "source": [
    "RandomForestClassifier?"
   ]
  },
  {
   "cell_type": "code",
   "execution_count": 208,
   "metadata": {},
   "outputs": [
    {
     "name": "stdout",
     "output_type": "stream",
     "text": [
      "[CV] max_depth=10.0 ..................................................\n",
      "[CV] ......... max_depth=10.0, score=0.9911998282893325, total=  26.5s\n",
      "[CV] max_depth=31.622776601683793 ....................................\n"
     ]
    },
    {
     "name": "stderr",
     "output_type": "stream",
     "text": [
      "[Parallel(n_jobs=1)]: Done   1 out of   1 | elapsed:   28.5s remaining:    0.0s\n"
     ]
    },
    {
     "name": "stdout",
     "output_type": "stream",
     "text": [
      "[CV]  max_depth=31.622776601683793, score=0.9840034587116299, total=  40.9s\n",
      "[CV] max_depth=100.0 .................................................\n"
     ]
    },
    {
     "name": "stderr",
     "output_type": "stream",
     "text": [
      "[Parallel(n_jobs=1)]: Done   2 out of   2 | elapsed:  1.2min remaining:    0.0s\n"
     ]
    },
    {
     "name": "stdout",
     "output_type": "stream",
     "text": [
      "[CV] ........ max_depth=100.0, score=0.9728902492348055, total= 1.0min\n",
      "[CV] max_depth=316.22776601683796 ....................................\n"
     ]
    },
    {
     "name": "stderr",
     "output_type": "stream",
     "text": [
      "[Parallel(n_jobs=1)]: Done   3 out of   3 | elapsed:  2.3min remaining:    0.0s\n"
     ]
    },
    {
     "name": "stdout",
     "output_type": "stream",
     "text": [
      "[CV]  max_depth=316.22776601683796, score=0.9749072659829805, total= 1.0min\n",
      "[CV] max_depth=1000.0 ................................................\n"
     ]
    },
    {
     "name": "stderr",
     "output_type": "stream",
     "text": [
      "[Parallel(n_jobs=1)]: Done   4 out of   4 | elapsed:  3.4min remaining:    0.0s\n"
     ]
    },
    {
     "name": "stdout",
     "output_type": "stream",
     "text": [
      "[CV] ....... max_depth=1000.0, score=0.9760244115082826, total= 1.1min\n",
      "[CV] max_depth=10.0 ..................................................\n"
     ]
    },
    {
     "name": "stderr",
     "output_type": "stream",
     "text": [
      "[Parallel(n_jobs=1)]: Done   5 out of   5 | elapsed:  4.5min remaining:    0.0s\n"
     ]
    },
    {
     "name": "stdout",
     "output_type": "stream",
     "text": [
      "[CV] ......... max_depth=10.0, score=0.9781362767989812, total=  23.4s\n",
      "[CV] max_depth=31.622776601683793 ....................................\n"
     ]
    },
    {
     "name": "stderr",
     "output_type": "stream",
     "text": [
      "[Parallel(n_jobs=1)]: Done   6 out of   6 | elapsed:  4.9min remaining:    0.0s\n"
     ]
    },
    {
     "name": "stdout",
     "output_type": "stream",
     "text": [
      "[CV]  max_depth=31.622776601683793, score=0.9680737090207843, total=  41.5s\n",
      "[CV] max_depth=100.0 .................................................\n"
     ]
    },
    {
     "name": "stderr",
     "output_type": "stream",
     "text": [
      "[Parallel(n_jobs=1)]: Done   7 out of   7 | elapsed:  5.7min remaining:    0.0s\n"
     ]
    },
    {
     "name": "stdout",
     "output_type": "stream",
     "text": [
      "[CV] ........ max_depth=100.0, score=0.9706826449818106, total= 1.1min\n",
      "[CV] max_depth=316.22776601683796 ....................................\n"
     ]
    },
    {
     "name": "stderr",
     "output_type": "stream",
     "text": [
      "[Parallel(n_jobs=1)]: Done   8 out of   8 | elapsed:  6.8min remaining:    0.0s\n"
     ]
    },
    {
     "name": "stdout",
     "output_type": "stream",
     "text": [
      "[CV]  max_depth=316.22776601683796, score=0.9682267067410906, total= 1.2min\n",
      "[CV] max_depth=1000.0 ................................................\n"
     ]
    },
    {
     "name": "stderr",
     "output_type": "stream",
     "text": [
      "[Parallel(n_jobs=1)]: Done   9 out of   9 | elapsed:  8.1min remaining:    0.0s\n"
     ]
    },
    {
     "name": "stdout",
     "output_type": "stream",
     "text": [
      "[CV] ....... max_depth=1000.0, score=0.9676035185582493, total= 1.2min\n",
      "[CV] max_depth=10.0 ..................................................\n",
      "[CV] ......... max_depth=10.0, score=0.9630403006890791, total=  22.6s\n",
      "[CV] max_depth=31.622776601683793 ....................................\n",
      "[CV]  max_depth=31.622776601683793, score=0.9584208315833683, total=  40.4s\n",
      "[CV] max_depth=100.0 .................................................\n",
      "[CV] ........ max_depth=100.0, score=0.9545071609098568, total= 1.1min\n",
      "[CV] max_depth=316.22776601683796 ....................................\n",
      "[CV]  max_depth=316.22776601683796, score=0.9555882972005894, total= 1.2min\n",
      "[CV] max_depth=1000.0 ................................................\n",
      "[CV] ....... max_depth=1000.0, score=0.9564485588049653, total= 1.2min\n",
      "[CV] max_depth=10.0 ..................................................\n",
      "[CV] ......... max_depth=10.0, score=0.9626694473409801, total=  22.9s\n",
      "[CV] max_depth=31.622776601683793 ....................................\n",
      "[CV]  max_depth=31.622776601683793, score=0.960652992884052, total=  42.5s\n",
      "[CV] max_depth=100.0 .................................................\n",
      "[CV] ........ max_depth=100.0, score=0.9576164498531263, total= 1.1min\n",
      "[CV] max_depth=316.22776601683796 ....................................\n",
      "[CV]  max_depth=316.22776601683796, score=0.958961474036851, total= 1.2min\n",
      "[CV] max_depth=1000.0 ................................................\n",
      "[CV] ....... max_depth=1000.0, score=0.9585253456221199, total= 1.2min\n",
      "[CV] max_depth=10.0 ..................................................\n",
      "[CV] ......... max_depth=10.0, score=0.9532478278858089, total=  24.8s\n",
      "[CV] max_depth=31.622776601683793 ....................................\n",
      "[CV]  max_depth=31.622776601683793, score=0.9470612755314713, total=  40.9s\n",
      "[CV] max_depth=100.0 .................................................\n",
      "[CV] ........ max_depth=100.0, score=0.9455455873148341, total= 1.1min\n",
      "[CV] max_depth=316.22776601683796 ....................................\n",
      "[CV]  max_depth=316.22776601683796, score=0.9446417380405264, total= 1.2min\n",
      "[CV] max_depth=1000.0 ................................................\n",
      "[CV] ....... max_depth=1000.0, score=0.9470612755314713, total= 1.2min\n",
      "CPU times: user 23min 30s, sys: 1min 54s, total: 25min 24s\n",
      "Wall time: 23min 46s\n"
     ]
    },
    {
     "name": "stderr",
     "output_type": "stream",
     "text": [
      "[Parallel(n_jobs=1)]: Done  25 out of  25 | elapsed: 23.7min finished\n"
     ]
    }
   ],
   "source": [
    "%%time\n",
    "\n",
    "X = df_training[features].values\n",
    "y = df_training[target].values\n",
    "\n",
    "clf = RandomForestClassifier(n_estimators=10)\n",
    "max_depths = np.logspace(1, 3, 5)\n",
    "\n",
    "train_scores, test_scores = validation_curve(\n",
    "            estimator=clf,\n",
    "            X=X,\n",
    "            y=y,\n",
    "            param_name='max_depth',\n",
    "            param_range=max_depths,\n",
    "            cv=5,\n",
    "            verbose=10,\n",
    "            scoring='f1',\n",
    ");"
   ]
  },
  {
   "cell_type": "code",
   "execution_count": 209,
   "metadata": {},
   "outputs": [],
   "source": [
    "# Function to draw the validation curve\n",
    "\n",
    "def plot_validation_curve(train_scores, test_scores,\n",
    "                          param_range, xlabel='', log=False):\n",
    "    '''\n",
    "    This code is from scikit-learn docs:\n",
    "    http://scikit-learn.org/stable/auto_examples/model_selection/plot_learning_curve.html\n",
    "    \n",
    "    Also here:\n",
    "    https://github.com/rasbt/python-machine-learning-book-2nd-edition/blob/master/code/ch06/ch06.ipynb\n",
    "    '''\n",
    "    train_mean = np.mean(train_scores, axis=1)\n",
    "    train_std = np.std(train_scores, axis=1)\n",
    "    test_mean = np.mean(test_scores, axis=1)\n",
    "    test_std = np.std(test_scores, axis=1)\n",
    "\n",
    "    fig = plt.figure()\n",
    "    \n",
    "    plt.plot(param_range, train_mean, \n",
    "             color=sns.color_palette('Set1')[1], marker='o', \n",
    "             markersize=5, label='training accuracy')\n",
    "\n",
    "    plt.fill_between(param_range, train_mean + train_std,\n",
    "                     train_mean - train_std, alpha=0.15,\n",
    "                     color=sns.color_palette('Set1')[1])\n",
    "\n",
    "    plt.plot(param_range, test_mean, \n",
    "             color=sns.color_palette('Set1')[0], linestyle='--', \n",
    "             marker='s', markersize=5, \n",
    "             label='validation accuracy')\n",
    "\n",
    "    plt.fill_between(param_range, \n",
    "                     test_mean + test_std,\n",
    "                     test_mean - test_std, \n",
    "                     alpha=0.15, color=sns.color_palette('Set1')[0])\n",
    "\n",
    "    if log:\n",
    "        plt.xscale('log')\n",
    "    plt.legend(loc='lower right')\n",
    "    if xlabel:\n",
    "        plt.xlabel(xlabel)\n",
    "    plt.ylabel('Accuracy')\n",
    "    plt.ylim(0.9, 1.0)\n",
    "    return fig\n"
   ]
  },
  {
   "cell_type": "code",
   "execution_count": 211,
   "metadata": {},
   "outputs": [
    {
     "data": {
      "image/png": "[encoded data removed]",
      "text/plain": [
       "<Figure size 432x288 with 1 Axes>"
      ]
     },
     "metadata": {
      "image/png": {
       "height": 293,
       "width": 423
      }
     },
     "output_type": "display_data"
    }
   ],
   "source": [
    "plot_validation_curve(train_scores, test_scores,\n",
    "                      max_depths, xlabel='max_depth');"
   ]
  },
  {
   "cell_type": "code",
   "execution_count": 212,
   "metadata": {},
   "outputs": [
    {
     "name": "stdout",
     "output_type": "stream",
     "text": [
      "[CV] max_depth=1.0 ...................................................\n",
      "[CV] .......... max_depth=1.0, score=0.8492881688757977, total=  24.0s\n",
      "[CV] max_depth=8.25 ..................................................\n"
     ]
    },
    {
     "name": "stderr",
     "output_type": "stream",
     "text": [
      "[Parallel(n_jobs=1)]: Done   1 out of   1 | elapsed:   27.5s remaining:    0.0s\n"
     ]
    },
    {
     "name": "stdout",
     "output_type": "stream",
     "text": [
      "[CV] ......... max_depth=8.25, score=0.9914163090128756, total= 1.1min\n",
      "[CV] max_depth=15.5 ..................................................\n"
     ]
    },
    {
     "name": "stderr",
     "output_type": "stream",
     "text": [
      "[Parallel(n_jobs=1)]: Done   2 out of   2 | elapsed:  1.7min remaining:    0.0s\n"
     ]
    },
    {
     "name": "stdout",
     "output_type": "stream",
     "text": [
      "[CV] ......... max_depth=15.5, score=0.9907665879321451, total= 1.7min\n",
      "[CV] max_depth=22.75 .................................................\n"
     ]
    },
    {
     "name": "stderr",
     "output_type": "stream",
     "text": [
      "[Parallel(n_jobs=1)]: Done   3 out of   3 | elapsed:  3.5min remaining:    0.0s\n"
     ]
    },
    {
     "name": "stdout",
     "output_type": "stream",
     "text": [
      "[CV] ........ max_depth=22.75, score=0.9905498281786942, total= 2.2min\n",
      "[CV] max_depth=30.0 ..................................................\n"
     ]
    },
    {
     "name": "stderr",
     "output_type": "stream",
     "text": [
      "[Parallel(n_jobs=1)]: Done   4 out of   4 | elapsed:  5.8min remaining:    0.0s\n"
     ]
    },
    {
     "name": "stdout",
     "output_type": "stream",
     "text": [
      "[CV] ......... max_depth=30.0, score=0.9846619140203068, total= 2.7min\n",
      "[CV] max_depth=1.0 ...................................................\n"
     ]
    },
    {
     "name": "stderr",
     "output_type": "stream",
     "text": [
      "[Parallel(n_jobs=1)]: Done   5 out of   5 | elapsed:  8.6min remaining:    0.0s\n"
     ]
    },
    {
     "name": "stdout",
     "output_type": "stream",
     "text": [
      "[CV] .......... max_depth=1.0, score=0.9148164929768917, total=  21.5s\n",
      "[CV] max_depth=8.25 ..................................................\n"
     ]
    },
    {
     "name": "stderr",
     "output_type": "stream",
     "text": [
      "[Parallel(n_jobs=1)]: Done   6 out of   6 | elapsed:  9.0min remaining:    0.0s\n"
     ]
    },
    {
     "name": "stdout",
     "output_type": "stream",
     "text": [
      "[CV] ......... max_depth=8.25, score=0.9781455548482919, total= 1.1min\n",
      "[CV] max_depth=15.5 ..................................................\n"
     ]
    },
    {
     "name": "stderr",
     "output_type": "stream",
     "text": [
      "[Parallel(n_jobs=1)]: Done   7 out of   7 | elapsed: 10.2min remaining:    0.0s\n"
     ]
    },
    {
     "name": "stdout",
     "output_type": "stream",
     "text": [
      "[CV] ......... max_depth=15.5, score=0.9781455548482919, total= 1.8min\n",
      "[CV] max_depth=22.75 .................................................\n"
     ]
    },
    {
     "name": "stderr",
     "output_type": "stream",
     "text": [
      "[Parallel(n_jobs=1)]: Done   8 out of   8 | elapsed: 12.0min remaining:    0.0s\n"
     ]
    },
    {
     "name": "stdout",
     "output_type": "stream",
     "text": [
      "[CV] ........ max_depth=22.75, score=0.9777117384843981, total= 2.4min\n",
      "[CV] max_depth=30.0 ..................................................\n"
     ]
    },
    {
     "name": "stderr",
     "output_type": "stream",
     "text": [
      "[Parallel(n_jobs=1)]: Done   9 out of   9 | elapsed: 14.6min remaining:    0.0s\n"
     ]
    },
    {
     "name": "stdout",
     "output_type": "stream",
     "text": [
      "[CV] .......... max_depth=30.0, score=0.976190476190476, total= 2.8min\n",
      "[CV] max_depth=1.0 ...................................................\n",
      "[CV] .......... max_depth=1.0, score=0.9471225313229985, total=  21.4s\n",
      "[CV] max_depth=8.25 ..................................................\n",
      "[CV] ......... max_depth=8.25, score=0.9632567849686848, total= 1.1min\n",
      "[CV] max_depth=15.5 ..................................................\n",
      "[CV] ......... max_depth=15.5, score=0.9621734587251828, total= 1.8min\n",
      "[CV] max_depth=22.75 .................................................\n",
      "[CV] ........ max_depth=22.75, score=0.9626070607896386, total= 2.3min\n",
      "[CV] max_depth=30.0 ..................................................\n",
      "[CV] ......... max_depth=30.0, score=0.9615223755750731, total= 2.8min\n",
      "[CV] max_depth=1.0 ...................................................\n",
      "[CV] .......... max_depth=1.0, score=0.9538655993258901, total=  20.4s\n",
      "[CV] max_depth=8.25 ..................................................\n",
      "[CV] ......... max_depth=8.25, score=0.9626694473409801, total= 1.1min\n",
      "[CV] max_depth=15.5 ..................................................\n",
      "[CV] ......... max_depth=15.5, score=0.9626694473409801, total= 1.8min\n",
      "[CV] max_depth=22.75 .................................................\n",
      "[CV] ........ max_depth=22.75, score=0.9622365950344254, total= 2.3min\n",
      "[CV] max_depth=30.0 ..................................................\n",
      "[CV] ......... max_depth=30.0, score=0.9615866388308977, total= 2.8min\n",
      "[CV] max_depth=1.0 ...................................................\n",
      "[CV] .......... max_depth=1.0, score=0.9123867069486404, total=  21.1s\n",
      "[CV] max_depth=8.25 ..................................................\n",
      "[CV] ......... max_depth=8.25, score=0.9532478278858089, total= 1.1min\n",
      "[CV] max_depth=15.5 ..................................................\n",
      "[CV] ......... max_depth=15.5, score=0.9528145695364238, total= 1.8min\n",
      "[CV] max_depth=22.75 .................................................\n",
      "[CV] ........ max_depth=22.75, score=0.9525978058373009, total= 2.2min\n",
      "[CV] max_depth=30.0 ..................................................\n",
      "[CV] ......... max_depth=30.0, score=0.9497508305647842, total= 2.7min\n",
      "CPU times: user 47min 46s, sys: 2min 27s, total: 50min 13s\n",
      "Wall time: 43min 41s\n"
     ]
    },
    {
     "name": "stderr",
     "output_type": "stream",
     "text": [
      "[Parallel(n_jobs=1)]: Done  25 out of  25 | elapsed: 43.6min finished\n"
     ]
    }
   ],
   "source": [
    "%%time\n",
    "\n",
    "X = df_training[features].values\n",
    "y = df_training[target].values\n",
    "\n",
    "clf = RandomForestClassifier(n_estimators=50)\n",
    "max_depths = np.linspace(1, 30, 5)\n",
    "\n",
    "train_scores, test_scores = validation_curve(\n",
    "            estimator=clf,\n",
    "            X=X,\n",
    "            y=y,\n",
    "            param_name='max_depth',\n",
    "            param_range=max_depths,\n",
    "            cv=5,\n",
    "            verbose=10,\n",
    "            scoring='f1',\n",
    ");\n"
   ]
  },
  {
   "cell_type": "code",
   "execution_count": 213,
   "metadata": {},
   "outputs": [
    {
     "data": {
      "image/png": "[encoded data removed]",
      "text/plain": [
       "<Figure size 432x288 with 1 Axes>"
      ]
     },
     "metadata": {
      "image/png": {
       "height": 293,
       "width": 423
      }
     },
     "output_type": "display_data"
    }
   ],
   "source": [
    "plot_validation_curve(\n",
    "    train_scores, test_scores,\n",
    "    max_depths, xlabel='max_depth'\n",
    ");"
   ]
  },
  {
   "cell_type": "markdown",
   "metadata": {},
   "source": [
    "It looks like max depth of 10 is good.\n",
    "\n",
    "I'm not looking to do a deep dive into model selection or parameter tuning. I am more interested in training a model with good bias variance tradeoff and looking at the feature importances."
   ]
  },
  {
   "cell_type": "code",
   "execution_count": 262,
   "metadata": {},
   "outputs": [
    {
     "name": "stdout",
     "output_type": "stream",
     "text": [
      "CPU times: user 2min 11s, sys: 9.37 s, total: 2min 20s\n",
      "Wall time: 2min 4s\n"
     ]
    }
   ],
   "source": [
    "%%time\n",
    "\n",
    "X = df_training[features].sample(frac=1).values\n",
    "y = df_training[target].sample(frac=1).values\n",
    "\n",
    "clf = RandomForestClassifier(max_depth=10, n_estimators=100)\n",
    "clf.fit(X, y)"
   ]
  },
  {
   "cell_type": "code",
   "execution_count": 263,
   "metadata": {},
   "outputs": [],
   "source": [
    "from sklearn.metrics import accuracy_score, f1_score, classification_report "
   ]
  },
  {
   "cell_type": "code",
   "execution_count": 264,
   "metadata": {},
   "outputs": [],
   "source": [
    "y_hat = clf.predict(X)"
   ]
  },
  {
   "cell_type": "code",
   "execution_count": 265,
   "metadata": {},
   "outputs": [
    {
     "name": "stdout",
     "output_type": "stream",
     "text": [
      "             precision    recall  f1-score   support\n",
      "\n",
      "          0       0.99      1.00      0.99    892101\n",
      "          1       1.00      0.00      0.00     11552\n",
      "\n",
      "avg / total       0.99      0.99      0.98    903653\n",
      "\n"
     ]
    }
   ],
   "source": [
    "print(classification_report(y, y_hat))"
   ]
  },
  {
   "cell_type": "markdown",
   "metadata": {},
   "source": [
    "Support just lists the value counts."
   ]
  },
  {
   "cell_type": "code",
   "execution_count": 266,
   "metadata": {},
   "outputs": [
    {
     "data": {
      "text/plain": [
       "array([892101,  11552])"
      ]
     },
     "execution_count": 266,
     "metadata": {},
     "output_type": "execute_result"
    }
   ],
   "source": [
    "np.unique(y, return_counts=True)[1]"
   ]
  },
  {
   "cell_type": "markdown",
   "metadata": {},
   "source": [
    "I do not understand why there are multiple f1-scores. Also, how can precision be so high while recall is zero?"
   ]
  },
  {
   "cell_type": "code",
   "execution_count": 248,
   "metadata": {},
   "outputs": [],
   "source": [
    "f1_score?"
   ]
  },
  {
   "cell_type": "code",
   "execution_count": 267,
   "metadata": {},
   "outputs": [
    {
     "data": {
      "text/plain": [
       "0.00017311520817103783"
      ]
     },
     "execution_count": 267,
     "metadata": {},
     "output_type": "execute_result"
    }
   ],
   "source": [
    "f1_score(y, y_hat)"
   ]
  },
  {
   "cell_type": "markdown",
   "metadata": {},
   "source": [
    "\n",
    "    ``'binary'``:\n",
    "        Only report results for the class specified by ``pos_label``.\n",
    "        This is applicable only if targets (``y_{true,pred}``) are binary.\n",
    "    ``'micro'``:\n",
    "        Calculate metrics globally by counting the total true positives,\n",
    "        false negatives and false positives.\n",
    "    ``'macro'``:\n",
    "        Calculate metrics for each label, and find their unweighted\n",
    "        mean.  This does not take label imbalance into account.\n",
    "    ``'weighted'``:\n",
    "        Calculate metrics for each label, and find their average, weighted\n",
    "        by support (the number of true instances for each label). This\n",
    "        alters 'macro' to account for label imbalance; it can result in an\n",
    "        F-score that is not between precision and recall.\n",
    "    ``'samples'``:\n",
    "        Calculate metrics for each instance, and find their average (only\n",
    "        meaningful for multilabel classification where this differs from\n",
    "        :func:`accuracy_score`).\n"
   ]
  },
  {
   "cell_type": "code",
   "execution_count": 268,
   "metadata": {},
   "outputs": [
    {
     "data": {
      "text/plain": [
       "0.9935676008894319"
      ]
     },
     "execution_count": 268,
     "metadata": {},
     "output_type": "execute_result"
    }
   ],
   "source": [
    "f1_score(y, y_hat, average='binary', pos_label=0)"
   ]
  },
  {
   "cell_type": "code",
   "execution_count": 269,
   "metadata": {},
   "outputs": [
    {
     "data": {
      "text/plain": [
       "0.00017311520817103783"
      ]
     },
     "execution_count": 269,
     "metadata": {},
     "output_type": "execute_result"
    }
   ],
   "source": [
    "f1_score(y, y_hat, average='binary', pos_label=1)"
   ]
  },
  {
   "cell_type": "code",
   "execution_count": 270,
   "metadata": {},
   "outputs": [
    {
     "data": {
      "text/plain": [
       "0.9872174385521876"
      ]
     },
     "execution_count": 270,
     "metadata": {},
     "output_type": "execute_result"
    }
   ],
   "source": [
    "f1_score(y, y_hat, average='micro')"
   ]
  },
  {
   "cell_type": "code",
   "execution_count": 271,
   "metadata": {},
   "outputs": [
    {
     "data": {
      "text/plain": [
       "0.4968703580488015"
      ]
     },
     "execution_count": 271,
     "metadata": {},
     "output_type": "execute_result"
    }
   ],
   "source": [
    "f1_score(y, y_hat, average='macro')"
   ]
  },
  {
   "cell_type": "code",
   "execution_count": 272,
   "metadata": {},
   "outputs": [
    {
     "data": {
      "text/plain": [
       "0.9808683755246183"
      ]
     },
     "execution_count": 272,
     "metadata": {},
     "output_type": "execute_result"
    }
   ],
   "source": [
    "f1_score(y, y_hat, average='weighted')"
   ]
  },
  {
   "cell_type": "markdown",
   "metadata": {},
   "source": [
    "I think recall is zero because no class was given a label of 1. Let's check the confusion matrix for class probabilities"
   ]
  },
  {
   "cell_type": "code",
   "execution_count": 231,
   "metadata": {},
   "outputs": [],
   "source": [
    "from sklearn.metrics import confusion_matrix"
   ]
  },
  {
   "cell_type": "code",
   "execution_count": 235,
   "metadata": {},
   "outputs": [
    {
     "data": {
      "text/plain": [
       "(903653,)"
      ]
     },
     "execution_count": 235,
     "metadata": {},
     "output_type": "execute_result"
    }
   ],
   "source": [
    "y.shape"
   ]
  },
  {
   "cell_type": "code",
   "execution_count": 234,
   "metadata": {},
   "outputs": [
    {
     "data": {
      "text/plain": [
       "array([[892101,      0],\n",
       "       [ 11548,      4]])"
      ]
     },
     "execution_count": 234,
     "metadata": {},
     "output_type": "execute_result"
    }
   ],
   "source": [
    "confusion_matrix(y, y_hat)"
   ]
  },
  {
   "cell_type": "code",
   "execution_count": 241,
   "metadata": {},
   "outputs": [
    {
     "data": {
      "text/plain": [
       "array([1.00000000e+02, 3.46260388e-02])"
      ]
     },
     "execution_count": 241,
     "metadata": {},
     "output_type": "execute_result"
    }
   ],
   "source": [
    "cmat = confusion_matrix(y, y_hat)\n",
    "cmat.diagonal() / cmat.sum(axis=1) * 100"
   ]
  },
  {
   "cell_type": "markdown",
   "metadata": {},
   "source": [
    "This is brutal. We only predicted 4/11548 right for the class of interest.\n",
    "\n",
    "I want to do the hyperparameter tuning with a better f-score metric. Trying to explitily tell it to use `binary`. I think it's doing weighted by default.\n",
    "\n",
    "AH! The problem before was that I didn't shuffle the samples around."
   ]
  },
  {
   "cell_type": "code",
   "execution_count": 260,
   "metadata": {},
   "outputs": [],
   "source": [
    "make_scorer?"
   ]
  },
  {
   "cell_type": "code",
   "execution_count": 286,
   "metadata": {},
   "outputs": [
    {
     "name": "stdout",
     "output_type": "stream",
     "text": [
      "[CV] max_depth=1.0 ...................................................\n"
     ]
    },
    {
     "name": "stderr",
     "output_type": "stream",
     "text": [
      "/anaconda3/lib/python3.6/site-packages/sklearn/metrics/classification.py:1135: UndefinedMetricWarning: F-score is ill-defined and being set to 0.0 due to no predicted samples.\n",
      "  'precision', 'predicted', average, warn_for)\n",
      "/anaconda3/lib/python3.6/site-packages/sklearn/metrics/classification.py:1135: UndefinedMetricWarning: F-score is ill-defined and being set to 0.0 due to no predicted samples.\n",
      "  'precision', 'predicted', average, warn_for)\n"
     ]
    },
    {
     "name": "stdout",
     "output_type": "stream",
     "text": [
      "[CV] ......................... max_depth=1.0, score=0.0, total=  24.2s\n",
      "[CV] max_depth=8.25 ..................................................\n"
     ]
    },
    {
     "name": "stderr",
     "output_type": "stream",
     "text": [
      "[Parallel(n_jobs=1)]: Done   1 out of   1 | elapsed:   28.0s remaining:    0.0s\n",
      "/anaconda3/lib/python3.6/site-packages/sklearn/metrics/classification.py:1135: UndefinedMetricWarning: F-score is ill-defined and being set to 0.0 due to no predicted samples.\n",
      "  'precision', 'predicted', average, warn_for)\n",
      "/anaconda3/lib/python3.6/site-packages/sklearn/metrics/classification.py:1135: UndefinedMetricWarning: F-score is ill-defined and being set to 0.0 due to no predicted samples.\n",
      "  'precision', 'predicted', average, warn_for)\n",
      "[Parallel(n_jobs=1)]: Done   2 out of   2 | elapsed:  1.9min remaining:    0.0s\n"
     ]
    },
    {
     "name": "stdout",
     "output_type": "stream",
     "text": [
      "[CV] ........................ max_depth=8.25, score=0.0, total= 1.3min\n",
      "[CV] max_depth=15.5 ..................................................\n"
     ]
    },
    {
     "name": "stderr",
     "output_type": "stream",
     "text": [
      "/anaconda3/lib/python3.6/site-packages/sklearn/metrics/classification.py:1135: UndefinedMetricWarning: F-score is ill-defined and being set to 0.0 due to no predicted samples.\n",
      "  'precision', 'predicted', average, warn_for)\n"
     ]
    },
    {
     "name": "stdout",
     "output_type": "stream",
     "text": [
      "[CV] ........................ max_depth=15.5, score=0.0, total= 2.4min\n",
      "[CV] max_depth=22.75 .................................................\n"
     ]
    },
    {
     "name": "stderr",
     "output_type": "stream",
     "text": [
      "[Parallel(n_jobs=1)]: Done   3 out of   3 | elapsed:  4.4min remaining:    0.0s\n",
      "/anaconda3/lib/python3.6/site-packages/sklearn/metrics/classification.py:1135: UndefinedMetricWarning: F-score is ill-defined and being set to 0.0 due to no predicted samples.\n",
      "  'precision', 'predicted', average, warn_for)\n"
     ]
    },
    {
     "name": "stdout",
     "output_type": "stream",
     "text": [
      "[CV] ....................... max_depth=22.75, score=0.0, total= 3.0min\n",
      "[CV] max_depth=30.0 ..................................................\n"
     ]
    },
    {
     "name": "stderr",
     "output_type": "stream",
     "text": [
      "[Parallel(n_jobs=1)]: Done   4 out of   4 | elapsed:  7.5min remaining:    0.0s\n"
     ]
    },
    {
     "name": "stdout",
     "output_type": "stream",
     "text": [
      "[CV] ........................ max_depth=30.0, score=0.0, total= 4.1min\n",
      "[CV] max_depth=1.0 ...................................................\n"
     ]
    },
    {
     "name": "stderr",
     "output_type": "stream",
     "text": [
      "[Parallel(n_jobs=1)]: Done   5 out of   5 | elapsed: 11.8min remaining:    0.0s\n",
      "/anaconda3/lib/python3.6/site-packages/sklearn/metrics/classification.py:1135: UndefinedMetricWarning: F-score is ill-defined and being set to 0.0 due to no predicted samples.\n",
      "  'precision', 'predicted', average, warn_for)\n",
      "/anaconda3/lib/python3.6/site-packages/sklearn/metrics/classification.py:1135: UndefinedMetricWarning: F-score is ill-defined and being set to 0.0 due to no predicted samples.\n",
      "  'precision', 'predicted', average, warn_for)\n"
     ]
    },
    {
     "name": "stdout",
     "output_type": "stream",
     "text": [
      "[CV] ......................... max_depth=1.0, score=0.0, total=  23.4s\n",
      "[CV] max_depth=8.25 ..................................................\n"
     ]
    },
    {
     "name": "stderr",
     "output_type": "stream",
     "text": [
      "[Parallel(n_jobs=1)]: Done   6 out of   6 | elapsed: 12.2min remaining:    0.0s\n",
      "/anaconda3/lib/python3.6/site-packages/sklearn/metrics/classification.py:1135: UndefinedMetricWarning: F-score is ill-defined and being set to 0.0 due to no predicted samples.\n",
      "  'precision', 'predicted', average, warn_for)\n",
      "/anaconda3/lib/python3.6/site-packages/sklearn/metrics/classification.py:1135: UndefinedMetricWarning: F-score is ill-defined and being set to 0.0 due to no predicted samples.\n",
      "  'precision', 'predicted', average, warn_for)\n"
     ]
    },
    {
     "name": "stdout",
     "output_type": "stream",
     "text": [
      "[CV] ........................ max_depth=8.25, score=0.0, total= 1.3min\n",
      "[CV] max_depth=15.5 ..................................................\n"
     ]
    },
    {
     "name": "stderr",
     "output_type": "stream",
     "text": [
      "[Parallel(n_jobs=1)]: Done   7 out of   7 | elapsed: 13.6min remaining:    0.0s\n",
      "/anaconda3/lib/python3.6/site-packages/sklearn/metrics/classification.py:1135: UndefinedMetricWarning: F-score is ill-defined and being set to 0.0 due to no predicted samples.\n",
      "  'precision', 'predicted', average, warn_for)\n"
     ]
    },
    {
     "name": "stdout",
     "output_type": "stream",
     "text": [
      "[CV] ........................ max_depth=15.5, score=0.0, total= 2.4min\n",
      "[CV] max_depth=22.75 .................................................\n"
     ]
    },
    {
     "name": "stderr",
     "output_type": "stream",
     "text": [
      "[Parallel(n_jobs=1)]: Done   8 out of   8 | elapsed: 16.2min remaining:    0.0s\n"
     ]
    },
    {
     "name": "stdout",
     "output_type": "stream",
     "text": [
      "[CV] ....................... max_depth=22.75, score=0.0, total= 3.7min\n"
     ]
    },
    {
     "name": "stderr",
     "output_type": "stream",
     "text": [
      "[Parallel(n_jobs=1)]: Done   9 out of   9 | elapsed: 20.1min remaining:    0.0s\n"
     ]
    },
    {
     "name": "stdout",
     "output_type": "stream",
     "text": [
      "[CV] max_depth=30.0 ..................................................\n",
      "[CV] ........................ max_depth=30.0, score=0.0, total= 4.9min\n",
      "[CV] max_depth=1.0 ...................................................\n"
     ]
    },
    {
     "name": "stderr",
     "output_type": "stream",
     "text": [
      "/anaconda3/lib/python3.6/site-packages/sklearn/metrics/classification.py:1135: UndefinedMetricWarning: F-score is ill-defined and being set to 0.0 due to no predicted samples.\n",
      "  'precision', 'predicted', average, warn_for)\n",
      "/anaconda3/lib/python3.6/site-packages/sklearn/metrics/classification.py:1135: UndefinedMetricWarning: F-score is ill-defined and being set to 0.0 due to no predicted samples.\n",
      "  'precision', 'predicted', average, warn_for)\n"
     ]
    },
    {
     "name": "stdout",
     "output_type": "stream",
     "text": [
      "[CV] ......................... max_depth=1.0, score=0.0, total=  24.8s\n",
      "[CV] max_depth=8.25 ..................................................\n"
     ]
    },
    {
     "name": "stderr",
     "output_type": "stream",
     "text": [
      "/anaconda3/lib/python3.6/site-packages/sklearn/metrics/classification.py:1135: UndefinedMetricWarning: F-score is ill-defined and being set to 0.0 due to no predicted samples.\n",
      "  'precision', 'predicted', average, warn_for)\n",
      "/anaconda3/lib/python3.6/site-packages/sklearn/metrics/classification.py:1135: UndefinedMetricWarning: F-score is ill-defined and being set to 0.0 due to no predicted samples.\n",
      "  'precision', 'predicted', average, warn_for)\n"
     ]
    },
    {
     "name": "stdout",
     "output_type": "stream",
     "text": [
      "[CV] ........................ max_depth=8.25, score=0.0, total= 1.5min\n",
      "[CV] max_depth=15.5 ..................................................\n"
     ]
    },
    {
     "name": "stderr",
     "output_type": "stream",
     "text": [
      "/anaconda3/lib/python3.6/site-packages/sklearn/metrics/classification.py:1135: UndefinedMetricWarning: F-score is ill-defined and being set to 0.0 due to no predicted samples.\n",
      "  'precision', 'predicted', average, warn_for)\n"
     ]
    },
    {
     "name": "stdout",
     "output_type": "stream",
     "text": [
      "[CV] ........................ max_depth=15.5, score=0.0, total= 2.4min\n"
     ]
    },
    {
     "name": "stderr",
     "output_type": "stream",
     "text": [
      "/anaconda3/lib/python3.6/site-packages/sklearn/metrics/classification.py:1135: UndefinedMetricWarning: F-score is ill-defined and being set to 0.0 due to no predicted samples.\n",
      "  'precision', 'predicted', average, warn_for)\n"
     ]
    },
    {
     "name": "stdout",
     "output_type": "stream",
     "text": [
      "[CV] max_depth=22.75 .................................................\n",
      "[CV] ....................... max_depth=22.75, score=0.0, total= 3.3min\n",
      "[CV] max_depth=30.0 ..................................................\n",
      "[CV] ...... max_depth=30.0, score=0.0008646779074794639, total= 4.9min\n",
      "[CV] max_depth=1.0 ...................................................\n"
     ]
    },
    {
     "name": "stderr",
     "output_type": "stream",
     "text": [
      "/anaconda3/lib/python3.6/site-packages/sklearn/metrics/classification.py:1135: UndefinedMetricWarning: F-score is ill-defined and being set to 0.0 due to no predicted samples.\n",
      "  'precision', 'predicted', average, warn_for)\n",
      "/anaconda3/lib/python3.6/site-packages/sklearn/metrics/classification.py:1135: UndefinedMetricWarning: F-score is ill-defined and being set to 0.0 due to no predicted samples.\n",
      "  'precision', 'predicted', average, warn_for)\n"
     ]
    },
    {
     "name": "stdout",
     "output_type": "stream",
     "text": [
      "[CV] ......................... max_depth=1.0, score=0.0, total=  29.5s\n"
     ]
    },
    {
     "name": "stderr",
     "output_type": "stream",
     "text": [
      "/anaconda3/lib/python3.6/site-packages/sklearn/metrics/classification.py:1135: UndefinedMetricWarning: F-score is ill-defined and being set to 0.0 due to no predicted samples.\n",
      "  'precision', 'predicted', average, warn_for)\n",
      "/anaconda3/lib/python3.6/site-packages/sklearn/metrics/classification.py:1135: UndefinedMetricWarning: F-score is ill-defined and being set to 0.0 due to no predicted samples.\n",
      "  'precision', 'predicted', average, warn_for)\n"
     ]
    },
    {
     "name": "stdout",
     "output_type": "stream",
     "text": [
      "[CV] max_depth=8.25 ..................................................\n",
      "[CV] ........................ max_depth=8.25, score=0.0, total= 2.1min\n",
      "[CV] max_depth=15.5 ..................................................\n"
     ]
    },
    {
     "name": "stderr",
     "output_type": "stream",
     "text": [
      "/anaconda3/lib/python3.6/site-packages/sklearn/metrics/classification.py:1135: UndefinedMetricWarning: F-score is ill-defined and being set to 0.0 due to no predicted samples.\n",
      "  'precision', 'predicted', average, warn_for)\n"
     ]
    },
    {
     "name": "stdout",
     "output_type": "stream",
     "text": [
      "[CV] ........................ max_depth=15.5, score=0.0, total= 3.0min\n",
      "[CV] max_depth=22.75 .................................................\n"
     ]
    },
    {
     "name": "stderr",
     "output_type": "stream",
     "text": [
      "/anaconda3/lib/python3.6/site-packages/sklearn/metrics/classification.py:1135: UndefinedMetricWarning: F-score is ill-defined and being set to 0.0 due to no predicted samples.\n",
      "  'precision', 'predicted', average, warn_for)\n"
     ]
    },
    {
     "name": "stdout",
     "output_type": "stream",
     "text": [
      "[CV] ....................... max_depth=22.75, score=0.0, total= 4.0min\n",
      "[CV] max_depth=30.0 ..................................................\n",
      "[CV] ........................ max_depth=30.0, score=0.0, total= 4.9min\n",
      "[CV] max_depth=1.0 ...................................................\n"
     ]
    },
    {
     "name": "stderr",
     "output_type": "stream",
     "text": [
      "/anaconda3/lib/python3.6/site-packages/sklearn/metrics/classification.py:1135: UndefinedMetricWarning: F-score is ill-defined and being set to 0.0 due to no predicted samples.\n",
      "  'precision', 'predicted', average, warn_for)\n",
      "/anaconda3/lib/python3.6/site-packages/sklearn/metrics/classification.py:1135: UndefinedMetricWarning: F-score is ill-defined and being set to 0.0 due to no predicted samples.\n",
      "  'precision', 'predicted', average, warn_for)\n"
     ]
    },
    {
     "name": "stdout",
     "output_type": "stream",
     "text": [
      "[CV] ......................... max_depth=1.0, score=0.0, total=  23.4s\n",
      "[CV] max_depth=8.25 ..................................................\n"
     ]
    },
    {
     "name": "stderr",
     "output_type": "stream",
     "text": [
      "/anaconda3/lib/python3.6/site-packages/sklearn/metrics/classification.py:1135: UndefinedMetricWarning: F-score is ill-defined and being set to 0.0 due to no predicted samples.\n",
      "  'precision', 'predicted', average, warn_for)\n",
      "/anaconda3/lib/python3.6/site-packages/sklearn/metrics/classification.py:1135: UndefinedMetricWarning: F-score is ill-defined and being set to 0.0 due to no predicted samples.\n",
      "  'precision', 'predicted', average, warn_for)\n"
     ]
    },
    {
     "name": "stdout",
     "output_type": "stream",
     "text": [
      "[CV] ........................ max_depth=8.25, score=0.0, total= 1.4min\n",
      "[CV] max_depth=15.5 ..................................................\n"
     ]
    },
    {
     "name": "stderr",
     "output_type": "stream",
     "text": [
      "/anaconda3/lib/python3.6/site-packages/sklearn/metrics/classification.py:1135: UndefinedMetricWarning: F-score is ill-defined and being set to 0.0 due to no predicted samples.\n",
      "  'precision', 'predicted', average, warn_for)\n"
     ]
    },
    {
     "name": "stdout",
     "output_type": "stream",
     "text": [
      "[CV] ........................ max_depth=15.5, score=0.0, total= 2.4min\n",
      "[CV] max_depth=22.75 .................................................\n",
      "[CV] ....................... max_depth=22.75, score=0.0, total= 3.5min\n",
      "[CV] max_depth=30.0 ..................................................\n",
      "[CV] ........................ max_depth=30.0, score=0.0, total= 3.7min\n",
      "CPU times: user 1h 4min 40s, sys: 3min 24s, total: 1h 8min 5s\n",
      "Wall time: 1h 5min 43s\n"
     ]
    },
    {
     "name": "stderr",
     "output_type": "stream",
     "text": [
      "[Parallel(n_jobs=1)]: Done  25 out of  25 | elapsed: 65.6min finished\n"
     ]
    }
   ],
   "source": [
    "%%time\n",
    "\n",
    "X = df_training[features].sample(frac=1).values\n",
    "y = df_training[target].sample(frac=1).values\n",
    "\n",
    "\n",
    "f1_binary_scorer = make_scorer(f1_score, average='binary', pos_label=1)\n",
    "\n",
    "clf_ = RandomForestClassifier(n_estimators=50)\n",
    "max_depths = np.linspace(1, 30, 5)\n",
    "\n",
    "train_scores, test_scores = validation_curve(\n",
    "            estimator=clf_,\n",
    "            X=X,\n",
    "            y=y,\n",
    "            param_name='max_depth',\n",
    "            param_range=max_depths,\n",
    "            cv=5,\n",
    "            verbose=10,\n",
    "            scoring=f1_binary_scorer,\n",
    ");"
   ]
  },
  {
   "cell_type": "code",
   "execution_count": 288,
   "metadata": {},
   "outputs": [
    {
     "data": {
      "text/plain": [
       "array([[0.        , 0.        , 0.        , 0.        , 0.        ],\n",
       "       [0.        , 0.        , 0.        , 0.        , 0.        ],\n",
       "       [0.00539607, 0.00604164, 0.00539549, 0.0064711 , 0.0064711 ],\n",
       "       [0.02394953, 0.02331551, 0.0237357 , 0.02352438, 0.02984438],\n",
       "       [0.0512442 , 0.05000527, 0.05247076, 0.04959375, 0.05656608]])"
      ]
     },
     "execution_count": 288,
     "metadata": {},
     "output_type": "execute_result"
    }
   ],
   "source": [
    "train_scores"
   ]
  },
  {
   "cell_type": "code",
   "execution_count": 289,
   "metadata": {},
   "outputs": [
    {
     "data": {
      "text/plain": [
       "array([[0.        , 0.        , 0.        , 0.        , 0.        ],\n",
       "       [0.        , 0.        , 0.        , 0.        , 0.        ],\n",
       "       [0.        , 0.        , 0.        , 0.        , 0.        ],\n",
       "       [0.        , 0.        , 0.        , 0.        , 0.        ],\n",
       "       [0.        , 0.        , 0.00086468, 0.        , 0.        ]])"
      ]
     },
     "execution_count": 289,
     "metadata": {},
     "output_type": "execute_result"
    }
   ],
   "source": [
    "test_scores"
   ]
  },
  {
   "cell_type": "code",
   "execution_count": 287,
   "metadata": {},
   "outputs": [
    {
     "data": {
      "image/png": "[encoded data removed]",
      "text/plain": [
       "<Figure size 432x288 with 1 Axes>"
      ]
     },
     "metadata": {
      "image/png": {
       "height": 293,
       "width": 423
      }
     },
     "output_type": "display_data"
    }
   ],
   "source": [
    "plot_validation_curve(\n",
    "    train_scores, test_scores,\n",
    "    max_depths, xlabel='max_depth'\n",
    ");"
   ]
  },
  {
   "cell_type": "markdown",
   "metadata": {},
   "source": [
    "Let's try using a custom scorer so we know exactly what should be happening"
   ]
  },
  {
   "cell_type": "code",
   "execution_count": 279,
   "metadata": {},
   "outputs": [],
   "source": [
    "def custom_score(y_true, y_pred):\n",
    "    \"\"\"\n",
    "    Return the accuracy for class 1.\n",
    "    \"\"\"\n",
    "    m = y_true == 1\n",
    "    return y_pred[m].sum() / m.sum()\n",
    "\n",
    "custom_scorer = make_scorer(custom_score)"
   ]
  },
  {
   "cell_type": "code",
   "execution_count": 281,
   "metadata": {},
   "outputs": [
    {
     "name": "stdout",
     "output_type": "stream",
     "text": [
      "CPU times: user 2.69 s, sys: 3.52 s, total: 6.21 s\n",
      "Wall time: 8.04 s\n"
     ]
    }
   ],
   "source": [
    "%%time\n",
    "\n",
    "X = df_training[features].sample(frac=0.1).values\n",
    "y = df_training[target].sample(frac=0.1).values\n",
    "\n",
    "clf = RandomForestClassifier(max_depth=10, n_estimators=10)\n",
    "clf.fit(X, y)"
   ]
  },
  {
   "cell_type": "code",
   "execution_count": 283,
   "metadata": {},
   "outputs": [
    {
     "data": {
      "text/plain": [
       "0.004359197907585004"
      ]
     },
     "execution_count": 283,
     "metadata": {},
     "output_type": "execute_result"
    }
   ],
   "source": [
    "custom_score(y, clf.predict(X))"
   ]
  },
  {
   "cell_type": "code",
   "execution_count": 285,
   "metadata": {},
   "outputs": [
    {
     "name": "stdout",
     "output_type": "stream",
     "text": [
      "[CV] max_depth=1.0 ...................................................\n",
      "[CV] ......................... max_depth=1.0, score=0.0, total=  13.1s\n",
      "[CV] max_depth=8.25 ..................................................\n"
     ]
    },
    {
     "name": "stderr",
     "output_type": "stream",
     "text": [
      "[Parallel(n_jobs=1)]: Done   1 out of   1 | elapsed:   14.7s remaining:    0.0s\n"
     ]
    },
    {
     "name": "stdout",
     "output_type": "stream",
     "text": [
      "[CV] ........................ max_depth=8.25, score=0.0, total=  22.4s\n",
      "[CV] max_depth=15.5 ..................................................\n"
     ]
    },
    {
     "name": "stderr",
     "output_type": "stream",
     "text": [
      "[Parallel(n_jobs=1)]: Done   2 out of   2 | elapsed:   38.8s remaining:    0.0s\n"
     ]
    },
    {
     "name": "stdout",
     "output_type": "stream",
     "text": [
      "[CV] ........................ max_depth=15.5, score=0.0, total=  31.8s\n"
     ]
    },
    {
     "name": "stderr",
     "output_type": "stream",
     "text": [
      "[Parallel(n_jobs=1)]: Done   3 out of   3 | elapsed:  1.2min remaining:    0.0s\n"
     ]
    },
    {
     "name": "stdout",
     "output_type": "stream",
     "text": [
      "[CV] max_depth=22.75 .................................................\n",
      "[CV] ....................... max_depth=22.75, score=0.0, total=  40.8s\n",
      "[CV] max_depth=30.0 ..................................................\n"
     ]
    },
    {
     "name": "stderr",
     "output_type": "stream",
     "text": [
      "[Parallel(n_jobs=1)]: Done   4 out of   4 | elapsed:  1.9min remaining:    0.0s\n"
     ]
    },
    {
     "name": "stdout",
     "output_type": "stream",
     "text": [
      "[CV] ..... max_depth=30.0, score=0.00043271311120726956, total= 1.2min\n",
      "[CV] max_depth=1.0 ..................................................."
     ]
    },
    {
     "name": "stderr",
     "output_type": "stream",
     "text": [
      "[Parallel(n_jobs=1)]: Done   5 out of   5 | elapsed:  3.1min remaining:    0.0s\n"
     ]
    },
    {
     "name": "stdout",
     "output_type": "stream",
     "text": [
      "\n",
      "[CV] ......................... max_depth=1.0, score=0.0, total=  14.8s\n",
      "[CV] max_depth=8.25 ..................................................\n"
     ]
    },
    {
     "name": "stderr",
     "output_type": "stream",
     "text": [
      "[Parallel(n_jobs=1)]: Done   6 out of   6 | elapsed:  3.4min remaining:    0.0s\n"
     ]
    },
    {
     "name": "stdout",
     "output_type": "stream",
     "text": [
      "[CV] ........................ max_depth=8.25, score=0.0, total=  34.3s\n",
      "[CV] max_depth=15.5 ..................................................\n"
     ]
    },
    {
     "name": "stderr",
     "output_type": "stream",
     "text": [
      "[Parallel(n_jobs=1)]: Done   7 out of   7 | elapsed:  4.0min remaining:    0.0s\n"
     ]
    },
    {
     "name": "stdout",
     "output_type": "stream",
     "text": [
      "[CV] ........................ max_depth=15.5, score=0.0, total=  37.2s\n",
      "[CV] max_depth=22.75 .................................................\n"
     ]
    },
    {
     "name": "stderr",
     "output_type": "stream",
     "text": [
      "[Parallel(n_jobs=1)]: Done   8 out of   8 | elapsed:  4.7min remaining:    0.0s\n"
     ]
    },
    {
     "name": "stdout",
     "output_type": "stream",
     "text": [
      "[CV] ....................... max_depth=22.75, score=0.0, total=  45.5s\n",
      "[CV] max_depth=30.0 ..................................................\n"
     ]
    },
    {
     "name": "stderr",
     "output_type": "stream",
     "text": [
      "[Parallel(n_jobs=1)]: Done   9 out of   9 | elapsed:  5.5min remaining:    0.0s\n"
     ]
    },
    {
     "name": "stdout",
     "output_type": "stream",
     "text": [
      "[CV] ........................ max_depth=30.0, score=0.0, total=  57.7s\n",
      "[CV] max_depth=1.0 ...................................................\n",
      "[CV] ......................... max_depth=1.0, score=0.0, total=  20.1s\n",
      "[CV] max_depth=8.25 ..................................................\n",
      "[CV] ........................ max_depth=8.25, score=0.0, total=  30.1s\n",
      "[CV] max_depth=15.5 ..................................................\n",
      "[CV] ........................ max_depth=15.5, score=0.0, total=  35.1s\n",
      "[CV] max_depth=22.75 .................................................\n",
      "[CV] ....................... max_depth=22.75, score=0.0, total=  48.8s\n",
      "[CV] max_depth=30.0 ..................................................\n",
      "[CV] ........................ max_depth=30.0, score=0.0, total=  58.4s\n",
      "[CV] max_depth=1.0 ...................................................\n",
      "[CV] ......................... max_depth=1.0, score=0.0, total=  15.0s\n",
      "[CV] max_depth=8.25 ..................................................\n",
      "[CV] ........................ max_depth=8.25, score=0.0, total=  30.5s\n",
      "[CV] max_depth=15.5 ..................................................\n",
      "[CV] ........................ max_depth=15.5, score=0.0, total=  38.9s\n",
      "[CV] max_depth=22.75 .................................................\n",
      "[CV] ....................... max_depth=22.75, score=0.0, total=  40.7s\n",
      "[CV] max_depth=30.0 ..................................................\n",
      "[CV] ........................ max_depth=30.0, score=0.0, total=  55.9s\n",
      "[CV] max_depth=1.0 ...................................................\n",
      "[CV] ......................... max_depth=1.0, score=0.0, total=  14.6s\n",
      "[CV] max_depth=8.25 ..................................................\n",
      "[CV] ........................ max_depth=8.25, score=0.0, total=  28.5s\n",
      "[CV] max_depth=15.5 ..................................................\n",
      "[CV] ........................ max_depth=15.5, score=0.0, total=  34.4s\n",
      "[CV] max_depth=22.75 .................................................\n",
      "[CV] ....................... max_depth=22.75, score=0.0, total=  43.8s\n",
      "[CV] max_depth=30.0 ..................................................\n",
      "[CV] ........................ max_depth=30.0, score=0.0, total=  53.2s\n",
      "CPU times: user 14min 35s, sys: 2min 10s, total: 16min 46s\n",
      "Wall time: 16min 21s\n"
     ]
    },
    {
     "name": "stderr",
     "output_type": "stream",
     "text": [
      "[Parallel(n_jobs=1)]: Done  25 out of  25 | elapsed: 16.2min finished\n"
     ]
    }
   ],
   "source": [
    "%%time\n",
    "\n",
    "X = df_training[features].sample(frac=1).values\n",
    "y = df_training[target].sample(frac=1).values\n",
    "\n",
    "clf_ = RandomForestClassifier(n_estimators=10)\n",
    "max_depths = np.linspace(1, 30, 5)\n",
    "\n",
    "train_scores, test_scores = validation_curve(\n",
    "            estimator=clf_,\n",
    "            X=X,\n",
    "            y=y,\n",
    "            param_name='max_depth',\n",
    "            param_range=max_depths,\n",
    "            cv=5,\n",
    "            verbose=10,\n",
    "            scoring=custom_scorer,\n",
    ");\n"
   ]
  },
  {
   "cell_type": "markdown",
   "metadata": {},
   "source": [
    "Since all I care about is finding patterns for converting segments, let's remove any sequences that do not exist for converting segments.\n",
    "\n",
    "It will also be interesting to look at the paths that get removed, along with their frequency "
   ]
  },
  {
   "cell_type": "code",
   "execution_count": 302,
   "metadata": {},
   "outputs": [
    {
     "name": "stdout",
     "output_type": "stream",
     "text": [
      "Make sure that only page path hashes are below...\n",
      "Index(['8f4f0025fb85213867ead12d84ea2e5055c357f971f9c8e7f1adb756',\n",
      "       '60a83762c35819646db68cf17badede7a3aad8ef7aee74e92601e59f',\n",
      "       '8da84501af62cb70f8ec1ef98f6f97fd350ed51b8d546561081af9fa',\n",
      "       '2000276390f3a9f47fab5d4125e23af8fde0ff61ec08dee32329174e',\n",
      "       '7a23cd532f76e62ea1680c6ce9d39a66ddae1135c4ed410f00d33370',\n",
      "       '11758686905a8d29d8675c2e4415a9442305bceb4801eb6dbe302913',\n",
      "       '2558b3124736f52244e4f2dc925c5193b6f9a729b4c39b9775cee6b6',\n",
      "       '3da3de095652c74e2ba50f29a3210b7fccc1b282928ed535176cf621',\n",
      "       '190d1a56703a1f86bfb124ef74e3a107fa878c751a442e92fdd42c1a',\n",
      "       '80c7edf12f2dc479b9132db75a9cff27bf8ed017460ffae3cc7ae4a3',\n",
      "       ...\n",
      "       '5002d08d178d4bafd0a76eae01e2cf35680dfef666f3647040f7bd41',\n",
      "       'ede7daaa6e0383b96c3beb451146ada320b401968e3e3eca06a65aad',\n",
      "       'd35a77b88f394037d30c14f262c4fe720fa445c5d12eb449e00e9f59',\n",
      "       '379b9dae4488d6313b80f63dd4fdd3665d70839fd28f840b8ca62bd5',\n",
      "       '06f4fb3becae81d82eaa02bad15e9ea0914fbee01a6a840b125bc907',\n",
      "       '933171b072eee4f650c9f8589eb62ec26d86115965d84339526c6d00',\n",
      "       '67fa0960e8deb85cb7f8239ed220c3be116208e503eb3a7273153a8b',\n",
      "       '69a4ebf3b44d617b08b5c70eb588c86d94bb7cfbcd75e0fe19b0e57a',\n",
      "       '1601dc8123a7faec3533faaa7b312f3241fc55302c19a9b7ea33dd04',\n",
      "       '1ccb7fc71e2d1adf49c80960f9c9f512dc52b917e9d388e31305eade'],\n",
      "      dtype='object', length=284)\n"
     ]
    }
   ],
   "source": [
    "print('Make sure that only page path hashes are below...')\n",
    "print(df_training[features].columns)"
   ]
  },
  {
   "cell_type": "code",
   "execution_count": 303,
   "metadata": {},
   "outputs": [],
   "source": [
    "m = df_training.transactions > 0\n",
    "# todo remove head()\n",
    "s = df_training[m][features].sum()\n",
    "page_path_hash_non_converting = s[s == 0].index.tolist()"
   ]
  },
  {
   "cell_type": "code",
   "execution_count": 304,
   "metadata": {},
   "outputs": [
    {
     "data": {
      "text/plain": [
       "Index([], dtype='object')"
      ]
     },
     "execution_count": 304,
     "metadata": {},
     "output_type": "execute_result"
    }
   ],
   "source": [
    "page_path_hash_non_converting = list(page_path_hash_non_converting)"
   ]
  },
  {
   "cell_type": "markdown",
   "metadata": {},
   "source": [
    "OK so there are no patterns that are unique to non-converters. Let's again try out our decision tree parameter search - this time over a wider range of max depth options."
   ]
  },
  {
   "cell_type": "code",
   "execution_count": 306,
   "metadata": {},
   "outputs": [],
   "source": [
    "# Function to draw the validation curve\n",
    "\n",
    "def plot_validation_curve(train_scores, test_scores,\n",
    "                          param_range, xlabel='', log=False):\n",
    "    '''\n",
    "    This code is from scikit-learn docs:\n",
    "    http://scikit-learn.org/stable/auto_examples/model_selection/plot_learning_curve.html\n",
    "    \n",
    "    Also here:\n",
    "    https://github.com/rasbt/python-machine-learning-book-2nd-edition/blob/master/code/ch06/ch06.ipynb\n",
    "    '''\n",
    "    train_mean = np.mean(train_scores, axis=1)\n",
    "    train_std = np.std(train_scores, axis=1)\n",
    "    test_mean = np.mean(test_scores, axis=1)\n",
    "    test_std = np.std(test_scores, axis=1)\n",
    "\n",
    "    fig = plt.figure()\n",
    "    \n",
    "    plt.plot(param_range, train_mean, \n",
    "             color=sns.color_palette('Set1')[1], marker='o', \n",
    "             markersize=5, label='training accuracy')\n",
    "\n",
    "    plt.fill_between(param_range, train_mean + train_std,\n",
    "                     train_mean - train_std, alpha=0.15,\n",
    "                     color=sns.color_palette('Set1')[1])\n",
    "\n",
    "    plt.plot(param_range, test_mean, \n",
    "             color=sns.color_palette('Set1')[0], linestyle='--', \n",
    "             marker='s', markersize=5, \n",
    "             label='validation accuracy')\n",
    "\n",
    "    plt.fill_between(param_range, \n",
    "                     test_mean + test_std,\n",
    "                     test_mean - test_std, \n",
    "                     alpha=0.15, color=sns.color_palette('Set1')[0])\n",
    "\n",
    "    if log:\n",
    "        plt.xscale('log')\n",
    "    plt.legend(loc='lower right')\n",
    "    if xlabel:\n",
    "        plt.xlabel(xlabel)\n",
    "    plt.ylabel('Score')\n",
    "#     plt.ylim(0.9, 1.0)\n",
    "    return fig\n"
   ]
  },
  {
   "cell_type": "code",
   "execution_count": null,
   "metadata": {},
   "outputs": [
    {
     "name": "stdout",
     "output_type": "stream",
     "text": [
      "[CV] max_depth=1.0 ...................................................\n"
     ]
    },
    {
     "name": "stderr",
     "output_type": "stream",
     "text": [
      "/anaconda3/lib/python3.6/site-packages/sklearn/metrics/classification.py:1135: UndefinedMetricWarning: F-score is ill-defined and being set to 0.0 due to no predicted samples.\n",
      "  'precision', 'predicted', average, warn_for)\n",
      "/anaconda3/lib/python3.6/site-packages/sklearn/metrics/classification.py:1135: UndefinedMetricWarning: F-score is ill-defined and being set to 0.0 due to no predicted samples.\n",
      "  'precision', 'predicted', average, warn_for)\n",
      "[Parallel(n_jobs=1)]: Done   1 out of   1 | elapsed:   45.8s remaining:    0.0s\n"
     ]
    },
    {
     "name": "stdout",
     "output_type": "stream",
     "text": [
      "[CV] ......................... max_depth=1.0, score=0.0, total=  38.8s\n",
      "[CV] max_depth=12.0 ..................................................\n"
     ]
    },
    {
     "name": "stderr",
     "output_type": "stream",
     "text": [
      "/anaconda3/lib/python3.6/site-packages/sklearn/metrics/classification.py:1135: UndefinedMetricWarning: F-score is ill-defined and being set to 0.0 due to no predicted samples.\n",
      "  'precision', 'predicted', average, warn_for)\n"
     ]
    },
    {
     "name": "stdout",
     "output_type": "stream",
     "text": [
      "[CV] ........................ max_depth=12.0, score=0.0, total= 3.4min\n",
      "[CV] max_depth=23.0 ..................................................\n"
     ]
    },
    {
     "name": "stderr",
     "output_type": "stream",
     "text": [
      "[Parallel(n_jobs=1)]: Done   2 out of   2 | elapsed:  4.3min remaining:    0.0s\n",
      "/anaconda3/lib/python3.6/site-packages/sklearn/metrics/classification.py:1135: UndefinedMetricWarning: F-score is ill-defined and being set to 0.0 due to no predicted samples.\n",
      "  'precision', 'predicted', average, warn_for)\n"
     ]
    },
    {
     "name": "stdout",
     "output_type": "stream",
     "text": [
      "[CV] ........................ max_depth=23.0, score=0.0, total= 6.1min\n"
     ]
    },
    {
     "name": "stderr",
     "output_type": "stream",
     "text": [
      "[Parallel(n_jobs=1)]: Done   3 out of   3 | elapsed: 10.6min remaining:    0.0s\n"
     ]
    },
    {
     "name": "stdout",
     "output_type": "stream",
     "text": [
      "[CV] max_depth=34.0 ..................................................\n",
      "[CV] ........................ max_depth=34.0, score=0.0, total= 8.3min\n"
     ]
    },
    {
     "name": "stderr",
     "output_type": "stream",
     "text": [
      "[Parallel(n_jobs=1)]: Done   4 out of   4 | elapsed: 19.2min remaining:    0.0s\n"
     ]
    },
    {
     "name": "stdout",
     "output_type": "stream",
     "text": [
      "[CV] max_depth=45.0 ..................................................\n",
      "[CV] ........................ max_depth=45.0, score=0.0, total=10.3min\n",
      "[CV] max_depth=56.0 ..................................................\n"
     ]
    },
    {
     "name": "stderr",
     "output_type": "stream",
     "text": [
      "[Parallel(n_jobs=1)]: Done   5 out of   5 | elapsed: 29.8min remaining:    0.0s\n"
     ]
    },
    {
     "name": "stdout",
     "output_type": "stream",
     "text": [
      "[CV] ........................ max_depth=56.0, score=0.0, total=12.5min\n"
     ]
    },
    {
     "name": "stderr",
     "output_type": "stream",
     "text": [
      "[Parallel(n_jobs=1)]: Done   6 out of   6 | elapsed: 42.7min remaining:    0.0s\n"
     ]
    },
    {
     "name": "stdout",
     "output_type": "stream",
     "text": [
      "[CV] max_depth=67.0 ..................................................\n",
      "[CV] ...... max_depth=67.0, score=0.0008547008547008547, total=13.1min\n",
      "[CV] max_depth=78.0 ..................................................\n"
     ]
    },
    {
     "name": "stderr",
     "output_type": "stream",
     "text": [
      "[Parallel(n_jobs=1)]: Done   7 out of   7 | elapsed: 56.2min remaining:    0.0s\n"
     ]
    },
    {
     "name": "stdout",
     "output_type": "stream",
     "text": [
      "[CV] ...... max_depth=78.0, score=0.0008528784648187633, total=13.2min\n",
      "[CV] max_depth=89.0 ..................................................\n"
     ]
    },
    {
     "name": "stderr",
     "output_type": "stream",
     "text": [
      "[Parallel(n_jobs=1)]: Done   8 out of   8 | elapsed: 69.8min remaining:    0.0s\n"
     ]
    },
    {
     "name": "stdout",
     "output_type": "stream",
     "text": [
      "[CV] ...... max_depth=89.0, score=0.0008514261387824606, total=13.9min\n",
      "[CV] max_depth=100.0 .................................................\n"
     ]
    },
    {
     "name": "stderr",
     "output_type": "stream",
     "text": [
      "[Parallel(n_jobs=1)]: Done   9 out of   9 | elapsed: 84.1min remaining:    0.0s\n"
     ]
    },
    {
     "name": "stdout",
     "output_type": "stream",
     "text": [
      "[CV] ..... max_depth=100.0, score=0.0008507018290089323, total=13.9min\n",
      "[CV] max_depth=1.0 ...................................................\n"
     ]
    },
    {
     "name": "stderr",
     "output_type": "stream",
     "text": [
      "/anaconda3/lib/python3.6/site-packages/sklearn/metrics/classification.py:1135: UndefinedMetricWarning: F-score is ill-defined and being set to 0.0 due to no predicted samples.\n",
      "  'precision', 'predicted', average, warn_for)\n",
      "/anaconda3/lib/python3.6/site-packages/sklearn/metrics/classification.py:1135: UndefinedMetricWarning: F-score is ill-defined and being set to 0.0 due to no predicted samples.\n",
      "  'precision', 'predicted', average, warn_for)\n"
     ]
    },
    {
     "name": "stdout",
     "output_type": "stream",
     "text": [
      "[CV] ......................... max_depth=1.0, score=0.0, total=  34.2s\n",
      "[CV] max_depth=12.0 ..................................................\n"
     ]
    },
    {
     "name": "stderr",
     "output_type": "stream",
     "text": [
      "/anaconda3/lib/python3.6/site-packages/sklearn/metrics/classification.py:1135: UndefinedMetricWarning: F-score is ill-defined and being set to 0.0 due to no predicted samples.\n",
      "  'precision', 'predicted', average, warn_for)\n"
     ]
    },
    {
     "name": "stdout",
     "output_type": "stream",
     "text": [
      "[CV] ........................ max_depth=12.0, score=0.0, total= 3.3min\n",
      "[CV] max_depth=23.0 ..................................................\n",
      "[CV] ........................ max_depth=23.0, score=0.0, total= 5.8min\n",
      "[CV] max_depth=34.0 ..................................................\n",
      "[CV] ........................ max_depth=34.0, score=0.0, total= 8.0min\n",
      "[CV] max_depth=45.0 ..................................................\n",
      "[CV] ........................ max_depth=45.0, score=0.0, total=10.3min\n",
      "[CV] max_depth=56.0 ..................................................\n",
      "[CV] ........................ max_depth=56.0, score=0.0, total=12.8min\n",
      "[CV] max_depth=67.0 ..................................................\n",
      "[CV] ...... max_depth=67.0, score=0.0008583690987124464, total=13.3min\n",
      "[CV] max_depth=78.0 ..................................................\n",
      "[CV] ...... max_depth=78.0, score=0.0008565310492505354, total=14.0min\n",
      "[CV] max_depth=89.0 ..................................................\n",
      "[CV] ...... max_depth=89.0, score=0.0008557980316645273, total=14.3min\n",
      "[CV] max_depth=100.0 .................................................\n",
      "[CV] ..... max_depth=100.0, score=0.0008565310492505354, total=14.1min\n",
      "[CV] max_depth=1.0 ...................................................\n"
     ]
    },
    {
     "name": "stderr",
     "output_type": "stream",
     "text": [
      "/anaconda3/lib/python3.6/site-packages/sklearn/metrics/classification.py:1135: UndefinedMetricWarning: F-score is ill-defined and being set to 0.0 due to no predicted samples.\n",
      "  'precision', 'predicted', average, warn_for)\n",
      "/anaconda3/lib/python3.6/site-packages/sklearn/metrics/classification.py:1135: UndefinedMetricWarning: F-score is ill-defined and being set to 0.0 due to no predicted samples.\n",
      "  'precision', 'predicted', average, warn_for)\n"
     ]
    },
    {
     "name": "stdout",
     "output_type": "stream",
     "text": [
      "[CV] ......................... max_depth=1.0, score=0.0, total=  33.1s\n",
      "[CV] max_depth=12.0 ..................................................\n"
     ]
    },
    {
     "name": "stderr",
     "output_type": "stream",
     "text": [
      "/anaconda3/lib/python3.6/site-packages/sklearn/metrics/classification.py:1135: UndefinedMetricWarning: F-score is ill-defined and being set to 0.0 due to no predicted samples.\n",
      "  'precision', 'predicted', average, warn_for)\n"
     ]
    },
    {
     "name": "stdout",
     "output_type": "stream",
     "text": [
      "[CV] ........................ max_depth=12.0, score=0.0, total= 3.2min\n",
      "[CV] max_depth=23.0 ..................................................\n"
     ]
    },
    {
     "name": "stderr",
     "output_type": "stream",
     "text": [
      "/anaconda3/lib/python3.6/site-packages/sklearn/metrics/classification.py:1135: UndefinedMetricWarning: F-score is ill-defined and being set to 0.0 due to no predicted samples.\n",
      "  'precision', 'predicted', average, warn_for)\n"
     ]
    },
    {
     "name": "stdout",
     "output_type": "stream",
     "text": [
      "[CV] ........................ max_depth=23.0, score=0.0, total= 5.6min\n",
      "[CV] max_depth=34.0 ..................................................\n",
      "[CV] ........................ max_depth=34.0, score=0.0, total= 7.6min\n",
      "[CV] max_depth=45.0 ..................................................\n",
      "[CV] ........................ max_depth=45.0, score=0.0, total= 9.0min\n",
      "[CV] max_depth=56.0 ..................................................\n",
      "[CV] ........................ max_depth=56.0, score=0.0, total=10.4min\n",
      "[CV] max_depth=67.0 ..................................................\n",
      "[CV] ........................ max_depth=67.0, score=0.0, total=11.5min\n",
      "[CV] max_depth=78.0 ..................................................\n",
      "[CV] ........................ max_depth=78.0, score=0.0, total=12.5min\n",
      "[CV] max_depth=89.0 ..................................................\n",
      "[CV] ........................ max_depth=89.0, score=0.0, total=13.4min\n",
      "[CV] max_depth=100.0 .................................................\n",
      "[CV] ....................... max_depth=100.0, score=0.0, total=14.5min\n",
      "[CV] max_depth=1.0 ...................................................\n"
     ]
    },
    {
     "name": "stderr",
     "output_type": "stream",
     "text": [
      "/anaconda3/lib/python3.6/site-packages/sklearn/metrics/classification.py:1135: UndefinedMetricWarning: F-score is ill-defined and being set to 0.0 due to no predicted samples.\n",
      "  'precision', 'predicted', average, warn_for)\n",
      "/anaconda3/lib/python3.6/site-packages/sklearn/metrics/classification.py:1135: UndefinedMetricWarning: F-score is ill-defined and being set to 0.0 due to no predicted samples.\n",
      "  'precision', 'predicted', average, warn_for)\n"
     ]
    },
    {
     "name": "stdout",
     "output_type": "stream",
     "text": [
      "[CV] ......................... max_depth=1.0, score=0.0, total=  37.9s\n"
     ]
    },
    {
     "name": "stderr",
     "output_type": "stream",
     "text": [
      "/anaconda3/lib/python3.6/site-packages/sklearn/metrics/classification.py:1135: UndefinedMetricWarning: F-score is ill-defined and being set to 0.0 due to no predicted samples.\n",
      "  'precision', 'predicted', average, warn_for)\n"
     ]
    },
    {
     "name": "stdout",
     "output_type": "stream",
     "text": [
      "[CV] max_depth=12.0 ..................................................\n",
      "[CV] ........................ max_depth=12.0, score=0.0, total= 3.7min\n",
      "[CV] max_depth=23.0 ..................................................\n",
      "[CV] ........................ max_depth=23.0, score=0.0, total= 6.6min\n",
      "[CV] max_depth=34.0 ..................................................\n",
      "[CV] ........................ max_depth=34.0, score=0.0, total= 8.6min\n",
      "[CV] max_depth=45.0 ..................................................\n",
      "[CV] ........................ max_depth=45.0, score=0.0, total=10.3min\n",
      "[CV] max_depth=56.0 ..................................................\n",
      "[CV] ........................ max_depth=56.0, score=0.0, total=11.0min\n",
      "[CV] max_depth=67.0 ..................................................\n",
      "[CV] ........................ max_depth=67.0, score=0.0, total=11.7min\n",
      "[CV] max_depth=78.0 ..................................................\n",
      "[CV] ........................ max_depth=78.0, score=0.0, total=12.9min\n",
      "[CV] max_depth=89.0 ..................................................\n",
      "[CV] ........................ max_depth=89.0, score=0.0, total=15.5min\n",
      "[CV] max_depth=100.0 .................................................\n",
      "[CV] ....................... max_depth=100.0, score=0.0, total=16.0min\n",
      "[CV] max_depth=1.0 ...................................................\n"
     ]
    },
    {
     "name": "stderr",
     "output_type": "stream",
     "text": [
      "/anaconda3/lib/python3.6/site-packages/sklearn/metrics/classification.py:1135: UndefinedMetricWarning: F-score is ill-defined and being set to 0.0 due to no predicted samples.\n",
      "  'precision', 'predicted', average, warn_for)\n",
      "/anaconda3/lib/python3.6/site-packages/sklearn/metrics/classification.py:1135: UndefinedMetricWarning: F-score is ill-defined and being set to 0.0 due to no predicted samples.\n",
      "  'precision', 'predicted', average, warn_for)\n"
     ]
    },
    {
     "name": "stdout",
     "output_type": "stream",
     "text": [
      "[CV] ......................... max_depth=1.0, score=0.0, total=  36.4s\n",
      "[CV] max_depth=12.0 ..................................................\n"
     ]
    },
    {
     "name": "stderr",
     "output_type": "stream",
     "text": [
      "/anaconda3/lib/python3.6/site-packages/sklearn/metrics/classification.py:1135: UndefinedMetricWarning: F-score is ill-defined and being set to 0.0 due to no predicted samples.\n",
      "  'precision', 'predicted', average, warn_for)\n"
     ]
    },
    {
     "name": "stdout",
     "output_type": "stream",
     "text": [
      "[CV] ........................ max_depth=12.0, score=0.0, total= 3.6min\n",
      "[CV] max_depth=23.0 ..................................................\n",
      "[CV] ........................ max_depth=23.0, score=0.0, total= 6.5min\n",
      "[CV] max_depth=34.0 ..................................................\n",
      "[CV] ........................ max_depth=34.0, score=0.0, total= 8.4min\n",
      "[CV] max_depth=45.0 ..................................................\n",
      "[CV] ........................ max_depth=45.0, score=0.0, total=10.5min\n",
      "[CV] max_depth=56.0 ..................................................\n",
      "[CV] ........................ max_depth=56.0, score=0.0, total=12.3min\n",
      "[CV] max_depth=67.0 ..................................................\n",
      "[CV] ...... max_depth=67.0, score=0.0008565310492505355, total=13.7min\n",
      "[CV] max_depth=78.0 ..................................................\n"
     ]
    }
   ],
   "source": [
    "%%time\n",
    "\n",
    "X = df_training[features].sample(frac=1).values\n",
    "y = df_training[target].sample(frac=1).values\n",
    "\n",
    "clf_ = RandomForestClassifier(n_estimators=100)\n",
    "max_depths = np.linspace(1, 100, 10)\n",
    "\n",
    "train_scores, test_scores = validation_curve(\n",
    "            estimator=clf_,\n",
    "            X=X,\n",
    "            y=y,\n",
    "            param_name='max_depth',\n",
    "            param_range=max_depths,\n",
    "            cv=5,\n",
    "            verbose=10,\n",
    "            scoring=make_scorer(f1_score, average='binary', pos_label=1),\n",
    ");"
   ]
  },
  {
   "cell_type": "code",
   "execution_count": null,
   "metadata": {},
   "outputs": [],
   "source": [
    "plot_validation_curve(\n",
    "    train_scores, test_scores,\n",
    "    max_depths, xlabel='max_depth'\n",
    ");"
   ]
  },
  {
   "cell_type": "code",
   "execution_count": null,
   "metadata": {},
   "outputs": [],
   "source": []
  },
  {
   "cell_type": "code",
   "execution_count": null,
   "metadata": {},
   "outputs": [],
   "source": []
  },
  {
   "cell_type": "code",
   "execution_count": null,
   "metadata": {},
   "outputs": [],
   "source": []
  },
  {
   "cell_type": "code",
   "execution_count": null,
   "metadata": {},
   "outputs": [],
   "source": []
  },
  {
   "cell_type": "code",
   "execution_count": null,
   "metadata": {},
   "outputs": [],
   "source": []
  },
  {
   "cell_type": "code",
   "execution_count": null,
   "metadata": {},
   "outputs": [],
   "source": []
  },
  {
   "cell_type": "code",
   "execution_count": null,
   "metadata": {},
   "outputs": [],
   "source": []
  },
  {
   "cell_type": "code",
   "execution_count": null,
   "metadata": {},
   "outputs": [],
   "source": []
  },
  {
   "cell_type": "code",
   "execution_count": null,
   "metadata": {},
   "outputs": [],
   "source": []
  },
  {
   "cell_type": "code",
   "execution_count": null,
   "metadata": {},
   "outputs": [],
   "source": []
  },
  {
   "cell_type": "markdown",
   "metadata": {},
   "source": [
    "### Page sequence trends over time"
   ]
  },
  {
   "cell_type": "code",
   "execution_count": null,
   "metadata": {},
   "outputs": [],
   "source": []
  },
  {
   "cell_type": "code",
   "execution_count": null,
   "metadata": {},
   "outputs": [],
   "source": []
  },
  {
   "cell_type": "code",
   "execution_count": null,
   "metadata": {},
   "outputs": [],
   "source": []
  },
  {
   "cell_type": "markdown",
   "metadata": {},
   "source": [
    "### Top page transitions\n",
    "\n",
    "Given a specific page, what's the probability of going to each other page? Where does site exits rank in here."
   ]
  },
  {
   "cell_type": "code",
   "execution_count": null,
   "metadata": {},
   "outputs": [],
   "source": []
  },
  {
   "cell_type": "code",
   "execution_count": null,
   "metadata": {},
   "outputs": [],
   "source": []
  },
  {
   "cell_type": "code",
   "execution_count": null,
   "metadata": {},
   "outputs": [],
   "source": []
  },
  {
   "cell_type": "code",
   "execution_count": null,
   "metadata": {},
   "outputs": [],
   "source": []
  },
  {
   "cell_type": "code",
   "execution_count": null,
   "metadata": {},
   "outputs": [],
   "source": []
  },
  {
   "cell_type": "markdown",
   "metadata": {},
   "source": [
    "### TODO\n",
    "\n",
    "- Add DATA_PATH global variable to Gdrive. Move `interim` files\n",
    "\n",
    "\n",
    "- Predict purchase intent with decision tree. Look at top features. Feature engineering ideas:\n",
    "    - Split out into converting and non-converting segments\n",
    "    - Split out into mobile vs desktop\n",
    "\n",
    "\n",
    "- See how page sequence trends change over time\n",
    "- Given a specific page, what's the most common next page(s)?"
   ]
  },
  {
   "cell_type": "code",
   "execution_count": null,
   "metadata": {},
   "outputs": [],
   "source": []
  },
  {
   "cell_type": "code",
   "execution_count": null,
   "metadata": {},
   "outputs": [],
   "source": []
  },
  {
   "cell_type": "code",
   "execution_count": null,
   "metadata": {},
   "outputs": [],
   "source": []
  },
  {
   "cell_type": "code",
   "execution_count": null,
   "metadata": {},
   "outputs": [],
   "source": []
  },
  {
   "cell_type": "code",
   "execution_count": 58,
   "metadata": {},
   "outputs": [
    {
     "data": {
      "text/html": [
       "<style>div.text_cell_render{font-size:130%;padding-top:50px;padding-bottom:50px}</style>"
      ],
      "text/plain": [
       "<IPython.core.display.HTML object>"
      ]
     },
     "execution_count": 58,
     "metadata": {},
     "output_type": "execute_result"
    }
   ],
   "source": [
    "from IPython.display import HTML\n",
    "HTML('<style>div.text_cell_render{font-size:130%;padding-top:50px;padding-bottom:50px}</style>')"
   ]
  },
  {
   "cell_type": "code",
   "execution_count": null,
   "metadata": {},
   "outputs": [],
   "source": []
  }
 ],
 "metadata": {
  "hide_input": false,
  "kernelspec": {
   "display_name": "Python [default]",
   "language": "python",
   "name": "python3"
  },
  "language_info": {
   "codemirror_mode": {
    "name": "ipython",
    "version": 3
   },
   "file_extension": ".py",
   "mimetype": "text/x-python",
   "name": "python",
   "nbconvert_exporter": "python",
   "pygments_lexer": "ipython3",
   "version": "3.6.8"
  },
  "toc": {
   "base_numbering": 1,
   "nav_menu": {},
   "number_sections": true,
   "sideBar": true,
   "skip_h1_title": false,
   "title_cell": "Table of Contents",
   "title_sidebar": "Contents",
   "toc_cell": false,
   "toc_position": {},
   "toc_section_display": true,
   "toc_window_display": false
  },
  "varInspector": {
   "cols": {
    "lenName": 16,
    "lenType": 16,
    "lenVar": 40
   },
   "kernels_config": {
    "python": {
     "delete_cmd_postfix": "",
     "delete_cmd_prefix": "del ",
     "library": "var_list.py",
     "varRefreshCmd": "print(var_dic_list())"
    },
    "r": {
     "delete_cmd_postfix": ") ",
     "delete_cmd_prefix": "rm(",
     "library": "var_list.r",
     "varRefreshCmd": "cat(var_dic_list()) "
    }
   },
   "types_to_exclude": [
    "module",
    "function",
    "builtin_function_or_method",
    "instance",
    "_Feature"
   ],
   "window_display": false
  }
 },
 "nbformat": 4,
 "nbformat_minor": 2
}
